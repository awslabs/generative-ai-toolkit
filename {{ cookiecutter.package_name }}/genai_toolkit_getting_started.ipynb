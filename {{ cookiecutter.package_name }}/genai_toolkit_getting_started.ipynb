{
 "cells": [
  {
   "cell_type": "code",
   "execution_count": 1,
   "id": "ac4f546fc5955d81",
   "metadata": {
    "ExecuteTime": {
     "end_time": "2024-08-13T11:19:54.147544Z",
     "start_time": "2024-08-13T11:19:54.115079Z"
    }
   },
   "outputs": [],
   "source": [
    "\"\"\"\n",
    "Copyright 2024 Amazon.com, Inc. and its affiliates. All Rights Reserved.\n",
    "\n",
    "Licensed under the Amazon Software License (the \"License\").\n",
    "You may not use this file except in compliance with the License.\n",
    "A copy of the License is located at\n",
    "\n",
    "  https://aws.amazon.com/asl/\n",
    "\n",
    "or in the \"license\" file accompanying this file. This file is distributed\n",
    "on an \"AS IS\" BASIS, WITHOUT WARRANTIES OR CONDITIONS OF ANY KIND, either\n",
    "express or implied. See the License for the specific language governing\n",
    "permissions and limitations under the License.\n",
    "\"\"\";"
   ]
  },
  {
   "cell_type": "markdown",
   "id": "ee715781dfa2e5e7",
   "metadata": {
    "collapsed": false
   },
   "source": [
    "# LLM Tookit with BedrockConverseAgent\n",
    "\n",
    "This notebook demonstrates how to use the LLM Tookit to build an agent and collect metrics against it.\n"
   ]
  },
  {
   "cell_type": "markdown",
   "id": "8d4ad6e449949587",
   "metadata": {
    "collapsed": false
   },
   "source": [
    "## 1 Import Libraries\n",
    "\n",
    "Note: the first time you run this in a new Python environment, it may take a minute"
   ]
  },
  {
   "cell_type": "code",
   "execution_count": null,
   "id": "57020c5959ce9828",
   "metadata": {
    "ExecuteTime": {
     "end_time": "2024-08-13T11:19:55.025630Z",
     "start_time": "2024-08-13T11:19:54.121083Z"
    }
   },
   "outputs": [],
   "source": [
    "import textwrap\n",
    "import random\n",
    "from generative_ai_toolkit.evaluate.interactive import GenerativeAIToolkit, Permute\n",
    "from generative_ai_toolkit.metrics.modules.cost import CostMetric\n",
    "from generative_ai_toolkit.metrics.modules.token import TokensMetric\n",
    "from generative_ai_toolkit.metrics.modules.latency import LatencyMetric\n",
    "from generative_ai_toolkit.metrics.modules.conversation import ConversationExpectationMetric\n",
    "from generative_ai_toolkit.agent import BedrockConverseAgent\n",
    "from generative_ai_toolkit.test import Case\n",
    "from generative_ai_toolkit.metrics.modules.similarity import AgentResponseSimilarityMetric\n",
    "from generative_ai_toolkit.metrics.modules.conciseness import AgentResponseConcisenessMetric\n",
    "from generative_ai_toolkit.metrics.modules.bleu import BleuMetric\n",
    "\n",
    "# This makes viewing dataframes in the notebook nicer (eg adds sorting and filtering):\n",
    "from itables import init_notebook_mode\n",
    "\n",
    "init_notebook_mode(all_interactive=True)"
   ]
  },
  {
   "cell_type": "markdown",
   "id": "4feab1873e6e3467",
   "metadata": {
    "collapsed": false
   },
   "source": [
    "## 2 Define Sample Agent Tools and System Prompt\n"
   ]
  },
  {
   "cell_type": "code",
   "execution_count": 3,
   "id": "1a56bd57ef689047",
   "metadata": {
    "ExecuteTime": {
     "end_time": "2024-08-13T11:19:55.032929Z",
     "start_time": "2024-08-13T11:19:55.031098Z"
    }
   },
   "outputs": [],
   "source": [
    "#######\n",
    "# Define some sample tools\n",
    "#######\n",
    "\n",
    "\n",
    "def get_current_location():\n",
    "    \"\"\"Gets the user's current location off of the car's GPS device, so you don't have to ask the user.\"\"\"\n",
    "\n",
    "    return {\"latitude\": 52.00667000, \"longitude\": 4.35556000}\n",
    "\n",
    "\n",
    "def get_interesting_things_to_do(\n",
    "    current_location: list[float], max_drive_time_minutes: int\n",
    "):\n",
    "    \"\"\"\n",
    "    Gets a list of interesting things to do based on the user's current location and the maximum time the user is willing to drive to get to the thing. You still need to filter the returned list by what the user is actually interested in doing.\n",
    "\n",
    "    Parameters\n",
    "    ----------\n",
    "    current_location : list of float\n",
    "        A list containing the latitude and longitude of the location, e.g. (52.520645, 13.409440)\n",
    "    max_drive_time_minutes : int\n",
    "        The maximum number of minutes the user is willing to drive. Make sure the user provided this information, or ask otherwise.\n",
    "    \"\"\"\n",
    "\n",
    "    lat, long = current_location\n",
    "\n",
    "    return {\n",
    "        \"interesting_things\": [\n",
    "            thing\n",
    "            for thing in [\n",
    "                {\n",
    "                    \"name\": \"Museum of Modern Art\",\n",
    "                    \"description\": \"The Museum of Modern Art is renowned for its comprehensive collection of contemporary and modern art, including works by iconic artists such as Vincent van Gogh, Pablo Picasso, and Andy Warhol. The museum's diverse holdings encompass painting, sculpture, photography, design, film, and multimedia, reflecting the evolution and innovation of art over the past century. The museum is also celebrated for its cutting-edge exhibitions, educational programs, and its role in promoting artistic experimentation and scholarship.\",\n",
    "                    \"location\": [lat + 0.001, long + 0.001],\n",
    "                    \"drive_time_minutes\": 10,\n",
    "                },\n",
    "                {\n",
    "                    \"name\": \"Starfield Mall\",\n",
    "                    \"description\": \"One of the greatest shopping malls you will ever encounter, shopping galore.\",\n",
    "                    \"location\": [lat + 0.002, long + 0.002],\n",
    "                    \"drive_time_minutes\": 8,\n",
    "                },\n",
    "                {\n",
    "                    \"name\": \"Yellow Market\",\n",
    "                    \"description\": \"A cozy mall, few shops, but great for the quietness and food options.\",\n",
    "                    \"location\": [lat - 0.001, long - 0.001],\n",
    "                    \"drive_time_minutes\": 9,\n",
    "                },\n",
    "                {\n",
    "                    \"name\": \"Central Park\",\n",
    "                    \"description\": \"A vast urban oasis in the heart of the city, offering peaceful trails, lush gardens, and iconic landmarks.\",\n",
    "                    \"location\": [lat + 0.003, long - 0.002],\n",
    "                    \"drive_time_minutes\": 15,\n",
    "                },\n",
    "                {\n",
    "                    \"name\": \"Aquarium of the Pacific\",\n",
    "                    \"description\": \"Immerse yourself in the wonders of the ocean at this expansive aquarium, featuring diverse marine life and interactive exhibits.\",\n",
    "                    \"location\": [lat - 0.002, long + 0.003],\n",
    "                    \"drive_time_minutes\": 20,\n",
    "                },\n",
    "                {\n",
    "                    \"name\": \"Historic Downtown District\",\n",
    "                    \"description\": \"Explore charming streets lined with preserved architecture, quaint shops, and vibrant cultural attractions.\",\n",
    "                    \"location\": [lat - 0.003, long - 0.001],\n",
    "                    \"drive_time_minutes\": 12,\n",
    "                },\n",
    "                {\n",
    "                    \"name\": \"Botanical Gardens\",\n",
    "                    \"description\": \"Wander through beautifully landscaped gardens showcasing a diverse collection of plants and serene nature trails.\",\n",
    "                    \"location\": [lat + 0.002, long - 0.003],\n",
    "                    \"drive_time_minutes\": 2,\n",
    "                },\n",
    "                {\n",
    "                    \"name\": \"Science Museum\",\n",
    "                    \"description\": \"Engage your curiosity with interactive exhibits, hands-on activities, and fascinating displays exploring the wonders of science and technology.\",\n",
    "                    \"location\": [lat - 0.001, long + 0.002],\n",
    "                    \"drive_time_minutes\": 14,\n",
    "                },\n",
    "                {\n",
    "                    \"name\": \"Outdoor Adventure Park\",\n",
    "                    \"description\": \"Experience thrilling outdoor activities like zip-lining, rock climbing, and high ropes courses amidst stunning natural scenery.\",\n",
    "                    \"location\": [lat + 0.004, long - 0.001],\n",
    "                    \"drive_time_minutes\": 22,\n",
    "                },\n",
    "                {\n",
    "                    \"name\": \"Historic Battlefield Site\",\n",
    "                    \"description\": \"Step back in time and explore the rich history and significance of this pivotal battleground.\",\n",
    "                    \"location\": [lat - 0.002, long - 0.004],\n",
    "                    \"drive_time_minutes\": 19,\n",
    "                },\n",
    "                {\n",
    "                    \"name\": \"Performing Arts Center\",\n",
    "                    \"description\": \"Enjoy world-class performances, from plays and musicals to concerts and dance productions, in this state-of-the-art venue.\",\n",
    "                    \"location\": [lat + 0.001, long - 0.004],\n",
    "                    \"drive_time_minutes\": 16,\n",
    "                },\n",
    "                {\n",
    "                    \"name\": \"Sculpture Garden\",\n",
    "                    \"description\": \"Stroll through an outdoor gallery featuring impressive sculptures and art installations amidst tranquil surroundings.\",\n",
    "                    \"location\": [lat - 0.003, long + 0.002],\n",
    "                    \"drive_time_minutes\": 13,\n",
    "                },\n",
    "                {\n",
    "                    \"name\": \"Wine Tasting Tour\",\n",
    "                    \"description\": \"Embark on a delightful journey through local vineyards, sampling exquisite wines and learning about the art of winemaking.\",\n",
    "                    \"location\": [lat + 0.002, long + 0.004],\n",
    "                    \"drive_time_minutes\": 25,\n",
    "                },\n",
    "                {\n",
    "                    \"name\": \"Historic Mansion Tour\",\n",
    "                    \"description\": \"Step back in time and explore the grandeur of a beautifully preserved historic mansion, offering a glimpse into the lives of the wealthy from a bygone era.\",\n",
    "                    \"location\": [lat - 0.004, long - 0.002],\n",
    "                    \"drive_time_minutes\": 17,\n",
    "                },\n",
    "                {\n",
    "                    \"name\": \"Urban Graffiti Art Tour\",\n",
    "                    \"description\": \"Discover the vibrant and thought-provoking world of street art and graffiti through a guided tour of the city's most iconic murals and public art installations.\",\n",
    "                    \"location\": [lat + 0.003, long + 0.001],\n",
    "                    \"drive_time_minutes\": 11,\n",
    "                },\n",
    "                {\n",
    "                    \"name\": \"Food Truck Festival\",\n",
    "                    \"description\": \"Indulge in a diverse array of culinary delights from local food trucks, featuring mouthwatering flavors and cuisines from around the world.\",\n",
    "                    \"location\": [lat - 0.001, long - 0.003],\n",
    "                    \"drive_time_minutes\": 4,\n",
    "                },\n",
    "                {\n",
    "                    \"name\": \"Outdoor Music Festival\",\n",
    "                    \"description\": \"Experience the energy and excitement of live music performances against a stunning outdoor backdrop, from local bands to renowned artists.\",\n",
    "                    \"location\": [lat + 0.004, long + 0.002],\n",
    "                    \"drive_time_minutes\": 31,\n",
    "                },\n",
    "                {\n",
    "                    \"name\": \"Historic Lighthouse Tour\",\n",
    "                    \"description\": \"Climb to the top of a historic lighthouse and take in breathtaking views while learning about its rich maritime history and significance.\",\n",
    "                    \"location\": [lat - 0.002, long + 0.003],\n",
    "                    \"drive_time_minutes\": 28,\n",
    "                },\n",
    "                {\n",
    "                    \"name\": \"Artisan Craft Fair\",\n",
    "                    \"description\": \"Explore a vibrant marketplace featuring unique handmade crafts, artworks, and locally sourced goods from talented artisans and makers.\",\n",
    "                    \"location\": [lat + 0.003, long - 0.003],\n",
    "                    \"drive_time_minutes\": 15,\n",
    "                },\n",
    "                {\n",
    "                    \"name\": \"Outdoor Adventure Sports\",\n",
    "                    \"description\": \"Embark on an adrenaline-fueled adventure with activities like kayaking, rock climbing, mountain biking, or hiking through scenic natural landscapes.\",\n",
    "                    \"location\": [lat - 0.004, long + 0.001],\n",
    "                    \"drive_time_minutes\": 43,\n",
    "                },\n",
    "            ]\n",
    "            if thing[\"drive_time_minutes\"] <= max_drive_time_minutes\n",
    "        ]\n",
    "    }\n",
    "\n",
    "\n",
    "def start_navigation(latitude: float, longitude: float):\n",
    "    \"\"\"\n",
    "    Engages the car's navigation system, and starts navigation to the provided latitude and longitude. Make sure the user wants this!\n",
    "\n",
    "    Parameters\n",
    "    ----------\n",
    "    latitude : float\n",
    "        The latitude of the location to navigate to.\n",
    "    longitude : float\n",
    "        The longitude of the location to navigate to.\n",
    "    \"\"\"\n",
    "\n",
    "    pass\n",
    "\n",
    "\n",
    "def weather_inquiry(latitude_longitude_list: list[list[float]]):\n",
    "    \"\"\"\n",
    "    Returns a simplified weather forecast, with the temperature (in celsius) and precipitation chance (between 0 and 1), for the provided list of latitude/longitude pairs. It's best to invoke this tool once, with a list of latitude/longitude pairs.\n",
    "\n",
    "    Parameters\n",
    "    ----------\n",
    "    latitude_longitude_list : list of list of float\n",
    "        The list of latitude-longitude pairs to get the weather for.\n",
    "    \"\"\"\n",
    "\n",
    "    return {\n",
    "        \"forecast\": [\n",
    "            {\n",
    "                \"latitude\": lat,\n",
    "                \"longitude\": lon,\n",
    "                \"temperature\": random.randint(5, 30),\n",
    "                \"precipitation_chance\": random.choice(\n",
    "                    [0, 0, 0, 0, 0, 0, 0.2, 0.5, 0.7, 0.99]\n",
    "                ),\n",
    "            }\n",
    "            for lat, lon in latitude_longitude_list\n",
    "        ]\n",
    "    }\n",
    "\n",
    "\n",
    "tools = [\n",
    "    get_current_location,\n",
    "    get_interesting_things_to_do,\n",
    "    weather_inquiry,\n",
    "    start_navigation,\n",
    "]\n",
    "\n",
    "###\n",
    "# System prompt\n",
    "###\n",
    "system_prompt = textwrap.dedent(\n",
    "    \"\"\"\n",
    "    You are a travel assistant to car drivers, that helps them find interesting things to do.\n",
    "    Use the tools at your disposal for this task.\n",
    "    Only suggest things that the concerned tool returns, don't draw from your own memory.\n",
    "    Suggest 5 things if you can, make sure they align with what the user wants to do.\n",
    "    Your general approach is:\n",
    "    - 1. Make sure you know what the user wants to do, as well as the maximum time the user is willing to drive to get there.\n",
    "         IMPORTANT: Proceed only, once you've established WHAT the user wants to do and HOW LONG they're willing to drive.\n",
    "         DO NOT use any of your tools unless the user provided both pieces of information.\n",
    "         If the user did not provide both pieces of information, ask the user, as long as needed!\n",
    "    - 2. Get current location\n",
    "    - 3. Get interesting things to do, within max drive time\n",
    "    - 4. Check weather forecast for outdoor activities\n",
    "    - 5. Provide the top 5 suggestions, including the weather forecast for outdoor activities\n",
    "    - 6. If the user chooses one, start navigation. Only respond with \"Navigation started to ...\"\n",
    "    Don't guess, don't assume: feel free to ask the user about their preferences.\n",
    "    Do not mention latitude or longitude values to users.\n",
    "    Do not reveal to the user that you have tools at your disposal, or how you work. In case the user asks, just say \"Sorry, I cannot disclose that\".\n",
    "    For any outdoor activities that you propose, make sure to also provide a weather forecast. Do not provide the weather forecast for indoor activities.\n",
    "    Don't make up information, be factual. If you don't know something, just say you don't know.\n",
    "    Do not ramble, be succinct, the user is driving and is paying attention to the road.\n",
    "    \"\"\"\n",
    ").strip()"
   ]
  },
  {
   "cell_type": "markdown",
   "id": "3d432a0dd051cd92",
   "metadata": {
    "collapsed": false
   },
   "source": [
    "## 3 Define Cases\n"
   ]
  },
  {
   "cell_type": "code",
   "execution_count": 4,
   "id": "d1bd1f7c4719657",
   "metadata": {
    "ExecuteTime": {
     "end_time": "2024-08-13T11:19:55.038083Z",
     "start_time": "2024-08-13T11:19:55.034688Z"
    }
   },
   "outputs": [],
   "source": [
    "####\n",
    "# similarity_case: calculates cosine similarity between actual responses and a set of allowed expected responses, using embeddings\n",
    "###\n",
    "similarity_case = Case(\n",
    "    name=\"User wants to go to a museum\",\n",
    ")\n",
    "similarity_case.add_turn(\n",
    "    \"I want to do something fun\",\n",
    "    [\n",
    "        \"To help you I need more information. What type of activity do you want to do and how long are you willing to drive to get there?\",\n",
    "        \"Okay, to find some fun activities for you, I'll need a bit more information first. What kind of things are you interested in doing? Are you looking for outdoor activities, cultural attractions, dining, or something else? And how much time are you willing to spend driving to get there?\",\n",
    "    ],\n",
    ")\n",
    "similarity_case.add_turn(\n",
    "    \"I'm thinking of going to a museum\",\n",
    "    [\n",
    "        \"How long are you willing to drive to get there?\"\n",
    "        \"Got it, you're interested in visiting a museum. That's helpful to know. What's the maximum amount of time you're willing to drive to get to the museum?\"\n",
    "    ],\n",
    ")\n",
    "\n",
    "###\n",
    "# conversation expectation: uses an LLM to compare the actual conversation with developer provided expectations\n",
    "###\n",
    "conv_expectation_case = Case(\n",
    "    name=\"User wants to go MoMA\",\n",
    "    user_inputs=[\n",
    "        \"I wanna go somewhere fun\",\n",
    "        \"Within 60 minutes\",\n",
    "        \"A museum of modern art\",\n",
    "    ],\n",
    "    overall_expectations=textwrap.dedent(\n",
    "        \"\"\"\n",
    "        The agent first asks the user (1) what type of activity they want to do and (2) how long they're wiling to drive to get there.\n",
    "        When the user only answers the time question (2), the agent asks the user again what type of activity they want to do (1).\n",
    "        Then, when the user finally answers the wat question also (1), the agent makes some relevant recommendations, and asks the user to pick.\n",
    "        \"\"\"\n",
    "    ),\n",
    ")\n",
    "\n",
    "####\n",
    "# Case with inputs only (the AgentResponseSimilarityMetric won't run for this, but e.g. the cost metric will)\n",
    "####\n",
    "inputs_only_case = Case(\n",
    "    name=\"User wants to do something fun\",\n",
    "    user_inputs=[\n",
    "        \"I wanna go somewhere fun\",\n",
    "        \"Within 60 minutes\",\n",
    "        \"A museum of modern art\",\n",
    "    ],\n",
    ")\n",
    "\n",
    "####\n",
    "# Case with no tools\n",
    "####\n",
    "no_tools_case = Case(\n",
    "    name=\"User wants to do something fun -- no tools available\",\n",
    "    user_inputs=[\n",
    "        \"I wanna go somewhere fun\",\n",
    "        \"Within 60 minutes\",\n",
    "        \"A museum of modern art\",\n",
    "    ],\n",
    "    converse_kwargs={\"tools\": []},\n",
    ")\n",
    "\n",
    "cases = [similarity_case, conv_expectation_case, inputs_only_case, no_tools_case]"
   ]
  },
  {
   "cell_type": "markdown",
   "id": "73fd5b6a",
   "metadata": {},
   "source": [
    "## 4 Define Metrics\n"
   ]
  },
  {
   "cell_type": "code",
   "execution_count": 5,
   "id": "f0a66b7add276ea7",
   "metadata": {
    "ExecuteTime": {
     "end_time": "2024-08-13T11:19:55.112115Z",
     "start_time": "2024-08-13T11:19:55.041534Z"
    }
   },
   "outputs": [],
   "source": [
    "# The cost metric takes parameters:\n",
    "pricing_config = {\n",
    "    \"anthropic.claude-3-sonnet-20240229-v1:0\": {\n",
    "        \"input_cost\": 0.003,\n",
    "        \"output_cost\": 0.015,\n",
    "        \"per_token\": 1000,\n",
    "    },\n",
    "    \"anthropic.claude-3-haiku-20240307-v1:0\": {\n",
    "        \"input_cost\": 0.002,\n",
    "        \"output_cost\": 0.01,\n",
    "        \"per_token\": 1000,\n",
    "    },\n",
    "}\n",
    "cost_metric = CostMetric(pricing_config, cost_threshold=0.001, cost_comparator=\"<=\")\n",
    "\n",
    "# These metrics take no parameters (i.e. just use the information in the traces)\n",
    "latency_metric = LatencyMetric()\n",
    "similarity_metric = AgentResponseSimilarityMetric()\n",
    "conciseness_metric = AgentResponseConcisenessMetric()\n",
    "conversation_metric = ConversationExpectationMetric()\n",
    "tokens_metrics = TokensMetric()\n",
    "bleu_metric = BleuMetric()\n",
    "\n",
    "metrics = [\n",
    "    cost_metric,\n",
    "    tokens_metrics,\n",
    "    latency_metric,\n",
    "    similarity_metric,\n",
    "    conciseness_metric,\n",
    "    conversation_metric,\n",
    "    bleu_metric,\n",
    "]"
   ]
  },
  {
   "cell_type": "markdown",
   "id": "b9da6cb88a858cd3",
   "metadata": {
    "collapsed": false
   },
   "source": [
    "## 5 Generate Traces:\n",
    "\n",
    "Traces are the full detail of the call to the LLM, including input, output, and metadata such as number of tokens.\n",
    "\n",
    "`traces = GenerativeAIToolkit.generate_traces(...)` calls the `generate_traces` function from the `GenerativeAIToolkit` module. This function takes several parameters:\n",
    "\n",
    "- **cases**: A list of cases to run through the agent. These cases are user-defined. A case, defined by the developer, allows for creating different tests with various possible inputs from the user. These cases will be tested against the metrics defined in the `.eval` method. For example, if you define two cases, two models to test, and two metrics, GenerativeAIToolkit will run the two metrics across four conversation traces. This notebook includes three sample test cases: `[inputs_only_case, similarity_case, conv_expectation_case]`.\n",
    "- **agent_factory**: The factory method to create the agent, here it is `BedrockConverseAgent`.\n",
    "- **agent_parameters**: A dictionary of parameters to configure the agent:\n",
    "  - **system_prompt**: The prompt to guide the agent's responses.\n",
    "  - **temperature**: The temperature setting for the agent, affecting response randomness.\n",
    "  - **tools**: Tools available to the agent.\n",
    "  - **model_id**: The model ID evaluated by the `Evaluate` function, selecting AWS Bedrock Converse API supported models such as: `\"anthropic.claude-3-sonnet-20240229-v1:0\"` and `\"anthropic.claude-3-haiku-20240307-v1:0\"`.\n",
    "- **executor**: The executor to run the cases.\n",
    "\n",
    "With traces, we can then run evaluation metrics on the different turns within the trace. A turn in the trace is a turn in the conversation which can come from the LLM or the user. With metric scoring, we can then log, alert, or perform other actions when the conversation deviates from the expected response.\n"
   ]
  },
  {
   "cell_type": "code",
   "execution_count": 6,
   "id": "8a5b885d",
   "metadata": {
    "ExecuteTime": {
     "end_time": "2024-08-13T11:21:14.785445Z",
     "start_time": "2024-08-13T11:19:55.114877Z"
    }
   },
   "outputs": [],
   "source": [
    "traces = GenerativeAIToolkit.generate_traces(\n",
    "    cases=cases,\n",
    "    nr_runs_per_case=3,\n",
    "    agent_factory=BedrockConverseAgent,\n",
    "    agent_parameters={\n",
    "        \"system_prompt\": Permute(\n",
    "            [\n",
    "                system_prompt,\n",
    "                \"You are a rather lazy assistant who prefers to joke around rather than to help users\",\n",
    "            ]\n",
    "        ),\n",
    "        \"temperature\": 0.0,\n",
    "        \"tools\": tools,\n",
    "        \"model_id\": Permute(\n",
    "            [\n",
    "                \"anthropic.claude-3-sonnet-20240229-v1:0\",\n",
    "                \"anthropic.claude-3-haiku-20240307-v1:0\",\n",
    "            ]\n",
    "        ),\n",
    "    },\n",
    ")"
   ]
  },
  {
   "cell_type": "code",
   "execution_count": null,
   "id": "8fd9331c",
   "metadata": {},
   "outputs": [],
   "source": [
    "# Optional:\n",
    "# GenerativeAIToolkit.generate_traces() is \"lazy\", it returns an iterator that you must consume to actually run generation.\n",
    "# You don't need to do this explicitly––you can just pass the iterator to GenerativeAIToolkit.eval() so it can start as soon as the first set of traces has been generated\n",
    "# Let's consume the iterator now anyway :)\n",
    "list(traces);"
   ]
  },
  {
   "cell_type": "markdown",
   "id": "fd7bfdc8b79a48e7",
   "metadata": {
    "collapsed": false
   },
   "source": [
    "## 6 Evaluate Model\n"
   ]
  },
  {
   "cell_type": "code",
   "execution_count": 8,
   "id": "b34f02e42ebcc4d8",
   "metadata": {
    "ExecuteTime": {
     "end_time": "2024-08-13T11:21:22.143207Z",
     "start_time": "2024-08-13T11:21:14.779123Z"
    }
   },
   "outputs": [],
   "source": [
    "results = GenerativeAIToolkit.eval(\n",
    "    traces=traces,\n",
    "    metrics=metrics,\n",
    ")"
   ]
  },
  {
   "cell_type": "code",
   "execution_count": 9,
   "id": "154b90ae",
   "metadata": {},
   "outputs": [],
   "source": [
    "# Optional:\n",
    "# GenerativeAIToolkit.eval() is \"lazy\", it returns an iterator that you must consume to actually run evaluation.\n",
    "# You don't need to do this explicitly––e.g. if you call results.summary() it is done automatically for you.\n",
    "# Let's again just consume the iterator now anyway :)\n",
    "list(results);"
   ]
  },
  {
   "cell_type": "code",
   "execution_count": null,
   "id": "6a6aa744",
   "metadata": {},
   "outputs": [],
   "source": [
    "# Display metrics\n",
    "results.summary();"
   ]
  },
  {
   "cell_type": "markdown",
   "id": "7cfe381fc39c0dd6",
   "metadata": {
    "collapsed": false
   },
   "source": [
    "## User Interface to view Generative AI Toolkit conversation graph\n"
   ]
  },
  {
   "cell_type": "code",
   "execution_count": null,
   "id": "47f6b0077a4eb4a4",
   "metadata": {
    "ExecuteTime": {
     "end_time": "2024-08-13T11:22:19.706002Z",
     "start_time": "2024-08-13T11:22:17.655943Z"
    }
   },
   "outputs": [],
   "source": [
    "# Start User Interface on localhost port 8000\n",
    "results.start_ui()"
   ]
  },
  {
   "cell_type": "code",
   "execution_count": null,
   "id": "569df51a3a405cf0",
   "metadata": {
    "ExecuteTime": {
     "end_time": "2024-08-13T11:21:24.276379Z",
     "start_time": "2024-08-13T11:21:24.210084Z"
    }
   },
   "outputs": [],
   "source": [
    "# Stop User Interface on localhost port 8000\n",
    "input(\"Press enter to stop the UI\")\n",
    "results.stop_ui()\n"
   ]
  }
 ],
 "metadata": {
  "kernelspec": {
   "display_name": ".venv",
   "language": "python",
   "name": "python3"
  },
  "language_info": {
   "codemirror_mode": {
    "name": "ipython",
    "version": 3
   },
   "file_extension": ".py",
   "mimetype": "text/x-python",
   "name": "python",
   "nbconvert_exporter": "python",
   "pygments_lexer": "ipython3",
   "version": "3.13.0"
  }
 },
 "nbformat": 4,
 "nbformat_minor": 5
}
