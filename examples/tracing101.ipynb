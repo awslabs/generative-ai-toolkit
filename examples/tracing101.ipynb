{
 "cells": [
  {
   "cell_type": "markdown",
   "id": "4a47fc50",
   "metadata": {},
   "source": [
    "# Tracing 101\n",
    "\n",
    "Step through this notebook to understand how tracing works in Generative AI Toolkit.\n",
    "\n",
    "The Generative AI Toolkit comes with these tracers out-of-the-box:\n"
   ]
  },
  {
   "cell_type": "code",
   "execution_count": 1,
   "id": "49e36024",
   "metadata": {},
   "outputs": [],
   "source": [
    "from generative_ai_toolkit.tracer import (\n",
    "    Tracer,\n",
    "    NoopTracer,\n",
    "    HumanReadableTracer,\n",
    "    InMemoryTracer,\n",
    "    StructuredLogsTracer,\n",
    "    TeeTracer,\n",
    ")\n",
    "from generative_ai_toolkit.tracer.otlp import OtlpTracer\n",
    "from generative_ai_toolkit.tracer.dynamodb import DynamoDbTracer\n",
    "\n",
    "import time\n",
    "import random"
   ]
  },
  {
   "cell_type": "markdown",
   "id": "30f57514",
   "metadata": {},
   "source": [
    "### `InMemoryTracer`\n",
    "\n",
    "Use the in-memory tracer for testing and development:\n"
   ]
  },
  {
   "cell_type": "code",
   "execution_count": 2,
   "id": "8c97c8df",
   "metadata": {},
   "outputs": [
    {
     "name": "stdout",
     "output_type": "stream",
     "text": [
      "Trace(span_name='parent', span_kind='INTERNAL', trace_id='7642d671f39590016c8a4f2e4009bd40', span_id='0d017a3f9d0cd340', parent_span_id=None, started_at=datetime.datetime(2025, 4, 15, 14, 20, 50, 486069, tzinfo=datetime.timezone.utc), ended_at=datetime.datetime(2025, 4, 15, 14, 20, 50, 694866, tzinfo=datetime.timezone.utc), attributes={'foo': 'bar', 'inherited.foo': 'bar'}, span_status='UNSET', resource_attributes={'service.name': 'MyAgent'}, scope=generative-ai-toolkit@current)\n",
      "\n",
      "Trace(span_name='child', span_kind='INTERNAL', trace_id='7642d671f39590016c8a4f2e4009bd40', span_id='d99991fc3418421d', parent_span_id='0d017a3f9d0cd340', started_at=datetime.datetime(2025, 4, 15, 14, 20, 50, 589722, tzinfo=datetime.timezone.utc), ended_at=datetime.datetime(2025, 4, 15, 14, 20, 50, 694821, tzinfo=datetime.timezone.utc), attributes={'bar': 'foo', 'inherited.foo': 'bar'}, span_status='UNSET', resource_attributes={'service.name': 'MyAgent'}, scope=generative-ai-toolkit@current)\n",
      "\n"
     ]
    }
   ],
   "source": [
    "in_memory_tracer = InMemoryTracer(\n",
    "    memory_size=1000  # Store max 1000 traces, before discarding older ones\n",
    ")\n",
    "\n",
    "# Context, added to all traces:\n",
    "in_memory_tracer.set_context(resource_attributes={\"service.name\": \"MyAgent\"})\n",
    "\n",
    "with in_memory_tracer.trace(\"parent\") as parent_span:\n",
    "    parent_span.add_attribute(\"foo\", \"bar\")\n",
    "    parent_span.add_attribute(\n",
    "        \"inherited.foo\",\n",
    "        \"bar\",\n",
    "        inheritable=True,  # Inheritable attributes propagate to child spans\n",
    "    )\n",
    "    time.sleep(0.1)\n",
    "\n",
    "    # Nested spans become child spans, that point to the parent (parent_span_id):\n",
    "    with in_memory_tracer.trace(\"child\") as child_span:\n",
    "        child_span.add_attribute(\"bar\", \"foo\")\n",
    "        time.sleep(0.1)\n",
    "\n",
    "for trace in in_memory_tracer.get_traces():\n",
    "    print(trace)\n",
    "    print()"
   ]
  },
  {
   "cell_type": "markdown",
   "id": "dd0e3221",
   "metadata": {},
   "source": [
    "### Printing a human-readable version of traces during development\n",
    "\n",
    "In the following example we add attributes that Generative AI Toolkit understands. It will use these to present traces in a way that is nicer to the human eye:\n"
   ]
  },
  {
   "cell_type": "code",
   "execution_count": 3,
   "id": "614dbe8f",
   "metadata": {},
   "outputs": [
    {
     "name": "stdout",
     "output_type": "stream",
     "text": [
      "\u001b[94m[c0aa3510ee84cc02e02e5cdb0a8e0085/root/0926f6b6a4a19829]\u001b[0m \u001b[96mMyAgent\u001b[0m \u001b[92mSERVER\u001b[0m 2025-04-15T14:20:50.703Z - parent (\u001b[93mai.conversation.id='508709' ai.auth.context='user123'\u001b[0m)\n",
      "\n",
      "\n",
      "\u001b[94m[c0aa3510ee84cc02e02e5cdb0a8e0085/0926f6b6a4a19829/f7aae02c58a0380c]\u001b[0m \u001b[96mMyAgent\u001b[0m \u001b[94mINTERNAL\u001b[0m 2025-04-15T14:20:50.808Z - child (\u001b[93mai.trace.type='tool-invocation' ai.conversation.id='508709' ai.auth.context='user123'\u001b[0m)\n",
      "\u001b[90m       Input: Hello, world!\u001b[0m\n",
      "\u001b[90m      Output: World, hello!\u001b[0m\n",
      "\n",
      "\n"
     ]
    }
   ],
   "source": [
    "conversation_id = random.randint(0, 1000000)\n",
    "\n",
    "with in_memory_tracer.trace(\"parent\", span_kind=\"SERVER\") as parent_span:\n",
    "    parent_span.add_attribute(\"ai.conversation.id\", conversation_id, inheritable=True)\n",
    "    parent_span.add_attribute(\"ai.auth.context\", \"user123\", inheritable=True)\n",
    "    time.sleep(0.1)\n",
    "\n",
    "    with in_memory_tracer.trace(\"child\") as child_span:\n",
    "        child_span.add_attribute(\"ai.trace.type\", \"tool-invocation\")\n",
    "        child_span.add_attribute(\"ai.tool.input\", \"Hello, world!\")\n",
    "        child_span.add_attribute(\"ai.tool.output\", \"World, hello!\")\n",
    "        time.sleep(0.1)\n",
    "\n",
    "\n",
    "for trace in in_memory_tracer.get_traces(\n",
    "    attribute_filter={\n",
    "        \"ai.conversation.id\": conversation_id  # filter traces by conversation id\n",
    "    }\n",
    "):\n",
    "    print(trace.as_human_readable())\n",
    "    print()"
   ]
  },
  {
   "cell_type": "markdown",
   "id": "b441e914",
   "metadata": {},
   "source": [
    "### `HumanReadableTracer`\n",
    "\n",
    "You can also use the `HumanReadableTracer` that will log traces in human readable form to stdout, which is useful during development.\n",
    "\n",
    "Note that traces are logged when the span ends, so parent spans are logged after child spans (this is true for all tracers):\n"
   ]
  },
  {
   "cell_type": "code",
   "execution_count": 4,
   "id": "a35fcdaf",
   "metadata": {},
   "outputs": [
    {
     "name": "stdout",
     "output_type": "stream",
     "text": [
      "\u001b[94m[5eb957237f01448970f3dd66654aa273/760f9b3c01ed3d63/92d48e7b75d3a354]\u001b[0m \u001b[96mMyAgent\u001b[0m \u001b[94mINTERNAL\u001b[0m 2025-04-15T14:20:51.028Z - child (\u001b[93mai.trace.type='tool-invocation' ai.conversation.id='508709' ai.auth.context='user123'\u001b[0m)\n",
      "\u001b[90m       Input: Hello, world!\u001b[0m\n",
      "\u001b[90m      Output: World, hello!\u001b[0m\n",
      "\n",
      "\u001b[94m[5eb957237f01448970f3dd66654aa273/root/760f9b3c01ed3d63]\u001b[0m \u001b[96mMyAgent\u001b[0m \u001b[92mSERVER\u001b[0m 2025-04-15T14:20:50.923Z - parent (\u001b[93mai.conversation.id='508709' ai.auth.context='user123'\u001b[0m)\n",
      "\n"
     ]
    }
   ],
   "source": [
    "import sys\n",
    "\n",
    "human_readable_tracer = HumanReadableTracer(stream=sys.stdout)\n",
    "\n",
    "human_readable_tracer.set_context(resource_attributes={\"service.name\": \"MyAgent\"})\n",
    "\n",
    "with human_readable_tracer.trace(\"parent\", span_kind=\"SERVER\") as parent_span:\n",
    "    parent_span.add_attribute(\"ai.conversation.id\", conversation_id, inheritable=True)\n",
    "    parent_span.add_attribute(\"ai.auth.context\", \"user123\", inheritable=True)\n",
    "    time.sleep(0.1)\n",
    "\n",
    "    with human_readable_tracer.trace(\"child\") as child_span:\n",
    "        child_span.add_attribute(\"ai.trace.type\", \"tool-invocation\")\n",
    "        child_span.add_attribute(\"ai.tool.input\", \"Hello, world!\")\n",
    "        child_span.add_attribute(\"ai.tool.output\", \"World, hello!\")\n",
    "        time.sleep(0.1)"
   ]
  },
  {
   "cell_type": "markdown",
   "id": "a78c88ac",
   "metadata": {},
   "source": [
    "### `StructuredLogsTracer`\n",
    "\n",
    "Use the `StructuredLogsTracer` to log traces to stdout as JSON:\n"
   ]
  },
  {
   "cell_type": "code",
   "execution_count": 5,
   "id": "1a58232d",
   "metadata": {},
   "outputs": [
    {
     "name": "stdout",
     "output_type": "stream",
     "text": [
      "{\"logger\":\"TraceLogger\",\"level\":\"INFO\",\"message\":\"Trace\",\"trace\":{\"span_name\":\"child\",\"span_kind\":\"INTERNAL\",\"trace_id\":\"30e9c923f09f34b91a51e2694c826f3f\",\"span_id\":\"a8b55427ee15fcd6\",\"parent_span_id\":\"fb1502db0b3023be\",\"started_at\":\"2025-04-15 14:20:51.250892+00:00\",\"ended_at\":\"2025-04-15 14:20:51.353354+00:00\",\"attributes\":{\"ai.trace.type\":\"tool-invocation\",\"ai.tool.input\":\"Hello, world!\",\"ai.tool.output\":\"World, hello!\",\"ai.conversation.id\":508709,\"ai.auth.context\":\"user123\"},\"span_status\":\"UNSET\",\"resource_attributes\":{\"service.name\":\"MyAgent\"},\"scope\":{\"name\":\"generative-ai-toolkit\",\"version\":\"current\"}}}\n",
      "{\"logger\":\"TraceLogger\",\"level\":\"INFO\",\"message\":\"Trace\",\"trace\":{\"span_name\":\"parent\",\"span_kind\":\"SERVER\",\"trace_id\":\"30e9c923f09f34b91a51e2694c826f3f\",\"span_id\":\"fb1502db0b3023be\",\"parent_span_id\":null,\"started_at\":\"2025-04-15 14:20:51.145700+00:00\",\"ended_at\":\"2025-04-15 14:20:51.355363+00:00\",\"attributes\":{\"ai.conversation.id\":508709,\"ai.auth.context\":\"user123\"},\"span_status\":\"UNSET\",\"resource_attributes\":{\"service.name\":\"MyAgent\"},\"scope\":{\"name\":\"generative-ai-toolkit\",\"version\":\"current\"}}}\n"
     ]
    }
   ],
   "source": [
    "structured_logs_tracer = StructuredLogsTracer(stream=sys.stdout)\n",
    "\n",
    "structured_logs_tracer.set_context(resource_attributes={\"service.name\": \"MyAgent\"})\n",
    "\n",
    "with structured_logs_tracer.trace(\"parent\", span_kind=\"SERVER\") as parent_span:\n",
    "    parent_span.add_attribute(\"ai.conversation.id\", conversation_id, inheritable=True)\n",
    "    parent_span.add_attribute(\"ai.auth.context\", \"user123\", inheritable=True)\n",
    "    time.sleep(0.1)\n",
    "\n",
    "    with structured_logs_tracer.trace(\"child\") as child_span:\n",
    "        child_span.add_attribute(\"ai.trace.type\", \"tool-invocation\")\n",
    "        child_span.add_attribute(\"ai.tool.input\", \"Hello, world!\")\n",
    "        child_span.add_attribute(\"ai.tool.output\", \"World, hello!\")\n",
    "        time.sleep(0.1)"
   ]
  },
  {
   "cell_type": "markdown",
   "id": "914db07d",
   "metadata": {},
   "source": [
    "### `DynamoDbTracer`\n",
    "\n",
    "Use the `DynamoDbTracer` to store traces to DynamoDB.\n",
    "\n",
    "To use this tracer, you should have created a table with partition key `pk` (string) and sort key `sk` (string).\n",
    "\n",
    "If you want to support getting traces by conversation ID, the table must have a GSI with partition key `conversation_id` (string) and sort key `sk` (string).\n",
    "\n",
    "For example, here's how to create such a table:\n"
   ]
  },
  {
   "cell_type": "code",
   "execution_count": 6,
   "id": "62bc3e2b",
   "metadata": {},
   "outputs": [
    {
     "name": "stdout",
     "output_type": "stream",
     "text": [
      "\n",
      "An error occurred (ResourceInUseException) when calling the CreateTable operation: Table already exists: MyTracesTable\n"
     ]
    }
   ],
   "source": [
    "!aws dynamodb create-table \\\n",
    "  --table-name MyTracesTable \\\n",
    "  --attribute-definitions \\\n",
    "    AttributeName=pk,AttributeType=S \\\n",
    "    AttributeName=sk,AttributeType=S \\\n",
    "    AttributeName=conversation_id,AttributeType=S \\\n",
    "  --key-schema \\\n",
    "    AttributeName=pk,KeyType=HASH \\\n",
    "    AttributeName=sk,KeyType=RANGE \\\n",
    "  --billing-mode PAY_PER_REQUEST \\\n",
    "  --global-secondary-indexes '[{\"IndexName\":\"conversation_index\",\"KeySchema\":[{\"AttributeName\":\"conversation_id\",\"KeyType\":\"HASH\"},{\"AttributeName\":\"sk\",\"KeyType\":\"RANGE\"}],\"Projection\":{\"ProjectionType\":\"ALL\"}}]'"
   ]
  },
  {
   "cell_type": "markdown",
   "id": "123c0ac9",
   "metadata": {},
   "source": [
    "Then, use that table in the `DynamoDbTracer`:\n"
   ]
  },
  {
   "cell_type": "code",
   "execution_count": 7,
   "id": "a4ad9e7d",
   "metadata": {},
   "outputs": [
    {
     "name": "stdout",
     "output_type": "stream",
     "text": [
      "\u001b[94m[1054821967afbad821977432d846917b/root/bd68b1eb95797ecb]\u001b[0m \u001b[96mMyAgent\u001b[0m \u001b[92mSERVER\u001b[0m 2025-04-15T14:20:52.958Z - parent (\u001b[93mai.conversation.id='331368' ai.auth.context='user123'\u001b[0m)\n",
      "\n",
      "\n",
      "\u001b[94m[1054821967afbad821977432d846917b/bd68b1eb95797ecb/f69b10c83433818a]\u001b[0m \u001b[96mMyAgent\u001b[0m \u001b[94mINTERNAL\u001b[0m 2025-04-15T14:20:53.063Z - child (\u001b[93mai.trace.type='tool-invocation' ai.conversation.id='331368' ai.auth.context='user123'\u001b[0m)\n",
      "\u001b[90m       Input: Hello, world!\u001b[0m\n",
      "\u001b[90m      Output: World, hello!\u001b[0m\n",
      "\n",
      "\n"
     ]
    }
   ],
   "source": [
    "conversation_id = random.randint(0, 1000000)\n",
    "auth_context = \"user123\"\n",
    "\n",
    "ddb_tracer = DynamoDbTracer(\n",
    "    table_name=\"MyTracesTable\",\n",
    "    identifier=\"MyAgent\",\n",
    "    conversation_id_gsi_name=\"conversation_index\",\n",
    ")\n",
    "\n",
    "ddb_tracer.set_context(resource_attributes={\"service.name\": \"MyAgent\"})\n",
    "\n",
    "with ddb_tracer.trace(\"parent\", span_kind=\"SERVER\") as parent_span:\n",
    "    parent_span.add_attribute(\"ai.conversation.id\", conversation_id, inheritable=True)\n",
    "    parent_span.add_attribute(\"ai.auth.context\", auth_context, inheritable=True)\n",
    "    time.sleep(0.1)\n",
    "\n",
    "    with ddb_tracer.trace(\"child\") as child_span:\n",
    "        child_span.add_attribute(\"ai.trace.type\", \"tool-invocation\")\n",
    "        child_span.add_attribute(\"ai.tool.input\", \"Hello, world!\")\n",
    "        child_span.add_attribute(\"ai.tool.output\", \"World, hello!\")\n",
    "        time.sleep(0.1)\n",
    "\n",
    "\n",
    "for trace in ddb_tracer.get_traces(\n",
    "    attribute_filter={\n",
    "        \"ai.conversation.id\": conversation_id,\n",
    "        \"ai.auth.context\": auth_context,\n",
    "    }\n",
    "):\n",
    "    print(trace.as_human_readable())\n",
    "    print()"
   ]
  },
  {
   "cell_type": "markdown",
   "id": "3a7ead57",
   "metadata": {},
   "source": [
    "### `OtlpTracer`\n",
    "\n",
    "The `OtlpTracer` logs traces in Open Telemetry protobuf format. It expects you to run an Open Telemetry collector, that it can send the traces to. By default, it expects the collector to be run on localhost port 4318.\n",
    "\n",
    "You can use the `OtlpTracer` to send traces to AWS X-Ray. To make that work, you can run the [ADOT collector](https://github.com/aws-observability/aws-otel-collector) locally:\n"
   ]
  },
  {
   "cell_type": "code",
   "execution_count": 8,
   "id": "bab55432",
   "metadata": {},
   "outputs": [],
   "source": [
    "# Create the ADOT config file:\n",
    "\n",
    "yaml_content = \"\"\"\\\n",
    "receivers:\n",
    "  otlp:\n",
    "    protocols:\n",
    "      http:\n",
    "        endpoint: 0.0.0.0:4318\n",
    "\n",
    "processors:\n",
    "  batch/traces:\n",
    "    timeout: 10s\n",
    "    send_batch_size: 50\n",
    "\n",
    "exporters:\n",
    "  awsxray:\n",
    "    region: eu-central-1\n",
    "    indexed_attributes:\n",
    "      - ai.conversation.id\n",
    "\n",
    "service:\n",
    "  pipelines:\n",
    "    traces:\n",
    "      receivers: [otlp]\n",
    "      processors: [batch/traces]\n",
    "      exporters: [awsxray]\n",
    "\"\"\"\n",
    "\n",
    "with open(\"adot-config.yaml\", \"w\") as f:\n",
    "    f.write(yaml_content)"
   ]
  },
  {
   "cell_type": "markdown",
   "id": "01f14ec7",
   "metadata": {},
   "source": [
    "Run the ADOT collector in the background. Note that the following example assumes `AWS_REGION`, `AWS_ACCESS_KEY_ID`, `AWS_SECRET_ACCESS_KEY`, `AWS_SESSION_TOKEN` are available as environment variables:\n"
   ]
  },
  {
   "cell_type": "code",
   "execution_count": 9,
   "id": "9c9ce5e4",
   "metadata": {},
   "outputs": [
    {
     "name": "stdout",
     "output_type": "stream",
     "text": [
      "9c5f672af2aaff572a710c5d343bf345dc74c44c81ea726e86eeb44ca7a70b6f\n",
      "2025/04/15 14:20:53 ADOT Collector version: v0.43.1\n",
      "2025/04/15 14:20:53 found no extra config, skip it, err: open /opt/aws/aws-otel-collector/etc/extracfg.txt: no such file or directory\n",
      "2025/04/15 14:20:53 attn: users of the `datadog`, `logzio`, `sapm`, `signalfx` exporter components. please refer to https://github.com/aws-observability/aws-otel-collector/issues/2734 in regards to an upcoming ADOT Collector breaking change\n",
      "2025-04-15T14:20:53.763Z\tinfo\tservice@v0.117.0/service.go:164\tSetting up own telemetry...\n",
      "2025-04-15T14:20:53.763Z\tinfo\ttelemetry/metrics.go:70\tServing metrics\t{\"address\": \"localhost:8888\", \"metrics level\": \"Normal\"}\n",
      "2025-04-15T14:20:53.764Z\tinfo\tservice@v0.117.0/service.go:230\tStarting aws-otel-collector...\t{\"Version\": \"v0.43.1\", \"NumCPU\": 2}\n",
      "2025-04-15T14:20:53.764Z\tinfo\textensions/extensions.go:39\tStarting extensions...\n",
      "2025-04-15T14:20:53.764Z\tinfo\totlpreceiver@v0.117.0/otlp.go:169\tStarting HTTP server\t{\"kind\": \"receiver\", \"name\": \"otlp\", \"data_type\": \"traces\", \"endpoint\": \"0.0.0.0:4318\"}\n",
      "2025-04-15T14:20:53.764Z\tinfo\tservice@v0.117.0/service.go:253\tEverything is ready. Begin running and processing data.\n"
     ]
    }
   ],
   "source": [
    "!docker run --rm -d --name adot-collector \\\n",
    "  -p 4318:4318 \\\n",
    "  -e AWS_REGION \\\n",
    "  -e AWS_ACCESS_KEY_ID \\\n",
    "  -e AWS_SECRET_ACCESS_KEY \\\n",
    "  -e AWS_SESSION_TOKEN \\\n",
    "  -v $(pwd)/adot-config.yaml:/etc/collector-config.yaml \\\n",
    "  public.ecr.aws/aws-observability/aws-otel-collector:latest \\\n",
    "  --config=/etc/collector-config.yaml\n",
    "!sleep 2 # wait for the collector to start\n",
    "!docker logs adot-collector"
   ]
  },
  {
   "cell_type": "markdown",
   "id": "c2e299d2",
   "metadata": {},
   "source": [
    "Then, send traces to AWS X-Ray by using the `OtlpTracer`:\n"
   ]
  },
  {
   "cell_type": "code",
   "execution_count": 10,
   "id": "6e333428",
   "metadata": {},
   "outputs": [],
   "source": [
    "otlp_tracer = OtlpTracer()\n",
    "\n",
    "otlp_tracer.set_context(resource_attributes={\"service.name\": \"MyAgent\"})\n",
    "\n",
    "with otlp_tracer.trace(\"parent\", span_kind=\"SERVER\") as parent_span:\n",
    "    parent_span.add_attribute(\"ai.conversation.id\", \"123456\", inheritable=True)\n",
    "    parent_span.add_attribute(\"ai.auth.context\", \"user123\", inheritable=True)\n",
    "    time.sleep(0.1)\n",
    "\n",
    "    with otlp_tracer.trace(\"child\") as child_span:\n",
    "        child_span.add_attribute(\"ai.trace.type\", \"tool-invocation\")\n",
    "        child_span.add_attribute(\"ai.tool.input\", \"Hello, world!\")\n",
    "        child_span.add_attribute(\"ai.tool.output\", \"World, hello!\")\n",
    "        time.sleep(0.1)"
   ]
  },
  {
   "cell_type": "markdown",
   "id": "52f62414",
   "metadata": {},
   "source": [
    "If that seems to work, but you don't see traces appear in AWS X-Ray, check the ADOT container logs. E.g. there may be a permission issue if your AWS credentials have expired:\n"
   ]
  },
  {
   "cell_type": "code",
   "execution_count": null,
   "id": "e1bf282a",
   "metadata": {},
   "outputs": [],
   "source": [
    "!docker logs adot-collector"
   ]
  },
  {
   "cell_type": "markdown",
   "id": "43361c6d",
   "metadata": {},
   "source": [
    "### `NoopTracer`\n",
    "\n",
    "Use the no-operation tracer when you don't want traces:\n"
   ]
  },
  {
   "cell_type": "code",
   "execution_count": 12,
   "id": "b4630086",
   "metadata": {},
   "outputs": [],
   "source": [
    "noop_tracer = NoopTracer()\n",
    "with noop_tracer.trace(\"noop\") as span:\n",
    "    span.add_attribute(\"foo\", \"bar\")\n",
    "\n",
    "# nothing was logged"
   ]
  },
  {
   "cell_type": "markdown",
   "id": "64e51fab",
   "metadata": {},
   "source": [
    "### `TeeTracer`\n",
    "\n",
    "Use the `TeeTracer` to send traces to multiple tracers at once.\n",
    "\n",
    "Note that the first tracer you add, will be the one that `get_traces()` will be delegated to. So if you want to use that method, use a tracer that supports it.\n",
    "\n",
    "Add tracers like this:\n"
   ]
  },
  {
   "cell_type": "code",
   "execution_count": 13,
   "id": "ea950cba",
   "metadata": {},
   "outputs": [],
   "source": [
    "tee_tracer = TeeTracer()\n",
    "\n",
    "# E.g. the DynamoDBTracer supports get_traces(), so add that first:\n",
    "tee_tracer.add_tracer(ddb_tracer)\n",
    "\n",
    "tee_tracer.add_tracer(human_readable_tracer)\n",
    "\n",
    "# This is of course useless, but added for the sake of the example:\n",
    "tee_tracer.add_tracer(noop_tracer)"
   ]
  },
  {
   "cell_type": "markdown",
   "id": "4a7d751d",
   "metadata": {},
   "source": [
    "Then, use the `TeeTracer` as any other tracer:\n"
   ]
  },
  {
   "cell_type": "code",
   "execution_count": 14,
   "id": "f206ac46",
   "metadata": {},
   "outputs": [
    {
     "name": "stdout",
     "output_type": "stream",
     "text": [
      "\u001b[94m[e8551b3ff0fafa76b140d5a5435fbb23/e00b4fca9decd2c5/787724b61f88fd8a]\u001b[0m \u001b[96mMyAgent\u001b[0m \u001b[94mINTERNAL\u001b[0m 2025-04-15T14:20:57.072Z - child (\u001b[93mai.trace.type='tool-invocation' ai.conversation.id='600589' ai.auth.context='user456'\u001b[0m)\n",
      "\u001b[90m       Input: Hello, world!\u001b[0m\n",
      "\u001b[90m      Output: World, hello!\u001b[0m\n",
      "\n",
      "\u001b[94m[e8551b3ff0fafa76b140d5a5435fbb23/root/e00b4fca9decd2c5]\u001b[0m \u001b[96mMyAgent\u001b[0m \u001b[92mSERVER\u001b[0m 2025-04-15T14:20:56.967Z - parent (\u001b[93mai.conversation.id='600589' ai.auth.context='user456'\u001b[0m)\n",
      "\n",
      "==== from DynamoDB: ====\n",
      "Trace(span_name='parent', span_kind='SERVER', trace_id='e8551b3ff0fafa76b140d5a5435fbb23', span_id='e00b4fca9decd2c5', parent_span_id=None, started_at=datetime.datetime(2025, 4, 15, 14, 20, 56, 967487, tzinfo=datetime.timezone.utc), ended_at=datetime.datetime(2025, 4, 15, 14, 20, 57, 204969, tzinfo=datetime.timezone.utc), attributes={'ai.conversation.id': 600589, 'ai.auth.context': 'user456'}, span_status='UNSET', resource_attributes={'service.name': 'MyAgent'}, scope=generative-ai-toolkit@current)\n",
      "\n",
      "Trace(span_name='child', span_kind='INTERNAL', trace_id='e8551b3ff0fafa76b140d5a5435fbb23', span_id='787724b61f88fd8a', parent_span_id='e00b4fca9decd2c5', started_at=datetime.datetime(2025, 4, 15, 14, 20, 57, 72752, tzinfo=datetime.timezone.utc), ended_at=datetime.datetime(2025, 4, 15, 14, 20, 57, 174528, tzinfo=datetime.timezone.utc), attributes={'ai.tool.input': 'Hello, world!', 'ai.conversation.id': 600589, 'ai.auth.context': 'user456', 'ai.trace.type': 'tool-invocation', 'ai.tool.output': 'World, hello!'}, span_status='UNSET', resource_attributes={'service.name': 'MyAgent'}, scope=generative-ai-toolkit@current)\n",
      "\n"
     ]
    }
   ],
   "source": [
    "conversation_id = random.randint(0, 1000000)\n",
    "auth_context = \"user456\"\n",
    "\n",
    "tee_tracer.set_context(resource_attributes={\"service.name\": \"MyAgent\"})\n",
    "\n",
    "with tee_tracer.trace(\"parent\", span_kind=\"SERVER\") as parent_span:\n",
    "    parent_span.add_attribute(\"ai.conversation.id\", conversation_id, inheritable=True)\n",
    "    parent_span.add_attribute(\"ai.auth.context\", auth_context, inheritable=True)\n",
    "    time.sleep(0.1)\n",
    "\n",
    "    with tee_tracer.trace(\"child\") as child_span:\n",
    "        child_span.add_attribute(\"ai.trace.type\", \"tool-invocation\")\n",
    "        child_span.add_attribute(\"ai.tool.input\", \"Hello, world!\")\n",
    "        child_span.add_attribute(\"ai.tool.output\", \"World, hello!\")\n",
    "        time.sleep(0.1)\n",
    "\n",
    "\n",
    "print(\"==== from DynamoDB: ====\")\n",
    "for trace in tee_tracer.get_traces(\n",
    "    attribute_filter={\n",
    "        \"ai.conversation.id\": conversation_id,\n",
    "        \"ai.auth.context\": auth_context,\n",
    "    }\n",
    "):\n",
    "    print(trace)\n",
    "    print()"
   ]
  },
  {
   "cell_type": "markdown",
   "id": "ab7b98b4",
   "metadata": {},
   "source": [
    "### `@traced` decorator\n",
    "\n",
    "Rather than wrapping your code inside `with` statements to add tracing, you can also you use the `@traced` decorator with your functions, to trace their execution:\n"
   ]
  },
  {
   "cell_type": "code",
   "execution_count": 15,
   "id": "a3c4c769",
   "metadata": {},
   "outputs": [],
   "source": [
    "from generative_ai_toolkit.tracer import traced\n",
    "\n",
    "in_memory_tracer = InMemoryTracer()\n",
    "\n",
    "\n",
    "@traced(\"parent\", tracer=in_memory_tracer)\n",
    "def parent_fn():\n",
    "    child_fn()\n",
    "    time.sleep(0.1)\n",
    "\n",
    "\n",
    "@traced(\"child\", tracer=in_memory_tracer)\n",
    "def child_fn():\n",
    "    time.sleep(0.1)"
   ]
  },
  {
   "cell_type": "markdown",
   "id": "51e01eb0",
   "metadata": {},
   "source": [
    "Now, when you execute these functions, they will be traced:\n"
   ]
  },
  {
   "cell_type": "code",
   "execution_count": 16,
   "id": "b74a99c4",
   "metadata": {},
   "outputs": [
    {
     "name": "stdout",
     "output_type": "stream",
     "text": [
      "Trace(span_name='parent', span_kind='INTERNAL', trace_id='bca74aa5ec78fb7db09d709557ca2d7c', span_id='f0c6a775a3cfee6a', parent_span_id=None, started_at=datetime.datetime(2025, 4, 15, 14, 20, 57, 267451, tzinfo=datetime.timezone.utc), ended_at=datetime.datetime(2025, 4, 15, 14, 20, 57, 472295, tzinfo=datetime.timezone.utc), attributes={}, span_status='UNSET', resource_attributes={}, scope=generative-ai-toolkit@current)\n",
      "Trace(span_name='child', span_kind='INTERNAL', trace_id='bca74aa5ec78fb7db09d709557ca2d7c', span_id='eb2083cd6e2d7206', parent_span_id='f0c6a775a3cfee6a', started_at=datetime.datetime(2025, 4, 15, 14, 20, 57, 267832, tzinfo=datetime.timezone.utc), ended_at=datetime.datetime(2025, 4, 15, 14, 20, 57, 370379, tzinfo=datetime.timezone.utc), attributes={}, span_status='UNSET', resource_attributes={}, scope=generative-ai-toolkit@current)\n"
     ]
    }
   ],
   "source": [
    "parent_fn()\n",
    "\n",
    "for trace in in_memory_tracer.get_traces():\n",
    "    print(trace)"
   ]
  },
  {
   "cell_type": "markdown",
   "id": "c6edfbdc",
   "metadata": {},
   "source": [
    "In order to add attributes to the trace, you can access the `current_trace` attribute for the tracer. Accessing that attribute only works within the context of a trace:\n"
   ]
  },
  {
   "cell_type": "code",
   "execution_count": 17,
   "id": "e105f5ca",
   "metadata": {},
   "outputs": [
    {
     "name": "stdout",
     "output_type": "stream",
     "text": [
      "Trace(span_name='parent', span_kind='INTERNAL', trace_id='f8d4767592d8558fe50a3084e08c8935', span_id='4778ca42b395dd57', parent_span_id=None, started_at=datetime.datetime(2025, 4, 15, 14, 20, 57, 480441, tzinfo=datetime.timezone.utc), ended_at=datetime.datetime(2025, 4, 15, 14, 20, 57, 687171, tzinfo=datetime.timezone.utc), attributes={'foo': 'bar'}, span_status='UNSET', resource_attributes={}, scope=generative-ai-toolkit@current)\n",
      "Trace(span_name='child', span_kind='INTERNAL', trace_id='f8d4767592d8558fe50a3084e08c8935', span_id='91185041604ecfa8', parent_span_id='4778ca42b395dd57', started_at=datetime.datetime(2025, 4, 15, 14, 20, 57, 480493, tzinfo=datetime.timezone.utc), ended_at=datetime.datetime(2025, 4, 15, 14, 20, 57, 582026, tzinfo=datetime.timezone.utc), attributes={'bar': 'foo', 'foo': 'bar'}, span_status='UNSET', resource_attributes={}, scope=generative-ai-toolkit@current)\n"
     ]
    }
   ],
   "source": [
    "in_memory_tracer = InMemoryTracer()\n",
    "\n",
    "\n",
    "@traced(\"parent\", tracer=in_memory_tracer)\n",
    "def parent_fn2():\n",
    "    in_memory_tracer.current_trace.add_attribute(\"foo\", \"bar\", inheritable=True)\n",
    "    child_fn2()\n",
    "    time.sleep(0.1)\n",
    "\n",
    "\n",
    "@traced(\"child\", tracer=in_memory_tracer)\n",
    "def child_fn2():\n",
    "    in_memory_tracer.current_trace.add_attribute(\"bar\", \"foo\")\n",
    "    time.sleep(0.1)\n",
    "\n",
    "\n",
    "parent_fn2()\n",
    "\n",
    "for trace in in_memory_tracer.get_traces():\n",
    "    print(trace)"
   ]
  },
  {
   "cell_type": "markdown",
   "id": "6211e95d",
   "metadata": {},
   "source": [
    "If the first argument to your function has a `tracer` attribute, you don't need to specify a `tracer` explicitly. E.g. within a class with a `tracer` attribute, you can decorate methods with `@traced`, i.e. without explicitly passing the tracer, as below:\n"
   ]
  },
  {
   "cell_type": "code",
   "execution_count": 18,
   "id": "28a248bb",
   "metadata": {},
   "outputs": [
    {
     "name": "stdout",
     "output_type": "stream",
     "text": [
      "Trace(span_name='parent_method', span_kind='INTERNAL', trace_id='80db9b688e177f4bd9b680d9ef9f33df', span_id='27b4f3ac17b9683a', parent_span_id=None, started_at=datetime.datetime(2025, 4, 15, 14, 20, 57, 702896, tzinfo=datetime.timezone.utc), ended_at=datetime.datetime(2025, 4, 15, 14, 20, 57, 909017, tzinfo=datetime.timezone.utc), attributes={'foo': 'bar'}, span_status='UNSET', resource_attributes={}, scope=generative-ai-toolkit@current)\n",
      "Trace(span_name='child_method', span_kind='INTERNAL', trace_id='80db9b688e177f4bd9b680d9ef9f33df', span_id='308ce36172f289ac', parent_span_id='27b4f3ac17b9683a', started_at=datetime.datetime(2025, 4, 15, 14, 20, 57, 703018, tzinfo=datetime.timezone.utc), ended_at=datetime.datetime(2025, 4, 15, 14, 20, 57, 806887, tzinfo=datetime.timezone.utc), attributes={'bar': 'foo', 'foo': 'bar'}, span_status='UNSET', resource_attributes={}, scope=generative-ai-toolkit@current)\n"
     ]
    }
   ],
   "source": [
    "in_memory_tracer = InMemoryTracer()\n",
    "\n",
    "\n",
    "class MyAgent:\n",
    "    def __init__(self, tracer: Tracer) -> None:\n",
    "        self._tracer = tracer\n",
    "\n",
    "    @property\n",
    "    def tracer(self):\n",
    "        return self._tracer\n",
    "\n",
    "    @traced\n",
    "    def parent_method(self):\n",
    "        self.tracer.current_trace.add_attribute(\"foo\", \"bar\", inheritable=True)\n",
    "        self.child_method()\n",
    "        time.sleep(0.1)\n",
    "\n",
    "    @traced\n",
    "    def child_method(self):\n",
    "        self.tracer.current_trace.add_attribute(\"bar\", \"foo\")\n",
    "        time.sleep(0.1)\n",
    "\n",
    "\n",
    "agent = MyAgent(in_memory_tracer)\n",
    "agent.parent_method()\n",
    "\n",
    "for trace in in_memory_tracer.get_traces():\n",
    "    print(trace)"
   ]
  }
 ],
 "metadata": {
  "kernelspec": {
   "display_name": ".venv",
   "language": "python",
   "name": "python3"
  },
  "language_info": {
   "codemirror_mode": {
    "name": "ipython",
    "version": 3
   },
   "file_extension": ".py",
   "mimetype": "text/x-python",
   "name": "python",
   "nbconvert_exporter": "python",
   "pygments_lexer": "ipython3",
   "version": "3.12.1"
  }
 },
 "nbformat": 4,
 "nbformat_minor": 5
}
