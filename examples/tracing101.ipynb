{
 "cells": [
  {
   "cell_type": "markdown",
   "id": "4a47fc50",
   "metadata": {},
   "source": [
    "# Tracing 101\n",
    "\n",
    "Step through this notebook to understand how tracing works in Generative AI Toolkit.\n",
    "\n",
    "The Generative AI Toolkit comes with these tracers out-of-the-box:\n"
   ]
  },
  {
   "cell_type": "code",
   "execution_count": 2,
   "id": "49e36024",
   "metadata": {},
   "outputs": [],
   "source": [
    "from generative_ai_toolkit.tracer import (\n",
    "    HumanReadableTracer,\n",
    "    InMemoryTracer,\n",
    "    IterableTracer,\n",
    "    NoopTracer,\n",
    "    StructuredLogsTracer,\n",
    "    TeeTracer,\n",
    "    Tracer,\n",
    ")\n",
    "from generative_ai_toolkit.tracer.dynamodb import DynamoDbTracer\n",
    "from generative_ai_toolkit.tracer.otlp import OtlpTracer\n"
   ]
  },
  {
   "cell_type": "code",
   "execution_count": 3,
   "id": "4ea4e83e",
   "metadata": {},
   "outputs": [],
   "source": [
    "# Other imports\n",
    "import time\n",
    "\n",
    "from generative_ai_toolkit.utils.ulid import Ulid"
   ]
  },
  {
   "cell_type": "markdown",
   "id": "30f57514",
   "metadata": {},
   "source": [
    "### `InMemoryTracer`\n",
    "\n",
    "Use the in-memory tracer for testing and development:\n"
   ]
  },
  {
   "cell_type": "code",
   "execution_count": 4,
   "id": "8c97c8df",
   "metadata": {},
   "outputs": [
    {
     "name": "stdout",
     "output_type": "stream",
     "text": [
      "Trace(span_name='parent', span_kind='INTERNAL', trace_id='adcd3c555260da3929033531e821e89c', span_id='89c916d2d63aa46a', parent_span_id=None, started_at=datetime.datetime(2025, 7, 4, 11, 12, 48, 665922, tzinfo=datetime.timezone.utc), ended_at=datetime.datetime(2025, 7, 4, 11, 12, 48, 873655, tzinfo=datetime.timezone.utc), attributes={'foo': 'bar', 'inherited.foo': 'bar'}, span_status='UNSET', resource_attributes={'service.name': 'MyAgent'}, scope=generative-ai-toolkit@current)\n",
      "\n",
      "Trace(span_name='child', span_kind='INTERNAL', trace_id='adcd3c555260da3929033531e821e89c', span_id='608c44b632ecab87', parent_span_id='89c916d2d63aa46a', started_at=datetime.datetime(2025, 7, 4, 11, 12, 48, 768497, tzinfo=datetime.timezone.utc), ended_at=datetime.datetime(2025, 7, 4, 11, 12, 48, 873590, tzinfo=datetime.timezone.utc), attributes={'bar': 'foo', 'inherited.foo': 'bar'}, span_status='UNSET', resource_attributes={'service.name': 'MyAgent'}, scope=generative-ai-toolkit@current)\n",
      "\n"
     ]
    }
   ],
   "source": [
    "in_memory_tracer = InMemoryTracer(\n",
    "    memory_size=1000  # Store max 1000 traces, before discarding older ones\n",
    ")\n",
    "\n",
    "# Context, added to all traces:\n",
    "in_memory_tracer.set_context(resource_attributes={\"service.name\": \"MyAgent\"})\n",
    "\n",
    "with in_memory_tracer.trace(\"parent\") as parent_span:\n",
    "    parent_span.add_attribute(\"foo\", \"bar\")\n",
    "    parent_span.add_attribute(\n",
    "        \"inherited.foo\",\n",
    "        \"bar\",\n",
    "        inheritable=True,  # Inheritable attributes propagate to child spans\n",
    "    )\n",
    "    time.sleep(0.1)\n",
    "\n",
    "    # Nested spans become child spans, that point to the parent (parent_span_id):\n",
    "    with in_memory_tracer.trace(\"child\") as child_span:\n",
    "        child_span.add_attribute(\"bar\", \"foo\")\n",
    "        time.sleep(0.1)\n",
    "\n",
    "for trace in in_memory_tracer.get_traces():\n",
    "    print(trace)\n",
    "    print()"
   ]
  },
  {
   "cell_type": "markdown",
   "id": "dd0e3221",
   "metadata": {},
   "source": [
    "### Printing a human-readable version of traces during development\n",
    "\n",
    "In the following example we add attributes that Generative AI Toolkit understands. It will use these to present traces in a way that is nicer to the human eye:\n"
   ]
  },
  {
   "cell_type": "code",
   "execution_count": 5,
   "id": "614dbe8f",
   "metadata": {},
   "outputs": [
    {
     "name": "stdout",
     "output_type": "stream",
     "text": [
      "\u001b[94m[94e99f04b60cea27d7b0f744b4a17d3e/root/6c894f8009912f45]\u001b[0m \u001b[96mMyAgent\u001b[0m \u001b[92mSERVER\u001b[0m 2025-07-04T11:12:48.882Z - parent\n",
      "  \u001b[93mai.conversation.id=01JZAJ75QJP9K1BFZM8SJRBB1B ai.auth.context=user123\u001b[0m\n",
      "\n",
      "\n",
      "\u001b[94m[94e99f04b60cea27d7b0f744b4a17d3e/6c894f8009912f45/681c5348bf73ae80]\u001b[0m \u001b[96mMyAgent\u001b[0m \u001b[94mINTERNAL\u001b[0m 2025-07-04T11:12:48.987Z - child\n",
      "  \u001b[93mai.trace.type=tool-invocation ai.conversation.id=01JZAJ75QJP9K1BFZM8SJRBB1B ai.auth.context=user123\u001b[0m\n",
      "\u001b[90m         Input: Hello, world!\u001b[0m\n",
      "\u001b[90m        Output: World, hello!\u001b[0m\n",
      "\n",
      "\n"
     ]
    }
   ],
   "source": [
    "conversation_id = Ulid().ulid\n",
    "\n",
    "with in_memory_tracer.trace(\"parent\", span_kind=\"SERVER\") as parent_span:\n",
    "    parent_span.add_attribute(\"ai.conversation.id\", conversation_id, inheritable=True)\n",
    "    parent_span.add_attribute(\"ai.auth.context\", {\"principal_id\":\"user123\"}, inheritable=True)\n",
    "    time.sleep(0.1)\n",
    "\n",
    "    with in_memory_tracer.trace(\"child\") as child_span:\n",
    "        child_span.add_attribute(\"ai.trace.type\", \"tool-invocation\")\n",
    "        child_span.add_attribute(\"ai.tool.input\", \"Hello, world!\")\n",
    "        child_span.add_attribute(\"ai.tool.output\", \"World, hello!\")\n",
    "        time.sleep(0.1)\n",
    "\n",
    "\n",
    "for trace in in_memory_tracer.get_traces(\n",
    "    attribute_filter={\n",
    "        \"ai.conversation.id\": conversation_id  # filter traces by conversation id\n",
    "    }\n",
    "):\n",
    "    print(trace.as_human_readable())\n",
    "    print()"
   ]
  },
  {
   "cell_type": "markdown",
   "id": "b441e914",
   "metadata": {},
   "source": [
    "### `HumanReadableTracer`\n",
    "\n",
    "You can also use the `HumanReadableTracer` that will log traces in human readable form to stdout, which is useful during development.\n",
    "\n",
    "Note that traces are logged when the span ends, so parent spans are logged after child spans (this is true for all tracers):\n"
   ]
  },
  {
   "cell_type": "code",
   "execution_count": 6,
   "id": "a35fcdaf",
   "metadata": {},
   "outputs": [
    {
     "name": "stdout",
     "output_type": "stream",
     "text": [
      "\u001b[94m[3b5a67be32c72869ce695281bdad26dd/fad7b98c935591ee/ba0711bbf950ec36]\u001b[0m \u001b[96mMyAgent\u001b[0m \u001b[94mINTERNAL\u001b[0m 2025-07-04T11:12:49.212Z - child\n",
      "  \u001b[93mai.trace.type=tool-invocation ai.conversation.id=01JZAJ75QJP9K1BFZM8SJRBB1B ai.auth.context=user123\u001b[0m\n",
      "\u001b[90m         Input: Hello, world!\u001b[0m\n",
      "\u001b[90m        Output: World, hello!\u001b[0m\n",
      "\n",
      "\u001b[94m[3b5a67be32c72869ce695281bdad26dd/root/fad7b98c935591ee]\u001b[0m \u001b[96mMyAgent\u001b[0m \u001b[92mSERVER\u001b[0m 2025-07-04T11:12:49.108Z - parent\n",
      "  \u001b[93mai.conversation.id=01JZAJ75QJP9K1BFZM8SJRBB1B ai.auth.context=user123\u001b[0m\n",
      "\n"
     ]
    }
   ],
   "source": [
    "import sys\n",
    "\n",
    "human_readable_tracer = HumanReadableTracer(stream=sys.stdout)\n",
    "\n",
    "human_readable_tracer.set_context(resource_attributes={\"service.name\": \"MyAgent\"})\n",
    "\n",
    "with human_readable_tracer.trace(\"parent\", span_kind=\"SERVER\") as parent_span:\n",
    "    parent_span.add_attribute(\"ai.conversation.id\", conversation_id, inheritable=True)\n",
    "    parent_span.add_attribute(\"ai.auth.context\", {\"principal_id\":\"user123\"}, inheritable=True)\n",
    "    time.sleep(0.1)\n",
    "\n",
    "    with human_readable_tracer.trace(\"child\") as child_span:\n",
    "        child_span.add_attribute(\"ai.trace.type\", \"tool-invocation\")\n",
    "        child_span.add_attribute(\"ai.tool.input\", \"Hello, world!\")\n",
    "        child_span.add_attribute(\"ai.tool.output\", \"World, hello!\")\n",
    "        time.sleep(0.1)"
   ]
  },
  {
   "cell_type": "markdown",
   "id": "a78c88ac",
   "metadata": {},
   "source": [
    "### `StructuredLogsTracer`\n",
    "\n",
    "Use the `StructuredLogsTracer` to log traces to stdout as JSON:\n"
   ]
  },
  {
   "cell_type": "code",
   "execution_count": 7,
   "id": "1a58232d",
   "metadata": {},
   "outputs": [
    {
     "name": "stdout",
     "output_type": "stream",
     "text": [
      "{\"logger\":\"TraceLogger\",\"level\":\"INFO\",\"message\":\"Trace\",\"trace\":{\"span_name\":\"child\",\"span_kind\":\"INTERNAL\",\"trace_id\":\"f2bb49eae88af55475fd98b3b7862ab3\",\"span_id\":\"fef4a910c00969f3\",\"parent_span_id\":\"ee2bf749c66fd317\",\"started_at\":\"2025-07-04 11:12:49.431790+00:00\",\"ended_at\":\"2025-07-04 11:12:49.535886+00:00\",\"duration_ms\":104,\"attributes\":{\"ai.trace.type\":\"tool-invocation\",\"ai.tool.input\":\"Hello, world!\",\"ai.tool.output\":\"World, hello!\",\"ai.conversation.id\":\"01JZAJ75QJP9K1BFZM8SJRBB1B\",\"ai.auth.context\":{\"principal_id\":\"user123\"}},\"span_status\":\"UNSET\",\"resource_attributes\":{\"service.name\":\"MyAgent\"},\"scope\":{\"name\":\"generative-ai-toolkit\",\"version\":\"current\"}}}\n",
      "{\"logger\":\"TraceLogger\",\"level\":\"INFO\",\"message\":\"Trace\",\"trace\":{\"span_name\":\"parent\",\"span_kind\":\"SERVER\",\"trace_id\":\"f2bb49eae88af55475fd98b3b7862ab3\",\"span_id\":\"ee2bf749c66fd317\",\"parent_span_id\":null,\"started_at\":\"2025-07-04 11:12:49.330367+00:00\",\"ended_at\":\"2025-07-04 11:12:49.536632+00:00\",\"duration_ms\":206,\"attributes\":{\"ai.conversation.id\":\"01JZAJ75QJP9K1BFZM8SJRBB1B\",\"ai.auth.context\":{\"principal_id\":\"user123\"}},\"span_status\":\"UNSET\",\"resource_attributes\":{\"service.name\":\"MyAgent\"},\"scope\":{\"name\":\"generative-ai-toolkit\",\"version\":\"current\"}}}\n"
     ]
    }
   ],
   "source": [
    "structured_logs_tracer = StructuredLogsTracer(stream=sys.stdout)\n",
    "\n",
    "structured_logs_tracer.set_context(resource_attributes={\"service.name\": \"MyAgent\"})\n",
    "\n",
    "with structured_logs_tracer.trace(\"parent\", span_kind=\"SERVER\") as parent_span:\n",
    "    parent_span.add_attribute(\"ai.conversation.id\", conversation_id, inheritable=True)\n",
    "    parent_span.add_attribute(\"ai.auth.context\", {\"principal_id\":\"user123\"}, inheritable=True)\n",
    "    time.sleep(0.1)\n",
    "\n",
    "    with structured_logs_tracer.trace(\"child\") as child_span:\n",
    "        child_span.add_attribute(\"ai.trace.type\", \"tool-invocation\")\n",
    "        child_span.add_attribute(\"ai.tool.input\", \"Hello, world!\")\n",
    "        child_span.add_attribute(\"ai.tool.output\", \"World, hello!\")\n",
    "        time.sleep(0.1)"
   ]
  },
  {
   "cell_type": "markdown",
   "id": "914db07d",
   "metadata": {},
   "source": [
    "### `DynamoDbTracer`\n",
    "\n",
    "Use the `DynamoDbTracer` to store traces to DynamoDB.\n",
    "\n",
    "To use this tracer, you should have created a table with partition key `pk` (string) and sort key `sk` (string).\n",
    "\n",
    "If you want to support getting traces by conversation ID, the table must have a GSI with partition key `conversation_id` (string) and sort key `sk` (string).\n",
    "\n",
    "For example, here's how to create such a table:\n"
   ]
  },
  {
   "cell_type": "code",
   "execution_count": 8,
   "id": "62bc3e2b",
   "metadata": {},
   "outputs": [
    {
     "name": "stdout",
     "output_type": "stream",
     "text": [
      "\n",
      "An error occurred (ResourceInUseException) when calling the CreateTable operation: Table already exists: MyTracesTable\n"
     ]
    }
   ],
   "source": [
    "!aws dynamodb create-table \\\n",
    "  --table-name MyTracesTable \\\n",
    "  --attribute-definitions \\\n",
    "    AttributeName=pk,AttributeType=S \\\n",
    "    AttributeName=sk,AttributeType=S \\\n",
    "    AttributeName=conversation_id,AttributeType=S \\\n",
    "  --key-schema \\\n",
    "    AttributeName=pk,KeyType=HASH \\\n",
    "    AttributeName=sk,KeyType=RANGE \\\n",
    "  --billing-mode PAY_PER_REQUEST \\\n",
    "  --global-secondary-indexes '[{\"IndexName\":\"conversation_index\",\"KeySchema\":[{\"AttributeName\":\"conversation_id\",\"KeyType\":\"HASH\"},{\"AttributeName\":\"sk\",\"KeyType\":\"RANGE\"}],\"Projection\":{\"ProjectionType\":\"ALL\"}}]'"
   ]
  },
  {
   "cell_type": "markdown",
   "id": "123c0ac9",
   "metadata": {},
   "source": [
    "Then, use that table in the `DynamoDbTracer`:\n"
   ]
  },
  {
   "cell_type": "code",
   "execution_count": 9,
   "id": "a4ad9e7d",
   "metadata": {},
   "outputs": [
    {
     "name": "stdout",
     "output_type": "stream",
     "text": [
      "\u001b[94m[146d4a9c8cdd77aee8dcfe4d3db41513/root/19871a56135db8ac]\u001b[0m \u001b[96mMyAgent\u001b[0m \u001b[92mSERVER\u001b[0m 2025-07-04T11:12:54.586Z - parent\n",
      "  \u001b[93mai.conversation.id=01JZAJ79NR857YAE89GF02WE2S ai.auth.context=user123\u001b[0m\n",
      "\n",
      "\n",
      "\u001b[94m[146d4a9c8cdd77aee8dcfe4d3db41513/19871a56135db8ac/dc378eb1b7c257b8]\u001b[0m \u001b[96mMyAgent\u001b[0m \u001b[94mINTERNAL\u001b[0m 2025-07-04T11:12:54.689Z - child\n",
      "  \u001b[93mai.trace.type=tool-invocation ai.conversation.id=01JZAJ79NR857YAE89GF02WE2S ai.auth.context=user123\u001b[0m\n",
      "\u001b[90m         Input: Hello, world!\u001b[0m\n",
      "\u001b[90m        Output: World, hello!\u001b[0m\n",
      "\n",
      "\n"
     ]
    }
   ],
   "source": [
    "conversation_id = Ulid().ulid\n",
    "auth_context = {\"principal_id\":\"user123\"}\n",
    "\n",
    "ddb_tracer = DynamoDbTracer(\n",
    "    table_name=\"MyTracesTable\",\n",
    "    identifier=\"MyAgent\",\n",
    "    conversation_id_gsi_name=\"conversation_index\",\n",
    ")\n",
    "\n",
    "ddb_tracer.set_context(resource_attributes={\"service.name\": \"MyAgent\"})\n",
    "\n",
    "with ddb_tracer.trace(\"parent\", span_kind=\"SERVER\") as parent_span:\n",
    "    parent_span.add_attribute(\"ai.conversation.id\", conversation_id, inheritable=True)\n",
    "    parent_span.add_attribute(\"ai.auth.context\", auth_context, inheritable=True)\n",
    "    time.sleep(0.1)\n",
    "\n",
    "    with ddb_tracer.trace(\"child\") as child_span:\n",
    "        child_span.add_attribute(\"ai.trace.type\", \"tool-invocation\")\n",
    "        child_span.add_attribute(\"ai.tool.input\", \"Hello, world!\")\n",
    "        child_span.add_attribute(\"ai.tool.output\", \"World, hello!\")\n",
    "        time.sleep(0.1)\n",
    "\n",
    "\n",
    "for trace in ddb_tracer.get_traces(\n",
    "    attribute_filter={\n",
    "        \"ai.conversation.id\": conversation_id,\n",
    "        \"ai.auth.context\": auth_context,\n",
    "    }\n",
    "):\n",
    "    print(trace.as_human_readable())\n",
    "    print()"
   ]
  },
  {
   "cell_type": "markdown",
   "id": "3a7ead57",
   "metadata": {},
   "source": [
    "### `OtlpTracer`\n",
    "\n",
    "The `OtlpTracer` logs traces in Open Telemetry protobuf format. It expects you to run an Open Telemetry collector, that it can send the traces to. By default, it expects the collector to be run on localhost port 4318.\n",
    "\n",
    "You can use the `OtlpTracer` to send traces to AWS X-Ray. To make that work, you can run the [ADOT collector](https://github.com/aws-observability/aws-otel-collector) locally:\n"
   ]
  },
  {
   "cell_type": "code",
   "execution_count": 10,
   "id": "bab55432",
   "metadata": {},
   "outputs": [],
   "source": [
    "# Create the ADOT config file:\n",
    "\n",
    "yaml_content = \"\"\"\\\n",
    "receivers:\n",
    "  otlp:\n",
    "    protocols:\n",
    "      http:\n",
    "        endpoint: 0.0.0.0:4318\n",
    "\n",
    "processors:\n",
    "  batch/traces:\n",
    "    timeout: 10s\n",
    "    send_batch_size: 50\n",
    "\n",
    "exporters:\n",
    "  awsxray:\n",
    "    region: eu-central-1\n",
    "    indexed_attributes:\n",
    "      - ai.conversation.id\n",
    "\n",
    "service:\n",
    "  pipelines:\n",
    "    traces:\n",
    "      receivers: [otlp]\n",
    "      processors: [batch/traces]\n",
    "      exporters: [awsxray]\n",
    "\"\"\"\n",
    "\n",
    "with open(\"adot-config.yaml\", \"w\") as f:\n",
    "    f.write(yaml_content)"
   ]
  },
  {
   "cell_type": "markdown",
   "id": "01f14ec7",
   "metadata": {},
   "source": [
    "Run the ADOT collector in the background. Note that the following example assumes `AWS_REGION`, `AWS_ACCESS_KEY_ID`, `AWS_SECRET_ACCESS_KEY`, `AWS_SESSION_TOKEN` are available as environment variables:\n"
   ]
  },
  {
   "cell_type": "code",
   "execution_count": 11,
   "id": "9c9ce5e4",
   "metadata": {},
   "outputs": [
    {
     "name": "stdout",
     "output_type": "stream",
     "text": [
      "WARNING: The requested image's platform (linux/amd64) does not match the detected host platform (linux/arm64/v8) and no specific platform was requested\n",
      "2ebcfa9cba8fc84de6e28e07faa92232bd82f667277eb3b2f907554902d7b248\n",
      "2025/07/04 11:12:55 ADOT Collector version: v0.43.2\n",
      "2025/07/04 11:12:56 found no extra config, skip it, err: open /opt/aws/aws-otel-collector/etc/extracfg.txt: no such file or directory\n",
      "2025/07/04 11:12:56 attn: users of the `datadog`, `logzio`, `sapm`, `signalfx` exporter components. please refer to https://github.com/aws-observability/aws-otel-collector/issues/2734 in regards to an upcoming ADOT Collector breaking change\n",
      "2025-07-04T11:12:56.055Z\tinfo\tservice@v0.117.0/service.go:164\tSetting up own telemetry...\n",
      "2025-07-04T11:12:56.058Z\tinfo\ttelemetry/metrics.go:70\tServing metrics\t{\"address\": \"localhost:8888\", \"metrics level\": \"Normal\"}\n",
      "2025-07-04T11:12:56.092Z\tinfo\tservice@v0.117.0/service.go:230\tStarting aws-otel-collector...\t{\"Version\": \"v0.43.2\", \"NumCPU\": 2}\n",
      "2025-07-04T11:12:56.092Z\tinfo\textensions/extensions.go:39\tStarting extensions...\n",
      "2025-07-04T11:12:56.094Z\tinfo\totlpreceiver@v0.117.0/otlp.go:169\tStarting HTTP server\t{\"kind\": \"receiver\", \"name\": \"otlp\", \"data_type\": \"traces\", \"endpoint\": \"0.0.0.0:4318\"}\n",
      "2025-07-04T11:12:56.095Z\tinfo\tservice@v0.117.0/service.go:253\tEverything is ready. Begin running and processing data.\n"
     ]
    }
   ],
   "source": [
    "!docker run --rm -d --name adot-collector \\\n",
    "  -p 4318:4318 \\\n",
    "  -e AWS_REGION \\\n",
    "  -e AWS_ACCESS_KEY_ID \\\n",
    "  -e AWS_SECRET_ACCESS_KEY \\\n",
    "  -e AWS_SESSION_TOKEN \\\n",
    "  -v $(pwd)/adot-config.yaml:/etc/collector-config.yaml \\\n",
    "  public.ecr.aws/aws-observability/aws-otel-collector:latest \\\n",
    "  --config=/etc/collector-config.yaml\n",
    "!sleep 2 # wait for the collector to start\n",
    "!docker logs adot-collector"
   ]
  },
  {
   "cell_type": "markdown",
   "id": "c2e299d2",
   "metadata": {},
   "source": [
    "Then, send traces to AWS X-Ray by using the `OtlpTracer`:\n"
   ]
  },
  {
   "cell_type": "code",
   "execution_count": 12,
   "id": "6e333428",
   "metadata": {},
   "outputs": [],
   "source": [
    "otlp_tracer = OtlpTracer()\n",
    "\n",
    "otlp_tracer.set_context(resource_attributes={\"service.name\": \"MyAgent\"})\n",
    "\n",
    "with otlp_tracer.trace(\"parent\", span_kind=\"SERVER\") as parent_span:\n",
    "    parent_span.add_attribute(\"ai.conversation.id\", \"123456\", inheritable=True)\n",
    "    parent_span.add_attribute(\"ai.auth.context\", {\"principal_id\":\"user123\"}, inheritable=True)\n",
    "    time.sleep(0.1)\n",
    "\n",
    "    with otlp_tracer.trace(\"child\") as child_span:\n",
    "        child_span.add_attribute(\"ai.trace.type\", \"tool-invocation\")\n",
    "        child_span.add_attribute(\"ai.tool.input\", \"Hello, world!\")\n",
    "        child_span.add_attribute(\"ai.tool.output\", \"World, hello!\")\n",
    "        time.sleep(0.1)"
   ]
  },
  {
   "cell_type": "markdown",
   "id": "52f62414",
   "metadata": {},
   "source": [
    "If that seems to work, but you don't see traces appear in AWS X-Ray, check the ADOT container logs. E.g. there may be a permission issue if your AWS credentials have expired:\n"
   ]
  },
  {
   "cell_type": "code",
   "execution_count": null,
   "id": "e1bf282a",
   "metadata": {},
   "outputs": [],
   "source": [
    "!docker logs adot-collector"
   ]
  },
  {
   "cell_type": "markdown",
   "id": "43361c6d",
   "metadata": {},
   "source": [
    "### `NoopTracer`\n",
    "\n",
    "Use the no-operation tracer when you don't want traces:\n"
   ]
  },
  {
   "cell_type": "code",
   "execution_count": 14,
   "id": "b4630086",
   "metadata": {},
   "outputs": [],
   "source": [
    "noop_tracer = NoopTracer()\n",
    "with noop_tracer.trace(\"noop\") as span:\n",
    "    span.add_attribute(\"foo\", \"bar\")\n",
    "\n",
    "# nothing was logged"
   ]
  },
  {
   "cell_type": "markdown",
   "id": "64e51fab",
   "metadata": {},
   "source": [
    "### `TeeTracer`\n",
    "\n",
    "Use the `TeeTracer` to send traces to multiple tracers at once.\n",
    "\n",
    "Note that the first tracer you add, will be the one that `get_traces()` will be delegated to. So if you want to use that method, use a tracer that supports it.\n",
    "\n",
    "Add tracers like this:\n"
   ]
  },
  {
   "cell_type": "code",
   "execution_count": 15,
   "id": "ea950cba",
   "metadata": {},
   "outputs": [
    {
     "data": {
      "text/plain": [
       "<generative_ai_toolkit.tracer.tracer.TeeTracer at 0x10c545a90>"
      ]
     },
     "execution_count": 15,
     "metadata": {},
     "output_type": "execute_result"
    }
   ],
   "source": [
    "tee_tracer = TeeTracer()\n",
    "\n",
    "# E.g. the DynamoDBTracer supports get_traces(), so add that first:\n",
    "tee_tracer.add_tracer(ddb_tracer)\n",
    "\n",
    "# add_tracer() can be chained for convenience:\n",
    "tee_tracer.add_tracer(human_readable_tracer).add_tracer(noop_tracer)"
   ]
  },
  {
   "cell_type": "markdown",
   "id": "4a7d751d",
   "metadata": {},
   "source": [
    "Then, use the `TeeTracer` as any other tracer:\n"
   ]
  },
  {
   "cell_type": "code",
   "execution_count": 16,
   "id": "f206ac46",
   "metadata": {},
   "outputs": [
    {
     "name": "stdout",
     "output_type": "stream",
     "text": [
      "==== live traces: ====\n",
      "\n",
      "\u001b[94m[ef04cce04e9d38285a49e58b14a0a1af/4dd28f3ac0a0794a/a254fde0f24d13f8]\u001b[0m \u001b[96mMyAgent\u001b[0m \u001b[94mINTERNAL\u001b[0m 2025-07-04T11:12:58.821Z - child\n",
      "  \u001b[93mai.trace.type=tool-invocation ai.conversation.id=01JZAJ7FB0TE8Y0ZX00N1SDQVV ai.auth.context=user456\u001b[0m\n",
      "\u001b[90m         Input: Hello, world!\u001b[0m\n",
      "\u001b[90m        Output: World, hello!\u001b[0m\n",
      "\n",
      "\u001b[94m[ef04cce04e9d38285a49e58b14a0a1af/root/4dd28f3ac0a0794a]\u001b[0m \u001b[96mMyAgent\u001b[0m \u001b[92mSERVER\u001b[0m 2025-07-04T11:12:58.721Z - parent\n",
      "  \u001b[93mai.conversation.id=01JZAJ7FB0TE8Y0ZX00N1SDQVV ai.auth.context=user456\u001b[0m\n",
      "\n",
      "==== traces from DynamoDB: ====\n",
      "\n",
      "\u001b[94m[ef04cce04e9d38285a49e58b14a0a1af/root/4dd28f3ac0a0794a]\u001b[0m \u001b[96mMyAgent\u001b[0m \u001b[92mSERVER\u001b[0m 2025-07-04T11:12:58.721Z - parent\n",
      "  \u001b[93mai.conversation.id=01JZAJ7FB0TE8Y0ZX00N1SDQVV ai.auth.context=user456\u001b[0m\n",
      "\n",
      "\n",
      "\u001b[94m[ef04cce04e9d38285a49e58b14a0a1af/4dd28f3ac0a0794a/a254fde0f24d13f8]\u001b[0m \u001b[96mMyAgent\u001b[0m \u001b[94mINTERNAL\u001b[0m 2025-07-04T11:12:58.821Z - child\n",
      "  \u001b[93mai.trace.type=tool-invocation ai.conversation.id=01JZAJ7FB0TE8Y0ZX00N1SDQVV ai.auth.context=user456\u001b[0m\n",
      "\u001b[90m         Input: Hello, world!\u001b[0m\n",
      "\u001b[90m        Output: World, hello!\u001b[0m\n",
      "\n",
      "\n"
     ]
    }
   ],
   "source": [
    "conversation_id = Ulid().ulid\n",
    "auth_context = {\"principal_id\":\"user456\"}\n",
    "\n",
    "tee_tracer.set_context(resource_attributes={\"service.name\": \"MyAgent\"})\n",
    "\n",
    "print(\"==== live traces: ====\\n\")\n",
    "\n",
    "with tee_tracer.trace(\"parent\", span_kind=\"SERVER\") as parent_span:\n",
    "    parent_span.add_attribute(\"ai.conversation.id\", conversation_id, inheritable=True)\n",
    "    parent_span.add_attribute(\"ai.auth.context\", auth_context, inheritable=True)\n",
    "    time.sleep(0.1)\n",
    "\n",
    "    with tee_tracer.trace(\"child\") as child_span:\n",
    "        child_span.add_attribute(\"ai.trace.type\", \"tool-invocation\")\n",
    "        child_span.add_attribute(\"ai.tool.input\", \"Hello, world!\")\n",
    "        child_span.add_attribute(\"ai.tool.output\", \"World, hello!\")\n",
    "        time.sleep(0.1)\n",
    "\n",
    "\n",
    "print(\"==== traces from DynamoDB: ====\\n\")\n",
    "for trace in tee_tracer.get_traces(\n",
    "    attribute_filter={\n",
    "        \"ai.conversation.id\": conversation_id,\n",
    "        \"ai.auth.context\": auth_context,\n",
    "    }\n",
    "):\n",
    "    print(trace.as_human_readable())\n",
    "    print()"
   ]
  },
  {
   "cell_type": "markdown",
   "id": "ab7b98b4",
   "metadata": {},
   "source": [
    "### `@traced` decorator\n",
    "\n",
    "Rather than wrapping your code inside `with` statements to add tracing, you can also you use the `@traced` decorator with your functions, to trace their execution:\n"
   ]
  },
  {
   "cell_type": "code",
   "execution_count": 17,
   "id": "a3c4c769",
   "metadata": {},
   "outputs": [],
   "source": [
    "from generative_ai_toolkit.tracer import traced\n",
    "\n",
    "in_memory_tracer = InMemoryTracer()\n",
    "\n",
    "\n",
    "@traced(\"parent\", tracer=in_memory_tracer)\n",
    "def parent_fn():\n",
    "    child_fn()\n",
    "    time.sleep(0.1)\n",
    "\n",
    "\n",
    "@traced(\"child\", tracer=in_memory_tracer)\n",
    "def child_fn():\n",
    "    time.sleep(0.1)"
   ]
  },
  {
   "cell_type": "markdown",
   "id": "51e01eb0",
   "metadata": {},
   "source": [
    "Now, when you execute these functions, they will be traced:\n"
   ]
  },
  {
   "cell_type": "code",
   "execution_count": 18,
   "id": "b74a99c4",
   "metadata": {},
   "outputs": [
    {
     "name": "stdout",
     "output_type": "stream",
     "text": [
      "Trace(span_name='parent', span_kind='INTERNAL', trace_id='e0f2948f7705263e049e50b3eece34da', span_id='51a2cf0814efe564', parent_span_id=None, started_at=datetime.datetime(2025, 7, 4, 11, 12, 59, 83700, tzinfo=datetime.timezone.utc), ended_at=datetime.datetime(2025, 7, 4, 11, 12, 59, 291396, tzinfo=datetime.timezone.utc), attributes={}, span_status='UNSET', resource_attributes={}, scope=generative-ai-toolkit@current)\n",
      "Trace(span_name='child', span_kind='INTERNAL', trace_id='e0f2948f7705263e049e50b3eece34da', span_id='fd9dac4ada737f76', parent_span_id='51a2cf0814efe564', started_at=datetime.datetime(2025, 7, 4, 11, 12, 59, 83827, tzinfo=datetime.timezone.utc), ended_at=datetime.datetime(2025, 7, 4, 11, 12, 59, 187722, tzinfo=datetime.timezone.utc), attributes={}, span_status='UNSET', resource_attributes={}, scope=generative-ai-toolkit@current)\n"
     ]
    }
   ],
   "source": [
    "parent_fn()\n",
    "\n",
    "for trace in in_memory_tracer.get_traces():\n",
    "    print(trace)"
   ]
  },
  {
   "cell_type": "markdown",
   "id": "c6edfbdc",
   "metadata": {},
   "source": [
    "In order to add attributes to the trace, you can access the `current_trace` attribute for the tracer. Accessing that attribute only works within the context of a trace:\n"
   ]
  },
  {
   "cell_type": "code",
   "execution_count": 19,
   "id": "e105f5ca",
   "metadata": {},
   "outputs": [
    {
     "name": "stdout",
     "output_type": "stream",
     "text": [
      "Trace(span_name='parent', span_kind='INTERNAL', trace_id='d607e0eae6e39063739487f1036dc80a', span_id='dbfb6da2dcd90090', parent_span_id=None, started_at=datetime.datetime(2025, 7, 4, 11, 12, 59, 298048, tzinfo=datetime.timezone.utc), ended_at=datetime.datetime(2025, 7, 4, 11, 12, 59, 507483, tzinfo=datetime.timezone.utc), attributes={'foo': 'bar'}, span_status='UNSET', resource_attributes={}, scope=generative-ai-toolkit@current)\n",
      "Trace(span_name='child', span_kind='INTERNAL', trace_id='d607e0eae6e39063739487f1036dc80a', span_id='418e067946334542', parent_span_id='dbfb6da2dcd90090', started_at=datetime.datetime(2025, 7, 4, 11, 12, 59, 298133, tzinfo=datetime.timezone.utc), ended_at=datetime.datetime(2025, 7, 4, 11, 12, 59, 402403, tzinfo=datetime.timezone.utc), attributes={'bar': 'foo', 'foo': 'bar'}, span_status='UNSET', resource_attributes={}, scope=generative-ai-toolkit@current)\n"
     ]
    }
   ],
   "source": [
    "in_memory_tracer = InMemoryTracer()\n",
    "\n",
    "\n",
    "@traced(\"parent\", tracer=in_memory_tracer)\n",
    "def parent_fn2():\n",
    "    in_memory_tracer.current_trace.add_attribute(\"foo\", \"bar\", inheritable=True)\n",
    "    child_fn2()\n",
    "    time.sleep(0.1)\n",
    "\n",
    "\n",
    "@traced(\"child\", tracer=in_memory_tracer)\n",
    "def child_fn2():\n",
    "    in_memory_tracer.current_trace.add_attribute(\"bar\", \"foo\")\n",
    "    time.sleep(0.1)\n",
    "\n",
    "\n",
    "parent_fn2()\n",
    "\n",
    "for trace in in_memory_tracer.get_traces():\n",
    "    print(trace)"
   ]
  },
  {
   "cell_type": "markdown",
   "id": "6211e95d",
   "metadata": {},
   "source": [
    "If the first argument to your function has a `tracer` attribute, you don't need to specify a `tracer` explicitly. E.g. within a class with a `tracer` attribute, you can decorate methods with `@traced`, i.e. without explicitly passing the tracer, as below:\n"
   ]
  },
  {
   "cell_type": "code",
   "execution_count": 20,
   "id": "28a248bb",
   "metadata": {},
   "outputs": [
    {
     "name": "stdout",
     "output_type": "stream",
     "text": [
      "Trace(span_name='parent_method', span_kind='INTERNAL', trace_id='b07bf6adaf0ada642cb2cf6f7a67832a', span_id='1ebb45db1c22a743', parent_span_id=None, started_at=datetime.datetime(2025, 7, 4, 11, 12, 59, 522134, tzinfo=datetime.timezone.utc), ended_at=datetime.datetime(2025, 7, 4, 11, 12, 59, 727517, tzinfo=datetime.timezone.utc), attributes={'foo': 'bar'}, span_status='UNSET', resource_attributes={}, scope=generative-ai-toolkit@current)\n",
      "Trace(span_name='child_method', span_kind='INTERNAL', trace_id='b07bf6adaf0ada642cb2cf6f7a67832a', span_id='bc1460775eafbe98', parent_span_id='1ebb45db1c22a743', started_at=datetime.datetime(2025, 7, 4, 11, 12, 59, 523157, tzinfo=datetime.timezone.utc), ended_at=datetime.datetime(2025, 7, 4, 11, 12, 59, 623815, tzinfo=datetime.timezone.utc), attributes={'bar': 'foo', 'foo': 'bar'}, span_status='UNSET', resource_attributes={}, scope=generative-ai-toolkit@current)\n"
     ]
    }
   ],
   "source": [
    "in_memory_tracer = InMemoryTracer()\n",
    "\n",
    "\n",
    "class MyAgent:\n",
    "    def __init__(self, tracer: Tracer) -> None:\n",
    "        self._tracer = tracer\n",
    "\n",
    "    @property\n",
    "    def tracer(self):\n",
    "        return self._tracer\n",
    "\n",
    "    @traced\n",
    "    def parent_method(self):\n",
    "        self.tracer.current_trace.add_attribute(\"foo\", \"bar\", inheritable=True)\n",
    "        self.child_method()\n",
    "        time.sleep(0.1)\n",
    "\n",
    "    @traced\n",
    "    def child_method(self):\n",
    "        self.tracer.current_trace.add_attribute(\"bar\", \"foo\")\n",
    "        time.sleep(0.1)\n",
    "\n",
    "\n",
    "agent = MyAgent(in_memory_tracer)\n",
    "agent.parent_method()\n",
    "\n",
    "for trace in in_memory_tracer.get_traces():\n",
    "    print(trace)"
   ]
  },
  {
   "cell_type": "markdown",
   "id": "e4ecf98f",
   "metadata": {},
   "source": [
    "### Developing your own tracer\n",
    "\n",
    "It's easy to develop your own tracers that can be used with the Generative AI Toolkit.\n",
    "\n",
    "In the simplest case, you inherit from `BaseTracer` and only have to implement the `persist` method:\n"
   ]
  },
  {
   "cell_type": "code",
   "execution_count": 21,
   "id": "c6e5ec90",
   "metadata": {},
   "outputs": [
    {
     "name": "stdout",
     "output_type": "stream",
     "text": [
      "\u001b[94m[224706b26a7661d201b69c4ab5426750/root/07744e71cd8fef0a]\u001b[0m \u001b[96m<missing service.name>\u001b[0m \u001b[94mINTERNAL\u001b[0m 2025-07-04T11:12:59.742Z - span\n",
      "\n",
      "\n"
     ]
    }
   ],
   "source": [
    "from generative_ai_toolkit.tracer import BaseTracer, Trace\n",
    "\n",
    "\n",
    "class MyTracer(BaseTracer):\n",
    "\n",
    "    def persist(self, trace: Trace):\n",
    "        print(trace.as_human_readable())  # This is what the `HumanReadableTracer` does\n",
    "\n",
    "\n",
    "my_tracer = MyTracer()\n",
    "\n",
    "with my_tracer.trace(\"span\") as span:\n",
    "    span.add_attribute(\"foo\", \"bar\")"
   ]
  },
  {
   "cell_type": "markdown",
   "id": "snapshot-heading",
   "metadata": {},
   "source": [
    "### Trace Snapshots with `IterableTracer`\n",
    "\n",
    "The Generative AI toolkit supports capturing intermediate trace states through a \"snapshot\" mechanism. This allows you to observe and analyze trace data in real-time during long-running operations, without waiting for a trace to complete.\n",
    "\n",
    "The `IterableTracer` is specifically designed to support snapshots, making it ideal for streaming processing and real-time monitoring:\n"
   ]
  },
  {
   "cell_type": "code",
   "execution_count": 22,
   "id": "snapshot-example",
   "metadata": {},
   "outputs": [
    {
     "name": "stdout",
     "output_type": "stream",
     "text": [
      "Trace processor started. Waiting for traces and snapshots...\n",
      "Received trace: long-operation (SNAPSHOT)\n",
      "  - attributes: {'status': 'starting'}\n",
      "\n",
      "Received trace: long-operation (SNAPSHOT)\n",
      "  - attributes: {'status': 'halfway', 'progress': '50%'}\n",
      "\n",
      "Received trace: long-operation (COMPLETED)\n",
      "  - attributes: {'status': 'completed', 'progress': '100%'}\n",
      "\n"
     ]
    }
   ],
   "source": [
    "import threading\n",
    "\n",
    "iterable_tracer = IterableTracer()\n",
    "\n",
    "\n",
    "# Start processing traces in a separate thread\n",
    "def trace_processor():\n",
    "    print(\"Trace processor started. Waiting for traces and snapshots...\")\n",
    "    for trace in iterable_tracer:\n",
    "        print(\n",
    "            f\"Received trace: {trace.span_name} ({trace.ended_at is None and 'SNAPSHOT' or 'COMPLETED'})\"\n",
    "        )\n",
    "        print(f\"  - attributes: {trace.attributes}\")\n",
    "        print()\n",
    "\n",
    "\n",
    "processor_thread = threading.Thread(target=trace_processor)\n",
    "processor_thread.daemon = True\n",
    "processor_thread.start()\n",
    "\n",
    "# Now use the tracer\n",
    "with iterable_tracer.trace(\"long-operation\") as trace:\n",
    "    trace.add_attribute(\"status\", \"starting\")\n",
    "    trace.emit_snapshot()  # This explicitly emits a snapshot\n",
    "    time.sleep(1)\n",
    "\n",
    "    trace.add_attribute(\"status\", \"halfway\")\n",
    "    trace.add_attribute(\"progress\", \"50%\")\n",
    "    trace.emit_snapshot()  # Emit another snapshot with updated state\n",
    "    time.sleep(1)\n",
    "\n",
    "    # When the context exits, the final state will be emitted automatically\n",
    "    trace.add_attribute(\"status\", \"completed\")\n",
    "    trace.add_attribute(\"progress\", \"100%\")\n",
    "\n",
    "# Upon calling shutdown, no new traces can be recorded.\n",
    "# Traces already emitted will still be available in the iterator\n",
    "iterable_tracer.shutdown()\n",
    "# Once the iterator is fully consumed, the thread is done\n",
    "processor_thread.join()"
   ]
  },
  {
   "cell_type": "markdown",
   "id": "snapshot-key-points",
   "metadata": {},
   "source": [
    "#### Key Points about Snapshots\n",
    "\n",
    "1. **Snapshot vs. Complete Trace**: A snapshot contains a copy of the trace at the moment `emit_snapshot()` is called, while the complete trace is emitted when the trace context exits.\n",
    "\n",
    "2. **Identifying Snapshots**: You can identify snapshots by checking if `trace.ended_at` is `None`, as snapshots don't have an end time.\n",
    "\n",
    "3. **Tracing API Support**: Only certain tracers support snapshots:\n",
    "\n",
    "   - `IterableTracer`: The primary tracer that directly supports snapshots\n",
    "   - `TeeTracer`: Will proxy snapshots to any snapshot-capable tracers in its collection\n",
    "\n",
    "4. **Custom Tracers with Snapshot Support**: To implement snapshot support in a custom tracer:\n"
   ]
  },
  {
   "cell_type": "code",
   "execution_count": 23,
   "id": "snapshot-custom-tracer",
   "metadata": {},
   "outputs": [
    {
     "name": "stdout",
     "output_type": "stream",
     "text": [
      "SNAPSHOT: snapshot-demo - {'step': 'initial'}\n",
      "SNAPSHOT: snapshot-demo - {'step': 'middle'}\n",
      "TRACE COMPLETE: snapshot-demo - {'step': 'final'}\n"
     ]
    }
   ],
   "source": [
    "from generative_ai_toolkit.tracer import BaseTracer, Trace\n",
    "\n",
    "\n",
    "class MySnapshotCapableTracer(BaseTracer):\n",
    "    def __init__(self):\n",
    "        super().__init__()\n",
    "        self.snapshot_enabled = True  # Enable snapshot support\n",
    "\n",
    "    def persist(self, trace: Trace):\n",
    "        print(f\"TRACE COMPLETE: {trace.span_name} - {trace.attributes}\")\n",
    "\n",
    "    def persist_snapshot(self, trace: Trace):\n",
    "        print(f\"SNAPSHOT: {trace.span_name} - {trace.attributes}\")\n",
    "\n",
    "\n",
    "# Usage example\n",
    "snapshot_tracer = MySnapshotCapableTracer()\n",
    "\n",
    "with snapshot_tracer.trace(\"snapshot-demo\") as trace:\n",
    "    trace.add_attribute(\"step\", \"initial\")\n",
    "    trace.emit_snapshot()\n",
    "    time.sleep(0.5)\n",
    "\n",
    "    trace.add_attribute(\"step\", \"middle\")\n",
    "    trace.emit_snapshot()\n",
    "    time.sleep(0.5)\n",
    "\n",
    "    trace.add_attribute(\"step\", \"final\")"
   ]
  },
  {
   "cell_type": "markdown",
   "id": "tee-tracer-snapshots",
   "metadata": {},
   "source": [
    "#### TeeTracer with Snapshots\n",
    "\n",
    "You can use `TeeTracer` to send snapshots to multiple trace collection systems. Note that snapshots will only be proxied to tracers that implement the `SnapshotCapableTracer` protocol and have `snapshot_enabled=True`:\n"
   ]
  },
  {
   "cell_type": "code",
   "execution_count": 24,
   "id": "tee-tracer-snapshot-example",
   "metadata": {},
   "outputs": [
    {
     "name": "stdout",
     "output_type": "stream",
     "text": [
      "SNAPSHOT: tee-snapshot-demo - {'step': 'initial'}\n",
      "TRACE COMPLETE: tee-snapshot-demo - {'step': 'final'}\n"
     ]
    }
   ],
   "source": [
    "from generative_ai_toolkit.tracer import TeeTracer\n",
    "\n",
    "# Create a composite tracer that supports snapshots\n",
    "tee_tracer = TeeTracer()\n",
    "tee_tracer.add_tracer(MySnapshotCapableTracer())  # Add our snapshot-capable tracer\n",
    "\n",
    "# Enable snapshot support on the TeeTracer\n",
    "tee_tracer.snapshot_enabled = True\n",
    "\n",
    "with tee_tracer.trace(\"tee-snapshot-demo\") as trace:\n",
    "    trace.add_attribute(\"step\", \"initial\")\n",
    "    trace.emit_snapshot()  # Will be proxied to all snapshot-capable tracers\n",
    "    time.sleep(0.5)\n",
    "\n",
    "    trace.add_attribute(\"step\", \"final\")"
   ]
  },
  {
   "cell_type": "markdown",
   "id": "snapshot-use-cases",
   "metadata": {},
   "source": [
    "#### Practical Use Cases for Snapshots\n",
    "\n",
    "1. **Streaming Responses**: Monitor progress of streaming LLM responses in real-time\n",
    "2. **Long-running Tool Calls**: Track progress of tools that take significant time to execute\n",
    "3. **User Interfaces**: Build responsive UIs that update as traces evolve\n",
    "4. **Debugging**: Capture intermediate states to diagnose complex issues\n",
    "5. **Progress Reporting**: Show operation progress to users during lengthy operations\n"
   ]
  }
 ],
 "metadata": {
  "kernelspec": {
   "display_name": "generative-ai-toolkit",
   "language": "python",
   "name": "python3"
  },
  "language_info": {
   "codemirror_mode": {
    "name": "ipython",
    "version": 3
   },
   "file_extension": ".py",
   "mimetype": "text/x-python",
   "name": "python",
   "nbconvert_exporter": "python",
   "pygments_lexer": "ipython3",
   "version": "3.13.3"
  }
 },
 "nbformat": 4,
 "nbformat_minor": 5
}
