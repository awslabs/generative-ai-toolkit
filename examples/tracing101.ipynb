{
 "cells": [
  {
   "cell_type": "markdown",
   "id": "4a47fc50",
   "metadata": {},
   "source": [
    "# Tracing 101\n",
    "\n",
    "Step through this notebook to understand how tracing works in Generative AI Toolkit.\n",
    "\n",
    "The Generative AI Toolkit comes with these tracers out-of-the-box:\n"
   ]
  },
  {
   "cell_type": "code",
   "execution_count": 1,
   "id": "49e36024",
   "metadata": {},
   "outputs": [],
   "source": [
    "from generative_ai_toolkit.tracer import (\n",
    "    NoopTracer,\n",
    "    HumanReadableTracer,\n",
    "    InMemoryTracer,\n",
    "    StructuredLogsTracer,\n",
    "    TeeTracer,\n",
    ")\n",
    "from generative_ai_toolkit.tracer.otlp import OtlpTracer\n",
    "from generative_ai_toolkit.tracer.dynamodb import DynamoDbTracer\n",
    "\n",
    "import time\n",
    "import random"
   ]
  },
  {
   "cell_type": "markdown",
   "id": "30f57514",
   "metadata": {},
   "source": [
    "### `InMemoryTracer`\n",
    "\n",
    "Use the in-memory tracer for testing and development:\n"
   ]
  },
  {
   "cell_type": "code",
   "execution_count": 2,
   "id": "8c97c8df",
   "metadata": {},
   "outputs": [
    {
     "name": "stdout",
     "output_type": "stream",
     "text": [
      "Trace(span_name='parent', span_kind='INTERNAL', trace_id='3bad5a7ffd1d9cdd1911c8c997d64eab', span_id='dedc749975a8f981', parent_span_id=None, started_at=datetime.datetime(2025, 4, 15, 11, 9, 54, 843436, tzinfo=datetime.timezone.utc), ended_at=datetime.datetime(2025, 4, 15, 11, 9, 55, 46329, tzinfo=datetime.timezone.utc), attributes={'foo': 'bar', 'inherited.foo': 'bar'}, span_status='UNSET', resource_attributes={'service.name': 'MyAgent'}, scope=generative-ai-toolkit@current)\n",
      "\n",
      "Trace(span_name='child', span_kind='INTERNAL', trace_id='3bad5a7ffd1d9cdd1911c8c997d64eab', span_id='49d704b41ed7ec4c', parent_span_id='dedc749975a8f981', started_at=datetime.datetime(2025, 4, 15, 11, 9, 54, 943975, tzinfo=datetime.timezone.utc), ended_at=datetime.datetime(2025, 4, 15, 11, 9, 55, 46285, tzinfo=datetime.timezone.utc), attributes={'bar': 'foo', 'inherited.foo': 'bar'}, span_status='UNSET', resource_attributes={'service.name': 'MyAgent'}, scope=generative-ai-toolkit@current)\n",
      "\n"
     ]
    }
   ],
   "source": [
    "in_memory_tracer = InMemoryTracer(\n",
    "    memory_size=1000  # Store max 1000 traces, before discarding older ones\n",
    ")\n",
    "\n",
    "# Context, added to all traces:\n",
    "in_memory_tracer.set_context(resource_attributes={\"service.name\": \"MyAgent\"})\n",
    "\n",
    "with in_memory_tracer.trace(\"parent\") as parent_span:\n",
    "    parent_span.add_attribute(\"foo\", \"bar\")\n",
    "    parent_span.add_attribute(\n",
    "        \"inherited.foo\",\n",
    "        \"bar\",\n",
    "        inheritable=True,  # Inheritable attributes propagate to child spans\n",
    "    )\n",
    "    time.sleep(0.1)\n",
    "\n",
    "    # Nested spans become child spans, that point to the parent (parent_span_id):\n",
    "    with in_memory_tracer.trace(\"child\") as child_span:\n",
    "        child_span.add_attribute(\"bar\", \"foo\")\n",
    "        time.sleep(0.1)\n",
    "\n",
    "for trace in in_memory_tracer.get_traces():\n",
    "    print(trace)\n",
    "    print()"
   ]
  },
  {
   "cell_type": "markdown",
   "id": "dd0e3221",
   "metadata": {},
   "source": [
    "### Printing a human-readable version of traces during development\n",
    "\n",
    "In the following example we add attributes that Generative AI Toolkit understands. It will use these to present traces in a way that is nicer to the human eye:\n"
   ]
  },
  {
   "cell_type": "code",
   "execution_count": 3,
   "id": "614dbe8f",
   "metadata": {},
   "outputs": [
    {
     "name": "stdout",
     "output_type": "stream",
     "text": [
      "\u001b[94m[60ca579122f6f8dd7e96e448b1c01450/root/18953791421dc7e8]\u001b[0m \u001b[96mMyAgent\u001b[0m \u001b[92mSERVER\u001b[0m 2025-04-15T11:09:55.052Z - parent (\u001b[93mai.conversation.id='765390' ai.auth.context='user123'\u001b[0m)\n",
      "\n",
      "\n",
      "\u001b[94m[60ca579122f6f8dd7e96e448b1c01450/18953791421dc7e8/d609dddcfac33d7e]\u001b[0m \u001b[96mMyAgent\u001b[0m \u001b[94mINTERNAL\u001b[0m 2025-04-15T11:09:55.155Z - child (\u001b[93mai.trace.type='tool-invocation' ai.conversation.id='765390' ai.auth.context='user123'\u001b[0m)\n",
      "\u001b[90m       Input: Hello, world!\u001b[0m\n",
      "\u001b[90m      Output: World, hello!\u001b[0m\n",
      "\n",
      "\n"
     ]
    }
   ],
   "source": [
    "conversation_id = random.randint(0, 1000000)\n",
    "\n",
    "with in_memory_tracer.trace(\"parent\", span_kind=\"SERVER\") as parent_span:\n",
    "    parent_span.add_attribute(\"ai.conversation.id\", conversation_id, inheritable=True)\n",
    "    parent_span.add_attribute(\"ai.auth.context\", \"user123\", inheritable=True)\n",
    "    time.sleep(0.1)\n",
    "\n",
    "    with in_memory_tracer.trace(\"child\") as child_span:\n",
    "        child_span.add_attribute(\"ai.trace.type\", \"tool-invocation\")\n",
    "        child_span.add_attribute(\"ai.tool.input\", \"Hello, world!\")\n",
    "        child_span.add_attribute(\"ai.tool.output\", \"World, hello!\")\n",
    "        time.sleep(0.1)\n",
    "\n",
    "\n",
    "for trace in in_memory_tracer.get_traces(\n",
    "    attribute_filter={\n",
    "        \"ai.conversation.id\": conversation_id  # filter traces by conversation id\n",
    "    }\n",
    "):\n",
    "    print(trace.as_human_readable())\n",
    "    print()"
   ]
  },
  {
   "cell_type": "markdown",
   "id": "b441e914",
   "metadata": {},
   "source": [
    "### `HumanReadableTracer`\n",
    "\n",
    "You can also use the `HumanReadableTracer` that will log traces in human readable form to stdout, which is useful during development.\n",
    "\n",
    "Note that traces are logged when the span ends, so parent spans are logged after child spans (this is true for all tracers):\n"
   ]
  },
  {
   "cell_type": "code",
   "execution_count": 4,
   "id": "a35fcdaf",
   "metadata": {},
   "outputs": [
    {
     "name": "stdout",
     "output_type": "stream",
     "text": [
      "\u001b[94m[9e0ddf09c6dee26a40dabea6cd18f2bd/06642bd8bf7840a5/b9a170790d35ed99]\u001b[0m \u001b[96mMyAgent\u001b[0m \u001b[94mINTERNAL\u001b[0m 2025-04-15T11:09:55.376Z - child (\u001b[93mai.trace.type='tool-invocation' ai.conversation.id='765390' ai.auth.context='user123'\u001b[0m)\n",
      "\u001b[90m       Input: Hello, world!\u001b[0m\n",
      "\u001b[90m      Output: World, hello!\u001b[0m\n",
      "\n",
      "\u001b[94m[9e0ddf09c6dee26a40dabea6cd18f2bd/root/06642bd8bf7840a5]\u001b[0m \u001b[96mMyAgent\u001b[0m \u001b[92mSERVER\u001b[0m 2025-04-15T11:09:55.271Z - parent (\u001b[93mai.conversation.id='765390' ai.auth.context='user123'\u001b[0m)\n",
      "\n"
     ]
    }
   ],
   "source": [
    "import sys\n",
    "\n",
    "human_readable_tracer = HumanReadableTracer(stream=sys.stdout)\n",
    "\n",
    "human_readable_tracer.set_context(resource_attributes={\"service.name\": \"MyAgent\"})\n",
    "\n",
    "with human_readable_tracer.trace(\"parent\", span_kind=\"SERVER\") as parent_span:\n",
    "    parent_span.add_attribute(\"ai.conversation.id\", conversation_id, inheritable=True)\n",
    "    parent_span.add_attribute(\"ai.auth.context\", \"user123\", inheritable=True)\n",
    "    time.sleep(0.1)\n",
    "\n",
    "    with human_readable_tracer.trace(\"child\") as child_span:\n",
    "        child_span.add_attribute(\"ai.trace.type\", \"tool-invocation\")\n",
    "        child_span.add_attribute(\"ai.tool.input\", \"Hello, world!\")\n",
    "        child_span.add_attribute(\"ai.tool.output\", \"World, hello!\")\n",
    "        time.sleep(0.1)"
   ]
  },
  {
   "cell_type": "markdown",
   "id": "a78c88ac",
   "metadata": {},
   "source": [
    "### `StructuredLogsTracer`\n",
    "\n",
    "Use the `StructuredLogsTracer` to log traces to stdout as JSON:\n"
   ]
  },
  {
   "cell_type": "code",
   "execution_count": 5,
   "id": "1a58232d",
   "metadata": {},
   "outputs": [
    {
     "name": "stdout",
     "output_type": "stream",
     "text": [
      "{\"logger\":\"TraceLogger\",\"level\":\"INFO\",\"message\":\"Trace\",\"trace\":{\"span_name\":\"child\",\"span_kind\":\"INTERNAL\",\"trace_id\":\"aa083321db19146ad77bf6c8a475996b\",\"span_id\":\"433160e7f8beb002\",\"parent_span_id\":\"2e6853bbd4ff1250\",\"started_at\":\"2025-04-15 11:09:55.595650+00:00\",\"ended_at\":\"2025-04-15 11:09:55.696896+00:00\",\"attributes\":{\"ai.trace.type\":\"tool-invocation\",\"ai.tool.input\":\"Hello, world!\",\"ai.tool.output\":\"World, hello!\",\"ai.conversation.id\":765390,\"ai.auth.context\":\"user123\"},\"span_status\":\"UNSET\",\"resource_attributes\":{\"service.name\":\"MyAgent\"},\"scope\":{\"name\":\"generative-ai-toolkit\",\"version\":\"current\"}}}\n",
      "{\"logger\":\"TraceLogger\",\"level\":\"INFO\",\"message\":\"Trace\",\"trace\":{\"span_name\":\"parent\",\"span_kind\":\"SERVER\",\"trace_id\":\"aa083321db19146ad77bf6c8a475996b\",\"span_id\":\"2e6853bbd4ff1250\",\"parent_span_id\":null,\"started_at\":\"2025-04-15 11:09:55.495131+00:00\",\"ended_at\":\"2025-04-15 11:09:55.697449+00:00\",\"attributes\":{\"ai.conversation.id\":765390,\"ai.auth.context\":\"user123\"},\"span_status\":\"UNSET\",\"resource_attributes\":{\"service.name\":\"MyAgent\"},\"scope\":{\"name\":\"generative-ai-toolkit\",\"version\":\"current\"}}}\n"
     ]
    }
   ],
   "source": [
    "structured_logs_tracer = StructuredLogsTracer(stream=sys.stdout)\n",
    "\n",
    "structured_logs_tracer.set_context(resource_attributes={\"service.name\": \"MyAgent\"})\n",
    "\n",
    "with structured_logs_tracer.trace(\"parent\", span_kind=\"SERVER\") as parent_span:\n",
    "    parent_span.add_attribute(\"ai.conversation.id\", conversation_id, inheritable=True)\n",
    "    parent_span.add_attribute(\"ai.auth.context\", \"user123\", inheritable=True)\n",
    "    time.sleep(0.1)\n",
    "\n",
    "    with structured_logs_tracer.trace(\"child\") as child_span:\n",
    "        child_span.add_attribute(\"ai.trace.type\", \"tool-invocation\")\n",
    "        child_span.add_attribute(\"ai.tool.input\", \"Hello, world!\")\n",
    "        child_span.add_attribute(\"ai.tool.output\", \"World, hello!\")\n",
    "        time.sleep(0.1)"
   ]
  },
  {
   "cell_type": "markdown",
   "id": "914db07d",
   "metadata": {},
   "source": [
    "### `DynamoDbTracer`\n",
    "\n",
    "Use the `DynamoDbTracer` to store traces to DynamoDB.\n",
    "\n",
    "To use this tracer, you should have created a table with partition key `pk` (string) and sort key `sk` (string).\n",
    "\n",
    "If you want to support getting traces by conversation ID, the table must have a GSI with partition key `conversation_id` (string) and sort key `sk` (string).\n",
    "\n",
    "For example, here's how to create such a table:\n"
   ]
  },
  {
   "cell_type": "code",
   "execution_count": 6,
   "id": "62bc3e2b",
   "metadata": {},
   "outputs": [
    {
     "name": "stdout",
     "output_type": "stream",
     "text": [
      "\n",
      "An error occurred (ResourceInUseException) when calling the CreateTable operation: Table already exists: MyTracesTable\n"
     ]
    }
   ],
   "source": [
    "!aws dynamodb create-table \\\n",
    "  --table-name MyTracesTable \\\n",
    "  --attribute-definitions \\\n",
    "    AttributeName=pk,AttributeType=S \\\n",
    "    AttributeName=sk,AttributeType=S \\\n",
    "    AttributeName=conversation_id,AttributeType=S \\\n",
    "  --key-schema \\\n",
    "    AttributeName=pk,KeyType=HASH \\\n",
    "    AttributeName=sk,KeyType=RANGE \\\n",
    "  --billing-mode PAY_PER_REQUEST \\\n",
    "  --global-secondary-indexes '[{\"IndexName\":\"conversation_index\",\"KeySchema\":[{\"AttributeName\":\"conversation_id\",\"KeyType\":\"HASH\"},{\"AttributeName\":\"sk\",\"KeyType\":\"RANGE\"}],\"Projection\":{\"ProjectionType\":\"ALL\"}}]'"
   ]
  },
  {
   "cell_type": "markdown",
   "id": "123c0ac9",
   "metadata": {},
   "source": [
    "Then, use that table in the `DynamoDbTracer`:\n"
   ]
  },
  {
   "cell_type": "code",
   "execution_count": 7,
   "id": "a4ad9e7d",
   "metadata": {},
   "outputs": [
    {
     "name": "stdout",
     "output_type": "stream",
     "text": [
      "\u001b[94m[147a1289ee2bab31579025727a030815/root/1d63b4ddb25c0c61]\u001b[0m \u001b[96mMyAgent\u001b[0m \u001b[92mSERVER\u001b[0m 2025-04-15T11:09:57.151Z - parent (\u001b[93mai.conversation.id='956992' ai.auth.context='user123'\u001b[0m)\n",
      "\n",
      "\n",
      "\u001b[94m[147a1289ee2bab31579025727a030815/1d63b4ddb25c0c61/841c247d3cf208a4]\u001b[0m \u001b[96mMyAgent\u001b[0m \u001b[94mINTERNAL\u001b[0m 2025-04-15T11:09:57.256Z - child (\u001b[93mai.trace.type='tool-invocation' ai.conversation.id='956992' ai.auth.context='user123'\u001b[0m)\n",
      "\u001b[90m       Input: Hello, world!\u001b[0m\n",
      "\u001b[90m      Output: World, hello!\u001b[0m\n",
      "\n",
      "\n"
     ]
    }
   ],
   "source": [
    "conversation_id = random.randint(0, 1000000)\n",
    "auth_context = \"user123\"\n",
    "\n",
    "ddb_tracer = DynamoDbTracer(\n",
    "    table_name=\"MyTracesTable\",\n",
    "    identifier=\"MyAgent\",\n",
    "    conversation_id_gsi_name=\"conversation_index\",\n",
    ")\n",
    "\n",
    "ddb_tracer.set_context(resource_attributes={\"service.name\": \"MyAgent\"})\n",
    "\n",
    "with ddb_tracer.trace(\"parent\", span_kind=\"SERVER\") as parent_span:\n",
    "    parent_span.add_attribute(\"ai.conversation.id\", conversation_id, inheritable=True)\n",
    "    parent_span.add_attribute(\"ai.auth.context\", auth_context, inheritable=True)\n",
    "    time.sleep(0.1)\n",
    "\n",
    "    with ddb_tracer.trace(\"child\") as child_span:\n",
    "        child_span.add_attribute(\"ai.trace.type\", \"tool-invocation\")\n",
    "        child_span.add_attribute(\"ai.tool.input\", \"Hello, world!\")\n",
    "        child_span.add_attribute(\"ai.tool.output\", \"World, hello!\")\n",
    "        time.sleep(0.1)\n",
    "\n",
    "\n",
    "for trace in ddb_tracer.get_traces(\n",
    "    attribute_filter={\n",
    "        \"ai.conversation.id\": conversation_id,\n",
    "        \"ai.auth.context\": auth_context,\n",
    "    }\n",
    "):\n",
    "    print(trace.as_human_readable())\n",
    "    print()"
   ]
  },
  {
   "cell_type": "markdown",
   "id": "3a7ead57",
   "metadata": {},
   "source": [
    "### `OtlpTracer`\n",
    "\n",
    "The `OtlpTracer` logs traces in Open Telemetry protobuf format. It expects you to run an Open Telemetry collector, that it can send the traces to. By default, it expects the collector to be run on localhost port 4318.\n",
    "\n",
    "You can use the `OtlpTracer` to send traces to AWS X-Ray. To make that work, you can run the [ADOT collector](https://github.com/aws-observability/aws-otel-collector) locally:\n"
   ]
  },
  {
   "cell_type": "code",
   "execution_count": 8,
   "id": "bab55432",
   "metadata": {},
   "outputs": [],
   "source": [
    "# Create the ADOT config file:\n",
    "\n",
    "yaml_content = \"\"\"\\\n",
    "receivers:\n",
    "  otlp:\n",
    "    protocols:\n",
    "      http:\n",
    "        endpoint: 0.0.0.0:4318\n",
    "\n",
    "processors:\n",
    "  batch/traces:\n",
    "    timeout: 10s\n",
    "    send_batch_size: 50\n",
    "\n",
    "exporters:\n",
    "  awsxray:\n",
    "    region: eu-central-1\n",
    "    indexed_attributes:\n",
    "      - ai.conversation.id\n",
    "\n",
    "service:\n",
    "  pipelines:\n",
    "    traces:\n",
    "      receivers: [otlp]\n",
    "      processors: [batch/traces]\n",
    "      exporters: [awsxray]\n",
    "\"\"\"\n",
    "\n",
    "with open(\"adot-config.yaml\", \"w\") as f:\n",
    "    f.write(yaml_content)"
   ]
  },
  {
   "cell_type": "markdown",
   "id": "01f14ec7",
   "metadata": {},
   "source": [
    "Run the ADOT collector in the background. Note that the following example assumes `AWS_REGION`, `AWS_ACCESS_KEY_ID`, `AWS_SECRET_ACCESS_KEY`, `AWS_SESSION_TOKEN` are available as environment variables:\n"
   ]
  },
  {
   "cell_type": "code",
   "execution_count": 9,
   "id": "9c9ce5e4",
   "metadata": {},
   "outputs": [
    {
     "name": "stdout",
     "output_type": "stream",
     "text": [
      "f42f76932426c3458619c77a7137fa86d7c7e1adee6dae9eaaec07dc3c32b559\n",
      "2025/04/15 11:09:59 ADOT Collector version: v0.43.1\n",
      "2025/04/15 11:09:59 found no extra config, skip it, err: open /opt/aws/aws-otel-collector/etc/extracfg.txt: no such file or directory\n",
      "2025/04/15 11:09:59 attn: users of the `datadog`, `logzio`, `sapm`, `signalfx` exporter components. please refer to https://github.com/aws-observability/aws-otel-collector/issues/2734 in regards to an upcoming ADOT Collector breaking change\n",
      "2025-04-15T11:09:59.873Z\tinfo\tservice@v0.117.0/service.go:164\tSetting up own telemetry...\n",
      "2025-04-15T11:09:59.873Z\tinfo\ttelemetry/metrics.go:70\tServing metrics\t{\"address\": \"localhost:8888\", \"metrics level\": \"Normal\"}\n",
      "2025-04-15T11:09:59.874Z\tinfo\tservice@v0.117.0/service.go:230\tStarting aws-otel-collector...\t{\"Version\": \"v0.43.1\", \"NumCPU\": 2}\n",
      "2025-04-15T11:09:59.874Z\tinfo\textensions/extensions.go:39\tStarting extensions...\n",
      "2025-04-15T11:09:59.874Z\tinfo\totlpreceiver@v0.117.0/otlp.go:169\tStarting HTTP server\t{\"kind\": \"receiver\", \"name\": \"otlp\", \"data_type\": \"traces\", \"endpoint\": \"0.0.0.0:4318\"}\n",
      "2025-04-15T11:09:59.874Z\tinfo\tservice@v0.117.0/service.go:253\tEverything is ready. Begin running and processing data.\n"
     ]
    }
   ],
   "source": [
    "!docker run --rm -d --name adot-collector \\\n",
    "  -p 4318:4318 \\\n",
    "  -e AWS_REGION \\\n",
    "  -e AWS_ACCESS_KEY_ID \\\n",
    "  -e AWS_SECRET_ACCESS_KEY \\\n",
    "  -e AWS_SESSION_TOKEN \\\n",
    "  -v $(pwd)/adot-config.yaml:/etc/collector-config.yaml \\\n",
    "  public.ecr.aws/aws-observability/aws-otel-collector:latest \\\n",
    "  --config=/etc/collector-config.yaml\n",
    "!sleep 2 # wait for the collector to start\n",
    "!docker logs adot-collector"
   ]
  },
  {
   "cell_type": "markdown",
   "id": "c2e299d2",
   "metadata": {},
   "source": [
    "Then, send traces to AWS X-Ray by using the `OtlpTracer`:\n"
   ]
  },
  {
   "cell_type": "code",
   "execution_count": 10,
   "id": "6e333428",
   "metadata": {},
   "outputs": [],
   "source": [
    "otlp_tracer = OtlpTracer()\n",
    "\n",
    "otlp_tracer.set_context(resource_attributes={\"service.name\": \"MyAgent\"})\n",
    "\n",
    "with otlp_tracer.trace(\"parent\", span_kind=\"SERVER\") as parent_span:\n",
    "    parent_span.add_attribute(\"ai.conversation.id\", \"123456\", inheritable=True)\n",
    "    parent_span.add_attribute(\"ai.auth.context\", \"user123\", inheritable=True)\n",
    "    time.sleep(0.1)\n",
    "\n",
    "    with otlp_tracer.trace(\"child\") as child_span:\n",
    "        child_span.add_attribute(\"ai.trace.type\", \"tool-invocation\")\n",
    "        child_span.add_attribute(\"ai.tool.input\", \"Hello, world!\")\n",
    "        child_span.add_attribute(\"ai.tool.output\", \"World, hello!\")\n",
    "        time.sleep(0.1)"
   ]
  },
  {
   "cell_type": "markdown",
   "id": "52f62414",
   "metadata": {},
   "source": [
    "If that seems to work, but you don't see traces appear in AWS X-Ray, check the ADOT container logs. E.g. there may be a permission issue:\n"
   ]
  },
  {
   "cell_type": "code",
   "execution_count": null,
   "id": "e1bf282a",
   "metadata": {},
   "outputs": [],
   "source": [
    "!docker logs adot-collector"
   ]
  },
  {
   "cell_type": "markdown",
   "id": "43361c6d",
   "metadata": {},
   "source": [
    "### `NoopTracer`\n",
    "\n",
    "Use the no-operation tracer when you don't want traces:\n"
   ]
  },
  {
   "cell_type": "code",
   "execution_count": 12,
   "id": "b4630086",
   "metadata": {},
   "outputs": [],
   "source": [
    "noop_tracer = NoopTracer()\n",
    "with noop_tracer.trace(\"noop\") as span:\n",
    "    span.add_attribute(\"foo\", \"bar\")\n",
    "\n",
    "# nothing was logged"
   ]
  },
  {
   "cell_type": "markdown",
   "id": "64e51fab",
   "metadata": {},
   "source": [
    "### `TeeTracer`\n",
    "\n",
    "Use the `TeeTracer` to send traces to multiple tracers at once.\n",
    "\n",
    "Note that the first tracer you add, will be the one that `get_traces()` will be delegated to. So if you want to use that method, use a tracer that supports it.\n",
    "\n",
    "Add tracers like this:\n"
   ]
  },
  {
   "cell_type": "code",
   "execution_count": 13,
   "id": "ea950cba",
   "metadata": {},
   "outputs": [],
   "source": [
    "tee_tracer = TeeTracer()\n",
    "\n",
    "# E.g. the DynamoDBTracer supports get_traces(), so add that first:\n",
    "tee_tracer.add_tracer(ddb_tracer)\n",
    "\n",
    "tee_tracer.add_tracer(human_readable_tracer)\n",
    "\n",
    "# This is of course useless, but added for the sake of the example:\n",
    "tee_tracer.add_tracer(noop_tracer)"
   ]
  },
  {
   "cell_type": "markdown",
   "id": "4a7d751d",
   "metadata": {},
   "source": [
    "Then, use the `TeeTracer` as any other tracer:\n"
   ]
  },
  {
   "cell_type": "code",
   "execution_count": 14,
   "id": "f206ac46",
   "metadata": {},
   "outputs": [
    {
     "name": "stdout",
     "output_type": "stream",
     "text": [
      "\u001b[94m[2396646821570baab0588b1e8c7a2682/e80248d102421237/380a960fef0195f3]\u001b[0m \u001b[96mMyAgent\u001b[0m \u001b[94mINTERNAL\u001b[0m 2025-04-15T11:10:01.163Z - child (\u001b[93mai.trace.type='tool-invocation' ai.conversation.id='269160' ai.auth.context='user456'\u001b[0m)\n",
      "\u001b[90m       Input: Hello, world!\u001b[0m\n",
      "\u001b[90m      Output: World, hello!\u001b[0m\n",
      "\n",
      "\u001b[94m[2396646821570baab0588b1e8c7a2682/root/e80248d102421237]\u001b[0m \u001b[96mMyAgent\u001b[0m \u001b[92mSERVER\u001b[0m 2025-04-15T11:10:01.058Z - parent (\u001b[93mai.conversation.id='269160' ai.auth.context='user456'\u001b[0m)\n",
      "\n",
      "==== from DynamoDB: ====\n",
      "Trace(span_name='parent', span_kind='SERVER', trace_id='2396646821570baab0588b1e8c7a2682', span_id='e80248d102421237', parent_span_id=None, started_at=datetime.datetime(2025, 4, 15, 11, 10, 1, 58239, tzinfo=datetime.timezone.utc), ended_at=datetime.datetime(2025, 4, 15, 11, 10, 1, 305444, tzinfo=datetime.timezone.utc), attributes={'ai.conversation.id': 269160, 'ai.auth.context': 'user456'}, span_status='UNSET', resource_attributes={'service.name': 'MyAgent'}, scope=generative-ai-toolkit@current)\n",
      "\n",
      "Trace(span_name='child', span_kind='INTERNAL', trace_id='2396646821570baab0588b1e8c7a2682', span_id='380a960fef0195f3', parent_span_id='e80248d102421237', started_at=datetime.datetime(2025, 4, 15, 11, 10, 1, 163434, tzinfo=datetime.timezone.utc), ended_at=datetime.datetime(2025, 4, 15, 11, 10, 1, 268540, tzinfo=datetime.timezone.utc), attributes={'ai.tool.input': 'Hello, world!', 'ai.conversation.id': 269160, 'ai.auth.context': 'user456', 'ai.trace.type': 'tool-invocation', 'ai.tool.output': 'World, hello!'}, span_status='UNSET', resource_attributes={'service.name': 'MyAgent'}, scope=generative-ai-toolkit@current)\n",
      "\n"
     ]
    }
   ],
   "source": [
    "conversation_id = random.randint(0, 1000000)\n",
    "auth_context = \"user456\"\n",
    "\n",
    "tee_tracer.set_context(resource_attributes={\"service.name\": \"MyAgent\"})\n",
    "\n",
    "with tee_tracer.trace(\"parent\", span_kind=\"SERVER\") as parent_span:\n",
    "    parent_span.add_attribute(\"ai.conversation.id\", conversation_id, inheritable=True)\n",
    "    parent_span.add_attribute(\"ai.auth.context\", auth_context, inheritable=True)\n",
    "    time.sleep(0.1)\n",
    "\n",
    "    with tee_tracer.trace(\"child\") as child_span:\n",
    "        child_span.add_attribute(\"ai.trace.type\", \"tool-invocation\")\n",
    "        child_span.add_attribute(\"ai.tool.input\", \"Hello, world!\")\n",
    "        child_span.add_attribute(\"ai.tool.output\", \"World, hello!\")\n",
    "        time.sleep(0.1)\n",
    "\n",
    "\n",
    "print(\"==== from DynamoDB: ====\")\n",
    "for trace in tee_tracer.get_traces(\n",
    "    attribute_filter={\n",
    "        \"ai.conversation.id\": conversation_id,\n",
    "        \"ai.auth.context\": auth_context,\n",
    "    }\n",
    "):\n",
    "    print(trace)\n",
    "    print()"
   ]
  }
 ],
 "metadata": {
  "kernelspec": {
   "display_name": ".venv",
   "language": "python",
   "name": "python3"
  },
  "language_info": {
   "codemirror_mode": {
    "name": "ipython",
    "version": 3
   },
   "file_extension": ".py",
   "mimetype": "text/x-python",
   "name": "python",
   "nbconvert_exporter": "python",
   "pygments_lexer": "ipython3",
   "version": "3.12.1"
  }
 },
 "nbformat": 4,
 "nbformat_minor": 5
}
