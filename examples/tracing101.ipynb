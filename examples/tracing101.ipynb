{
 "cells": [
  {
   "cell_type": "markdown",
   "id": "4a47fc50",
   "metadata": {},
   "source": [
    "# Tracing 101\n",
    "\n",
    "Step through this notebook to understand how tracing works in Generative AI Toolkit.\n",
    "\n",
    "The Generative AI Toolkit comes with these tracers out-of-the-box:\n"
   ]
  },
  {
   "cell_type": "code",
   "execution_count": 1,
   "id": "49e36024",
   "metadata": {},
   "outputs": [],
   "source": [
    "from generative_ai_toolkit.tracer import (\n",
    "    NoopTracer,\n",
    "    HumanReadableTracer,\n",
    "    InMemoryTracer,\n",
    "    StructuredLogsTracer,\n",
    "    TeeTracer,\n",
    ")\n",
    "from generative_ai_toolkit.tracer.dynamodb import DynamoDbTracer\n",
    "\n",
    "import time\n",
    "import random"
   ]
  },
  {
   "cell_type": "markdown",
   "id": "30f57514",
   "metadata": {},
   "source": [
    "### `InMemoryTracer`\n",
    "\n",
    "Use the in-memory tracer for testing and development:\n"
   ]
  },
  {
   "cell_type": "code",
   "execution_count": 2,
   "id": "8c97c8df",
   "metadata": {},
   "outputs": [
    {
     "name": "stdout",
     "output_type": "stream",
     "text": [
      "Trace(span_name='parent', span_kind='INTERNAL', trace_id='6788ebce3b411a53f2c5d496dfef686c', span_id='c005c96483c8a738', parent_span_id=None, started_at=datetime.datetime(2025, 4, 15, 8, 26, 40, 789890, tzinfo=datetime.timezone.utc), ended_at=datetime.datetime(2025, 4, 15, 8, 26, 40, 994665, tzinfo=datetime.timezone.utc), attributes={'foo': 'bar', 'inherited.foo': 'bar'}, span_status='UNSET', resource_attributes={'service.name': 'MyAgent'}, scope=generative-ai-toolkit@current)\n",
      "\n",
      "Trace(span_name='child', span_kind='INTERNAL', trace_id='6788ebce3b411a53f2c5d496dfef686c', span_id='d8088daf5d73dee9', parent_span_id='c005c96483c8a738', started_at=datetime.datetime(2025, 4, 15, 8, 26, 40, 892994, tzinfo=datetime.timezone.utc), ended_at=datetime.datetime(2025, 4, 15, 8, 26, 40, 994640, tzinfo=datetime.timezone.utc), attributes={'bar': 'foo', 'inherited.foo': 'bar'}, span_status='UNSET', resource_attributes={'service.name': 'MyAgent'}, scope=generative-ai-toolkit@current)\n",
      "\n"
     ]
    }
   ],
   "source": [
    "in_memory_tracer = InMemoryTracer(\n",
    "    memory_size=1000  # Store max 1000 traces, before discarding older ones\n",
    ")\n",
    "\n",
    "# Context, added to all traces:\n",
    "in_memory_tracer.set_context(resource_attributes={\"service.name\": \"MyAgent\"})\n",
    "\n",
    "with in_memory_tracer.trace(\"parent\") as parent_span:\n",
    "    parent_span.add_attribute(\"foo\", \"bar\")\n",
    "    parent_span.add_attribute(\n",
    "        \"inherited.foo\",\n",
    "        \"bar\",\n",
    "        inheritable=True,  # Inheritable attributes propagate to child spans\n",
    "    )\n",
    "    time.sleep(0.1)\n",
    "\n",
    "    # Nested spans become child spans, that point to the parent (parent_span_id):\n",
    "    with in_memory_tracer.trace(\"child\") as child_span:\n",
    "        child_span.add_attribute(\"bar\", \"foo\")\n",
    "        time.sleep(0.1)\n",
    "\n",
    "for trace in in_memory_tracer.get_traces():\n",
    "    print(trace)\n",
    "    print()"
   ]
  },
  {
   "cell_type": "markdown",
   "id": "dd0e3221",
   "metadata": {},
   "source": [
    "### Printing a human-readable version of traces during development\n",
    "\n",
    "In the following example we add attributes that Generative AI Toolkit understands. It will use these to present traces in a way that is nicer to the human eye:\n"
   ]
  },
  {
   "cell_type": "code",
   "execution_count": 3,
   "id": "614dbe8f",
   "metadata": {},
   "outputs": [
    {
     "name": "stdout",
     "output_type": "stream",
     "text": [
      "\u001b[94m[c3e555cdaa25abc972f0ebff1315ac29/root/ae7ee58809dc613d]\u001b[0m \u001b[96mMyAgent\u001b[0m \u001b[92mSERVER\u001b[0m 2025-04-15T08:26:41.001Z - parent (\u001b[93mai.conversation.id='150503' ai.auth.context='user123'\u001b[0m)\n",
      "\n",
      "\n",
      "\u001b[94m[c3e555cdaa25abc972f0ebff1315ac29/ae7ee58809dc613d/3b913b59a1af5cd4]\u001b[0m \u001b[96mMyAgent\u001b[0m \u001b[94mINTERNAL\u001b[0m 2025-04-15T08:26:41.106Z - child (\u001b[93mai.trace.type='tool-invocation' ai.conversation.id='150503' ai.auth.context='user123'\u001b[0m)\n",
      "\u001b[90m       Input: Hello, world!\u001b[0m\n",
      "\u001b[90m      Output: World, hello!\u001b[0m\n",
      "\n",
      "\n"
     ]
    }
   ],
   "source": [
    "conversation_id = random.randint(0, 1000000)\n",
    "\n",
    "with in_memory_tracer.trace(\"parent\", span_kind=\"SERVER\") as parent_span:\n",
    "    parent_span.add_attribute(\"ai.conversation.id\", conversation_id, inheritable=True)\n",
    "    parent_span.add_attribute(\"ai.auth.context\", \"user123\", inheritable=True)\n",
    "    time.sleep(0.1)\n",
    "\n",
    "    with in_memory_tracer.trace(\"child\") as child_span:\n",
    "        child_span.add_attribute(\"ai.trace.type\", \"tool-invocation\")\n",
    "        child_span.add_attribute(\"ai.tool.input\", \"Hello, world!\")\n",
    "        child_span.add_attribute(\"ai.tool.output\", \"World, hello!\")\n",
    "        time.sleep(0.1)\n",
    "\n",
    "\n",
    "for trace in in_memory_tracer.get_traces(\n",
    "    attribute_filter={\n",
    "        \"ai.conversation.id\": conversation_id  # filter traces by conversation id\n",
    "    }\n",
    "):\n",
    "    print(trace.as_human_readable())\n",
    "    print()"
   ]
  },
  {
   "cell_type": "markdown",
   "id": "b441e914",
   "metadata": {},
   "source": [
    "### `HumanReadableTracer`\n",
    "\n",
    "You can also use the `HumanReadableTracer` that will log traces in human readable form to stdout, which is useful during development.\n",
    "\n",
    "Note that traces are logged when the span ends, so parent spans are logged after child spans (this is true for all tracers):\n"
   ]
  },
  {
   "cell_type": "code",
   "execution_count": 4,
   "id": "a35fcdaf",
   "metadata": {},
   "outputs": [
    {
     "name": "stdout",
     "output_type": "stream",
     "text": [
      "\u001b[94m[dd51b6337050044f16089cddbd24ac27/d59c21d8e9ba7217/c18f84dce79045ac]\u001b[0m \u001b[96mMyAgent\u001b[0m \u001b[94mINTERNAL\u001b[0m 2025-04-15T08:26:41.323Z - child (\u001b[93mai.trace.type='tool-invocation' ai.conversation.id='150503' ai.auth.context='user123'\u001b[0m)\n",
      "\u001b[90m       Input: Hello, world!\u001b[0m\n",
      "\u001b[90m      Output: World, hello!\u001b[0m\n",
      "\n",
      "\u001b[94m[dd51b6337050044f16089cddbd24ac27/root/d59c21d8e9ba7217]\u001b[0m \u001b[96mMyAgent\u001b[0m \u001b[92mSERVER\u001b[0m 2025-04-15T08:26:41.218Z - parent (\u001b[93mai.conversation.id='150503' ai.auth.context='user123'\u001b[0m)\n",
      "\n"
     ]
    }
   ],
   "source": [
    "import sys\n",
    "\n",
    "human_readable_tracer = HumanReadableTracer(stream=sys.stdout)\n",
    "\n",
    "human_readable_tracer.set_context(resource_attributes={\"service.name\": \"MyAgent\"})\n",
    "\n",
    "with human_readable_tracer.trace(\"parent\", span_kind=\"SERVER\") as parent_span:\n",
    "    parent_span.add_attribute(\"ai.conversation.id\", conversation_id, inheritable=True)\n",
    "    parent_span.add_attribute(\"ai.auth.context\", \"user123\", inheritable=True)\n",
    "    time.sleep(0.1)\n",
    "\n",
    "    with human_readable_tracer.trace(\"child\") as child_span:\n",
    "        child_span.add_attribute(\"ai.trace.type\", \"tool-invocation\")\n",
    "        child_span.add_attribute(\"ai.tool.input\", \"Hello, world!\")\n",
    "        child_span.add_attribute(\"ai.tool.output\", \"World, hello!\")\n",
    "        time.sleep(0.1)"
   ]
  },
  {
   "cell_type": "markdown",
   "id": "a78c88ac",
   "metadata": {},
   "source": [
    "### `StructuredLogsTracer`\n",
    "\n",
    "Use the `StructuredLogsTracer` to log traces to stdout as JSON:\n"
   ]
  },
  {
   "cell_type": "code",
   "execution_count": 5,
   "id": "1a58232d",
   "metadata": {},
   "outputs": [
    {
     "name": "stdout",
     "output_type": "stream",
     "text": [
      "{\"logger\":\"TraceLogger\",\"level\":\"INFO\",\"message\":\"Trace\",\"trace\":{\"span_name\":\"child\",\"span_kind\":\"INTERNAL\",\"trace_id\":\"f89f248bf66e714a2a226ff80f8f5a68\",\"span_id\":\"047f0099476f696d\",\"parent_span_id\":\"2f10627c38991983\",\"started_at\":\"2025-04-15 08:26:41.543061+00:00\",\"ended_at\":\"2025-04-15 08:26:41.648045+00:00\",\"attributes\":{\"ai.trace.type\":\"tool-invocation\",\"ai.tool.input\":\"Hello, world!\",\"ai.tool.output\":\"World, hello!\",\"ai.conversation.id\":150503,\"ai.auth.context\":\"user123\"},\"span_status\":\"UNSET\",\"resource_attributes\":{\"service.name\":\"MyAgent\"},\"scope\":{\"name\":\"generative-ai-toolkit\",\"version\":\"current\"}}}\n",
      "{\"logger\":\"TraceLogger\",\"level\":\"INFO\",\"message\":\"Trace\",\"trace\":{\"span_name\":\"parent\",\"span_kind\":\"SERVER\",\"trace_id\":\"f89f248bf66e714a2a226ff80f8f5a68\",\"span_id\":\"2f10627c38991983\",\"parent_span_id\":null,\"started_at\":\"2025-04-15 08:26:41.441425+00:00\",\"ended_at\":\"2025-04-15 08:26:41.649877+00:00\",\"attributes\":{\"ai.conversation.id\":150503,\"ai.auth.context\":\"user123\"},\"span_status\":\"UNSET\",\"resource_attributes\":{\"service.name\":\"MyAgent\"},\"scope\":{\"name\":\"generative-ai-toolkit\",\"version\":\"current\"}}}\n"
     ]
    }
   ],
   "source": [
    "structured_logs_tracer = StructuredLogsTracer(stream=sys.stdout)\n",
    "\n",
    "structured_logs_tracer.set_context(resource_attributes={\"service.name\": \"MyAgent\"})\n",
    "\n",
    "with structured_logs_tracer.trace(\"parent\", span_kind=\"SERVER\") as parent_span:\n",
    "    parent_span.add_attribute(\"ai.conversation.id\", conversation_id, inheritable=True)\n",
    "    parent_span.add_attribute(\"ai.auth.context\", \"user123\", inheritable=True)\n",
    "    time.sleep(0.1)\n",
    "\n",
    "    with structured_logs_tracer.trace(\"child\") as child_span:\n",
    "        child_span.add_attribute(\"ai.trace.type\", \"tool-invocation\")\n",
    "        child_span.add_attribute(\"ai.tool.input\", \"Hello, world!\")\n",
    "        child_span.add_attribute(\"ai.tool.output\", \"World, hello!\")\n",
    "        time.sleep(0.1)"
   ]
  },
  {
   "cell_type": "markdown",
   "id": "914db07d",
   "metadata": {},
   "source": [
    "### `DynamoDbTracer`\n",
    "\n",
    "Use the `DynamoDbTracer` to store traces to DynamoDB.\n",
    "\n",
    "To use this tracer, you should have created a table with partition key `pk` (string) and sort key `sk` (string).\n",
    "\n",
    "If you want to support getting traces by conversation ID, the table must have a GSI with partition key `conversation_id` (string) and sort key `sk` (string).\n",
    "\n",
    "For example, here's how to create such a table:\n"
   ]
  },
  {
   "cell_type": "code",
   "execution_count": 6,
   "id": "62bc3e2b",
   "metadata": {},
   "outputs": [
    {
     "name": "stdout",
     "output_type": "stream",
     "text": [
      "\n",
      "An error occurred (ResourceInUseException) when calling the CreateTable operation: Table already exists: MyTracesTable\n"
     ]
    }
   ],
   "source": [
    "!aws dynamodb create-table \\\n",
    "  --table-name MyTracesTable \\\n",
    "  --attribute-definitions \\\n",
    "    AttributeName=pk,AttributeType=S \\\n",
    "    AttributeName=sk,AttributeType=S \\\n",
    "    AttributeName=conversation_id,AttributeType=S \\\n",
    "  --key-schema \\\n",
    "    AttributeName=pk,KeyType=HASH \\\n",
    "    AttributeName=sk,KeyType=RANGE \\\n",
    "  --billing-mode PAY_PER_REQUEST \\\n",
    "  --global-secondary-indexes '[{\"IndexName\":\"conversation_index\",\"KeySchema\":[{\"AttributeName\":\"conversation_id\",\"KeyType\":\"HASH\"},{\"AttributeName\":\"sk\",\"KeyType\":\"RANGE\"}],\"Projection\":{\"ProjectionType\":\"ALL\"}}]'"
   ]
  },
  {
   "cell_type": "markdown",
   "id": "123c0ac9",
   "metadata": {},
   "source": [
    "Then, use that table in the `DynamoDbTracer`:\n"
   ]
  },
  {
   "cell_type": "code",
   "execution_count": 7,
   "id": "a4ad9e7d",
   "metadata": {},
   "outputs": [
    {
     "name": "stdout",
     "output_type": "stream",
     "text": [
      "\u001b[94m[ec083b0e69ec5347ed4c55358432e83e/root/a11894377f704b43]\u001b[0m \u001b[96mMyAgent\u001b[0m \u001b[92mSERVER\u001b[0m 2025-04-15T08:26:43.105Z - parent (\u001b[93mai.conversation.id='583062' ai.auth.context='user123'\u001b[0m)\n",
      "\n",
      "\n",
      "\u001b[94m[ec083b0e69ec5347ed4c55358432e83e/a11894377f704b43/159dd6a16ce56149]\u001b[0m \u001b[96mMyAgent\u001b[0m \u001b[94mINTERNAL\u001b[0m 2025-04-15T08:26:43.210Z - child (\u001b[93mai.trace.type='tool-invocation' ai.conversation.id='583062' ai.auth.context='user123'\u001b[0m)\n",
      "\u001b[90m       Input: Hello, world!\u001b[0m\n",
      "\u001b[90m      Output: World, hello!\u001b[0m\n",
      "\n",
      "\n"
     ]
    }
   ],
   "source": [
    "conversation_id = random.randint(0, 1000000)\n",
    "auth_context = \"user123\"\n",
    "\n",
    "ddb_tracer = DynamoDbTracer(\n",
    "    table_name=\"MyTracesTable\",\n",
    "    identifier=\"MyAgent\",\n",
    "    conversation_id_gsi_name=\"conversation_index\",\n",
    ")\n",
    "\n",
    "ddb_tracer.set_context(resource_attributes={\"service.name\": \"MyAgent\"})\n",
    "\n",
    "with ddb_tracer.trace(\"parent\", span_kind=\"SERVER\") as parent_span:\n",
    "    parent_span.add_attribute(\"ai.conversation.id\", conversation_id, inheritable=True)\n",
    "    parent_span.add_attribute(\"ai.auth.context\", auth_context, inheritable=True)\n",
    "    time.sleep(0.1)\n",
    "\n",
    "    with ddb_tracer.trace(\"child\") as child_span:\n",
    "        child_span.add_attribute(\"ai.trace.type\", \"tool-invocation\")\n",
    "        child_span.add_attribute(\"ai.tool.input\", \"Hello, world!\")\n",
    "        child_span.add_attribute(\"ai.tool.output\", \"World, hello!\")\n",
    "        time.sleep(0.1)\n",
    "\n",
    "\n",
    "for trace in ddb_tracer.get_traces(\n",
    "    attribute_filter={\n",
    "        \"ai.conversation.id\": conversation_id,\n",
    "        \"ai.auth.context\": auth_context,\n",
    "    }\n",
    "):\n",
    "    print(trace.as_human_readable())\n",
    "    print()"
   ]
  },
  {
   "cell_type": "markdown",
   "id": "43361c6d",
   "metadata": {},
   "source": [
    "### `NoopTracer`\n",
    "\n",
    "Use the no-operation tracer when you don't want traces:\n"
   ]
  },
  {
   "cell_type": "code",
   "execution_count": 8,
   "id": "b4630086",
   "metadata": {},
   "outputs": [],
   "source": [
    "noop_tracer = NoopTracer()\n",
    "with noop_tracer.trace(\"noop\") as span:\n",
    "    span.add_attribute(\"foo\", \"bar\")\n",
    "\n",
    "# nothing was logged"
   ]
  },
  {
   "cell_type": "markdown",
   "id": "64e51fab",
   "metadata": {},
   "source": [
    "### `TeeTracer`\n",
    "\n",
    "Use the `TeeTracer` to send traces to multiple tracers at once.\n",
    "\n",
    "Note that the first tracer you add, will be the one that `get_traces()` will be delegated to. So if you want to use that method, use a tracer that supports it.\n",
    "\n",
    "Add tracers like this:\n"
   ]
  },
  {
   "cell_type": "code",
   "execution_count": 9,
   "id": "ea950cba",
   "metadata": {},
   "outputs": [],
   "source": [
    "tee_tracer = TeeTracer()\n",
    "\n",
    "# E.g. the DynamoDBTracer supports get_traces(), so add that first:\n",
    "tee_tracer.add_tracer(ddb_tracer)\n",
    "\n",
    "tee_tracer.add_tracer(human_readable_tracer)\n",
    "\n",
    "# This is of course useless, but added for the sake of the example:\n",
    "tee_tracer.add_tracer(noop_tracer)"
   ]
  },
  {
   "cell_type": "markdown",
   "id": "4a7d751d",
   "metadata": {},
   "source": [
    "Then, use the `TeeTracer` as any other tracer:\n"
   ]
  },
  {
   "cell_type": "code",
   "execution_count": 10,
   "id": "f206ac46",
   "metadata": {},
   "outputs": [
    {
     "name": "stdout",
     "output_type": "stream",
     "text": [
      "\u001b[94m[5e639d61c8443a5011d72256c34f6634/41c00289ba6f00fc/03fd6f32f495abcf]\u001b[0m \u001b[96mMyAgent\u001b[0m \u001b[94mINTERNAL\u001b[0m 2025-04-15T08:26:43.633Z - child (\u001b[93mai.trace.type='tool-invocation' ai.conversation.id='563083' ai.auth.context='user456'\u001b[0m)\n",
      "\u001b[90m       Input: Hello, world!\u001b[0m\n",
      "\u001b[90m      Output: World, hello!\u001b[0m\n",
      "\n",
      "\u001b[94m[5e639d61c8443a5011d72256c34f6634/root/41c00289ba6f00fc]\u001b[0m \u001b[96mMyAgent\u001b[0m \u001b[92mSERVER\u001b[0m 2025-04-15T08:26:43.528Z - parent (\u001b[93mai.conversation.id='563083' ai.auth.context='user456'\u001b[0m)\n",
      "\n",
      "==== from DynamoDB: ====\n",
      "Trace(span_name='parent', span_kind='SERVER', trace_id='5e639d61c8443a5011d72256c34f6634', span_id='41c00289ba6f00fc', parent_span_id=None, started_at=datetime.datetime(2025, 4, 15, 8, 26, 43, 528401, tzinfo=datetime.timezone.utc), ended_at=datetime.datetime(2025, 4, 15, 8, 26, 43, 764067, tzinfo=datetime.timezone.utc), attributes={'ai.conversation.id': 563083, 'ai.auth.context': 'user456'}, span_status='UNSET', resource_attributes={'service.name': 'MyAgent'}, scope=generative-ai-toolkit@current)\n",
      "\n",
      "Trace(span_name='child', span_kind='INTERNAL', trace_id='5e639d61c8443a5011d72256c34f6634', span_id='03fd6f32f495abcf', parent_span_id='41c00289ba6f00fc', started_at=datetime.datetime(2025, 4, 15, 8, 26, 43, 633769, tzinfo=datetime.timezone.utc), ended_at=datetime.datetime(2025, 4, 15, 8, 26, 43, 737126, tzinfo=datetime.timezone.utc), attributes={'ai.tool.input': 'Hello, world!', 'ai.conversation.id': 563083, 'ai.auth.context': 'user456', 'ai.trace.type': 'tool-invocation', 'ai.tool.output': 'World, hello!'}, span_status='UNSET', resource_attributes={'service.name': 'MyAgent'}, scope=generative-ai-toolkit@current)\n",
      "\n"
     ]
    }
   ],
   "source": [
    "conversation_id = random.randint(0, 1000000)\n",
    "auth_context = \"user456\"\n",
    "\n",
    "tee_tracer.set_context(resource_attributes={\"service.name\": \"MyAgent\"})\n",
    "\n",
    "with tee_tracer.trace(\"parent\", span_kind=\"SERVER\") as parent_span:\n",
    "    parent_span.add_attribute(\"ai.conversation.id\", conversation_id, inheritable=True)\n",
    "    parent_span.add_attribute(\"ai.auth.context\", auth_context, inheritable=True)\n",
    "    time.sleep(0.1)\n",
    "\n",
    "    with tee_tracer.trace(\"child\") as child_span:\n",
    "        child_span.add_attribute(\"ai.trace.type\", \"tool-invocation\")\n",
    "        child_span.add_attribute(\"ai.tool.input\", \"Hello, world!\")\n",
    "        child_span.add_attribute(\"ai.tool.output\", \"World, hello!\")\n",
    "        time.sleep(0.1)\n",
    "\n",
    "\n",
    "print(\"==== from DynamoDB: ====\")\n",
    "for trace in tee_tracer.get_traces(\n",
    "    attribute_filter={\n",
    "        \"ai.conversation.id\": conversation_id,\n",
    "        \"ai.auth.context\": auth_context,\n",
    "    }\n",
    "):\n",
    "    print(trace)\n",
    "    print()"
   ]
  }
 ],
 "metadata": {
  "kernelspec": {
   "display_name": ".venv",
   "language": "python",
   "name": "python3"
  },
  "language_info": {
   "codemirror_mode": {
    "name": "ipython",
    "version": 3
   },
   "file_extension": ".py",
   "mimetype": "text/x-python",
   "name": "python",
   "nbconvert_exporter": "python",
   "pygments_lexer": "ipython3",
   "version": "3.12.1"
  }
 },
 "nbformat": 4,
 "nbformat_minor": 5
}
