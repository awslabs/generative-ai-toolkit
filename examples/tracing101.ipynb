{
 "cells": [
  {
   "cell_type": "markdown",
   "id": "4a47fc50",
   "metadata": {},
   "source": [
    "# Tracing 101\n",
    "\n",
    "Step through this notebook to understand how tracing works in Generative AI Toolkit.\n",
    "\n",
    "The Generative AI Toolkit comes with these tracers out-of-the-box:\n"
   ]
  },
  {
   "cell_type": "code",
   "execution_count": null,
   "id": "49e36024",
   "metadata": {},
   "outputs": [],
   "source": [
    "from generative_ai_toolkit.tracer import (\n",
    "    NoopTracer,\n",
    "    HumanReadableTracer,\n",
    "    InMemoryTracer,\n",
    "    StructuredLogsTracer,\n",
    "    TeeTracer,\n",
    ")\n",
    "from generative_ai_toolkit.tracer.dynamodb import DynamoDbTracer\n",
    "\n",
    "import time\n",
    "import random"
   ]
  },
  {
   "cell_type": "markdown",
   "id": "30f57514",
   "metadata": {},
   "source": [
    "### `InMemoryTracer`\n",
    "\n",
    "Use the in-memory tracer for testing and development:\n"
   ]
  },
  {
   "cell_type": "code",
   "execution_count": null,
   "id": "8c97c8df",
   "metadata": {},
   "outputs": [],
   "source": [
    "in_memory_tracer = InMemoryTracer(\n",
    "    memory_size=1000  # Store max 1000 traces, before discarding older ones\n",
    ")\n",
    "in_memory_tracer.set_context(\n",
    "    resource_attributes={\"service.name\": \"MyAgent\"}\n",
    ")  # Context, added to all traces\n",
    "with in_memory_tracer.trace(\"parent\") as parent_span:\n",
    "    parent_span.add_attribute(\"foo\", \"bar\")\n",
    "    parent_span.add_attribute(\n",
    "        \"inherited.foo\", \"bar\", inheritable=True\n",
    "    )  # Inheritable attributes propagate to child spans\n",
    "    time.sleep(0.1)\n",
    "    with in_memory_tracer.trace(\"parent\") as child_span:\n",
    "        child_span.add_attribute(\"bar\", \"foo\")\n",
    "        time.sleep(0.1)\n",
    "for trace in in_memory_tracer.get_traces():\n",
    "    print(trace)\n",
    "    print()"
   ]
  },
  {
   "cell_type": "markdown",
   "id": "dd0e3221",
   "metadata": {},
   "source": [
    "### Printing a human-readable version of traces during development\n",
    "\n",
    "In the following example we add attributes that Generative AI Toolkit understands. It will use these to present traces in a way that is nicer to the human eye:\n"
   ]
  },
  {
   "cell_type": "code",
   "execution_count": null,
   "id": "614dbe8f",
   "metadata": {},
   "outputs": [],
   "source": [
    "conversation_id = random.randint(0, 1000000)\n",
    "\n",
    "with in_memory_tracer.trace(\"parent\", span_kind=\"SERVER\") as parent_span:\n",
    "    parent_span.add_attribute(\n",
    "        \"ai.conversation.id\", conversation_id, inheritable=True\n",
    "    )  # Inheritable attributes propagate to child spans\n",
    "    parent_span.add_attribute(\n",
    "        \"ai.auth.context\", \"user123\", inheritable=True\n",
    "    )  # Inheritable attributes propagate to child spans\n",
    "    time.sleep(0.1)\n",
    "    with in_memory_tracer.trace(\"parent\") as child_span:\n",
    "        child_span.add_attribute(\"ai.trace.type\", \"tool-invocation\")\n",
    "        child_span.add_attribute(\"ai.tool.input\", \"Hello, world!\")\n",
    "        child_span.add_attribute(\"ai.tool.output\", \"World, hello!\")\n",
    "        time.sleep(0.1)\n",
    "\n",
    "\n",
    "for trace in in_memory_tracer.get_traces(\n",
    "    attribute_filter={\n",
    "        \"ai.conversation.id\": conversation_id\n",
    "    }  # filter traces by conversation id\n",
    "):\n",
    "    print(trace.as_human_readable())\n",
    "    print()"
   ]
  },
  {
   "cell_type": "markdown",
   "id": "b441e914",
   "metadata": {},
   "source": [
    "### `HumanReadableTracer`\n",
    "\n",
    "You can also use the `HumanReadableTracer` that will log traces in human readable form to stdout, which is useful during development.\n",
    "\n",
    "Note that traces are logged when the span ends, so parent spans are logged after child spans (this is true for all tracers):\n"
   ]
  },
  {
   "cell_type": "code",
   "execution_count": null,
   "id": "a35fcdaf",
   "metadata": {},
   "outputs": [],
   "source": [
    "import sys\n",
    "\n",
    "human_readable_tracer = HumanReadableTracer(stream=sys.stdout)\n",
    "human_readable_tracer.set_context(\n",
    "    resource_attributes={\"service.name\": \"MyAgent\"}\n",
    ")  # Context, added to all traces\n",
    "with human_readable_tracer.trace(\"parent\", span_kind=\"SERVER\") as parent_span:\n",
    "    parent_span.add_attribute(\n",
    "        \"ai.conversation.id\", conversation_id, inheritable=True\n",
    "    )  # Inheritable attributes propagate to child spans\n",
    "    parent_span.add_attribute(\n",
    "        \"ai.auth.context\", \"user123\", inheritable=True\n",
    "    )  # Inheritable attributes propagate to child spans\n",
    "    time.sleep(0.1)\n",
    "    with human_readable_tracer.trace(\"parent\") as child_span:\n",
    "        child_span.add_attribute(\"ai.trace.type\", \"tool-invocation\")\n",
    "        child_span.add_attribute(\"ai.tool.input\", \"Hello, world!\")\n",
    "        child_span.add_attribute(\"ai.tool.output\", \"World, hello!\")\n",
    "        time.sleep(0.1)"
   ]
  },
  {
   "cell_type": "markdown",
   "id": "a78c88ac",
   "metadata": {},
   "source": [
    "### `StructuredLogsTracer`\n",
    "\n",
    "Use the `StructuredLogsTracer` to log traces to stdout as JSON:\n"
   ]
  },
  {
   "cell_type": "code",
   "execution_count": null,
   "id": "1a58232d",
   "metadata": {},
   "outputs": [],
   "source": [
    "structured_logs_tracer = StructuredLogsTracer(stream=sys.stdout)\n",
    "structured_logs_tracer.set_context(\n",
    "    resource_attributes={\"service.name\": \"MyAgent\"}\n",
    ")  # Context, added to all traces\n",
    "with structured_logs_tracer.trace(\"parent\", span_kind=\"SERVER\") as parent_span:\n",
    "    parent_span.add_attribute(\n",
    "        \"ai.conversation.id\", conversation_id, inheritable=True\n",
    "    )  # Inheritable attributes propagate to child spans\n",
    "    parent_span.add_attribute(\n",
    "        \"ai.auth.context\", \"user123\", inheritable=True\n",
    "    )  # Inheritable attributes propagate to child spans\n",
    "    time.sleep(0.1)\n",
    "    with structured_logs_tracer.trace(\"parent\") as child_span:\n",
    "        child_span.add_attribute(\"ai.trace.type\", \"tool-invocation\")\n",
    "        child_span.add_attribute(\"ai.tool.input\", \"Hello, world!\")\n",
    "        child_span.add_attribute(\"ai.tool.output\", \"World, hello!\")\n",
    "        time.sleep(0.1)"
   ]
  },
  {
   "cell_type": "markdown",
   "id": "914db07d",
   "metadata": {},
   "source": [
    "### `DynamoDbTracer`\n",
    "\n",
    "Use the `DynamoDbTracer` to store traces to DynamoDB.\n",
    "\n",
    "To use this tracer, you should have created a table with partition key `pk` (string) and sort key `sk` (string).\n",
    "\n",
    "If you want to support getting traces by conversation ID, the table must have a GSI with partition key `conversation_id` (string) and sort key `sk` (string).\n",
    "\n",
    "For example, here's how to create such a table:\n"
   ]
  },
  {
   "cell_type": "code",
   "execution_count": null,
   "id": "62bc3e2b",
   "metadata": {},
   "outputs": [],
   "source": [
    "!aws dynamodb create-table \\\n",
    "  --table-name MyTracesTable \\\n",
    "  --attribute-definitions \\\n",
    "    AttributeName=pk,AttributeType=S \\\n",
    "    AttributeName=sk,AttributeType=S \\\n",
    "    AttributeName=conversation_id,AttributeType=S \\\n",
    "  --key-schema \\\n",
    "    AttributeName=pk,KeyType=HASH \\\n",
    "    AttributeName=sk,KeyType=RANGE \\\n",
    "  --billing-mode PAY_PER_REQUEST \\\n",
    "  --global-secondary-indexes '[{\"IndexName\":\"conversation_index\",\"KeySchema\":[{\"AttributeName\":\"conversation_id\",\"KeyType\":\"HASH\"},{\"AttributeName\":\"sk\",\"KeyType\":\"RANGE\"}],\"Projection\":{\"ProjectionType\":\"ALL\"}}]'"
   ]
  },
  {
   "cell_type": "markdown",
   "id": "123c0ac9",
   "metadata": {},
   "source": [
    "Then, use that table in the `DynamoDbTracer`:\n"
   ]
  },
  {
   "cell_type": "code",
   "execution_count": null,
   "id": "a4ad9e7d",
   "metadata": {},
   "outputs": [],
   "source": [
    "conversation_id = random.randint(0, 1000000)\n",
    "auth_context = \"user123\"\n",
    "\n",
    "ddb_tracer = DynamoDbTracer(\n",
    "    table_name=\"MyTracesTable\",\n",
    "    identifier=\"MyAgent\",\n",
    "    conversation_id_gsi_name=\"conversation_index\",\n",
    ")\n",
    "ddb_tracer.set_context(\n",
    "    resource_attributes={\"service.name\": \"MyAgent\"}\n",
    ")  # Context, added to all traces\n",
    "with ddb_tracer.trace(\"parent\", span_kind=\"SERVER\") as parent_span:\n",
    "    parent_span.add_attribute(\n",
    "        \"ai.conversation.id\", conversation_id, inheritable=True\n",
    "    )  # Inheritable attributes propagate to child spans\n",
    "    parent_span.add_attribute(\n",
    "        \"ai.auth.context\", auth_context, inheritable=True\n",
    "    )  # Inheritable attributes propagate to child spans\n",
    "    time.sleep(0.1)\n",
    "    with ddb_tracer.trace(\"parent\") as child_span:\n",
    "        child_span.add_attribute(\"ai.trace.type\", \"tool-invocation\")\n",
    "        child_span.add_attribute(\"ai.tool.input\", \"Hello, world!\")\n",
    "        child_span.add_attribute(\"ai.tool.output\", \"World, hello!\")\n",
    "        time.sleep(0.1)\n",
    "\n",
    "\n",
    "for trace in ddb_tracer.get_traces(\n",
    "    attribute_filter={\n",
    "        \"ai.conversation.id\": conversation_id,\n",
    "        \"ai.auth.context\": auth_context,\n",
    "    }\n",
    "):\n",
    "    print(trace.as_human_readable())\n",
    "    print()"
   ]
  },
  {
   "cell_type": "markdown",
   "id": "43361c6d",
   "metadata": {},
   "source": [
    "### `NoopTracer`\n",
    "\n",
    "Use the no-operation tracer when you don't want traces:\n"
   ]
  },
  {
   "cell_type": "code",
   "execution_count": null,
   "id": "b4630086",
   "metadata": {},
   "outputs": [],
   "source": [
    "noop_tracer = NoopTracer()\n",
    "with noop_tracer.trace(\"noop\") as span:\n",
    "    span.add_attribute(\"foo\", \"bar\")\n",
    "\n",
    "# nothing was logged"
   ]
  },
  {
   "cell_type": "markdown",
   "id": "64e51fab",
   "metadata": {},
   "source": [
    "### `TeeTracer`\n",
    "\n",
    "Use the `TeeTracer` to send traces to multiple tracers at once.\n",
    "\n",
    "Note that the first tracer you add, will be the one that `get_traces()` will be delegated to. So if you want to use that method, use a tracer that supports it.\n",
    "\n",
    "Add tracers like this:\n"
   ]
  },
  {
   "cell_type": "markdown",
   "id": "0902d070",
   "metadata": {},
   "source": []
  },
  {
   "cell_type": "code",
   "execution_count": null,
   "id": "ea950cba",
   "metadata": {},
   "outputs": [],
   "source": [
    "tee_tracer = TeeTracer()\n",
    "\n",
    "tee_tracer.add_tracer(\n",
    "    ddb_tracer\n",
    ")  # The DynamoDBTracer supports get_traces(), so added first\n",
    "tee_tracer.add_tracer(human_readable_tracer)\n",
    "tee_tracer.add_tracer(\n",
    "    noop_tracer\n",
    ")  # This is of course useless, added for the sake of the example"
   ]
  },
  {
   "cell_type": "markdown",
   "id": "4a7d751d",
   "metadata": {},
   "source": [
    "Then, use the `TeeTracer` as any other tracer:\n"
   ]
  },
  {
   "cell_type": "code",
   "execution_count": null,
   "id": "f206ac46",
   "metadata": {},
   "outputs": [],
   "source": [
    "conversation_id = random.randint(0, 1000000)\n",
    "auth_context = \"user456\"\n",
    "\n",
    "tee_tracer.set_context(\n",
    "    resource_attributes={\"service.name\": \"MyAgent\"}\n",
    ")  # Context, added to all traces\n",
    "\n",
    "with tee_tracer.trace(\"parent\", span_kind=\"SERVER\") as parent_span:\n",
    "    parent_span.add_attribute(\n",
    "        \"ai.conversation.id\", conversation_id, inheritable=True\n",
    "    )  # Inheritable attributes propagate to child spans\n",
    "    parent_span.add_attribute(\n",
    "        \"ai.auth.context\", auth_context, inheritable=True\n",
    "    )  # Inheritable attributes propagate to child spans\n",
    "    time.sleep(0.1)\n",
    "    with tee_tracer.trace(\"parent\") as child_span:\n",
    "        child_span.add_attribute(\"ai.trace.type\", \"tool-invocation\")\n",
    "        child_span.add_attribute(\"ai.tool.input\", \"Hello, world!\")\n",
    "        child_span.add_attribute(\"ai.tool.output\", \"World, hello!\")\n",
    "        time.sleep(0.1)\n",
    "\n",
    "\n",
    "print(\"==== from DynamoDB: ====\")\n",
    "for trace in tee_tracer.get_traces(\n",
    "    attribute_filter={\n",
    "        \"ai.conversation.id\": conversation_id,\n",
    "        \"ai.auth.context\": auth_context,\n",
    "    }\n",
    "):\n",
    "    print(trace)\n",
    "    print()"
   ]
  }
 ],
 "metadata": {
  "kernelspec": {
   "display_name": ".venv",
   "language": "python",
   "name": "python3"
  },
  "language_info": {
   "codemirror_mode": {
    "name": "ipython",
    "version": 3
   },
   "file_extension": ".py",
   "mimetype": "text/x-python",
   "name": "python",
   "nbconvert_exporter": "python",
   "pygments_lexer": "ipython3",
   "version": "3.12.1"
  }
 },
 "nbformat": 4,
 "nbformat_minor": 5
}
