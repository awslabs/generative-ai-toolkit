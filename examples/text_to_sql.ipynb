{
 "cells": [
  {
   "cell_type": "code",
   "execution_count": 1,
   "outputs": [
    {
     "data": {
      "text/plain": "'\\nCopyright 2024 Amazon.com, Inc. and its affiliates. All Rights Reserved.\\n\\nLicensed under the Amazon Software License (the \"License\").\\nYou may not use this file except in compliance with the License.\\nA copy of the License is located at\\n\\n  https://aws.amazon.com/asl/\\n\\nor in the \"license\" file accompanying this file. This file is distributed\\non an \"AS IS\" BASIS, WITHOUT WARRANTIES OR CONDITIONS OF ANY KIND, either\\nexpress or implied. See the License for the specific language governing\\npermissions and limitations under the License.\\n'"
     },
     "execution_count": 1,
     "metadata": {},
     "output_type": "execute_result"
    }
   ],
   "source": [
    "\"\"\"\n",
    "Copyright 2024 Amazon.com, Inc. and its affiliates. All Rights Reserved.\n",
    "\n",
    "Licensed under the Amazon Software License (the \"License\").\n",
    "You may not use this file except in compliance with the License.\n",
    "A copy of the License is located at\n",
    "\n",
    "  https://aws.amazon.com/asl/\n",
    "\n",
    "or in the \"license\" file accompanying this file. This file is distributed\n",
    "on an \"AS IS\" BASIS, WITHOUT WARRANTIES OR CONDITIONS OF ANY KIND, either\n",
    "express or implied. See the License for the specific language governing\n",
    "permissions and limitations under the License.\n",
    "\"\"\""
   ],
   "metadata": {
    "collapsed": false,
    "ExecuteTime": {
     "end_time": "2024-12-11T20:08:33.081619Z",
     "start_time": "2024-12-11T20:08:33.065866Z"
    }
   },
   "id": "1fae22e723af7212"
  },
  {
   "cell_type": "markdown",
   "source": [
    "# Text To SQL Example"
   ],
   "metadata": {
    "collapsed": false
   },
   "id": "dc2c3ddc69c56c7c"
  },
  {
   "cell_type": "markdown",
   "source": [
    "# 1.0 Project Setup and Sample Data\n",
    "\n",
    "This section sets up a sample SQLite database and populates it with employee data. We will use this data as a backend for one of the agent's tools. In the Generative AI Toolkit terminology:\n",
    "\n",
    "- **Tools**: External functions or APIs the agent can use to retrieve information.\n",
    "- **Traces**: Records of interactions. Later, we will record the steps the agent takes when handling queries.\n",
    "\n",
    "We start by creating a `test_db.db` database and inserting sample employee records."
   ],
   "metadata": {
    "collapsed": false
   },
   "id": "b14637c5d5fb4964"
  },
  {
   "cell_type": "code",
   "execution_count": 2,
   "outputs": [],
   "source": [
    "import sqlite3\n",
    "\n",
    "# Connect to the test database (or create it if it doesn't exist)\n",
    "conn = sqlite3.connect(\"test_db.db\")\n",
    "cursor = conn.cursor()\n",
    "\n",
    "# Create a sample table\n",
    "cursor.execute(\"\"\"\n",
    "    CREATE TABLE IF NOT EXISTS employees (\n",
    "        id INTEGER PRIMARY KEY,\n",
    "        name TEXT,\n",
    "        department TEXT,\n",
    "        salary INTEGER\n",
    "    )\n",
    "\"\"\")\n",
    "\n",
    "# Insert sample data\n",
    "sample_data = [\n",
    "    (1, \"John Doe\", \"Sales\", 50000),\n",
    "    (2, \"Jane Smith\", \"Engineering\", 75000),\n",
    "    (3, \"Mike Johnson\", \"Sales\", 60000),\n",
    "    (4, \"Emily Brown\", \"Engineering\", 80000),\n",
    "    (5, \"David Lee\", \"Marketing\", 55000)\n",
    "]\n",
    "cursor.executemany(\"INSERT INTO employees VALUES (?, ?, ?, ?)\", sample_data)\n",
    "conn.commit()"
   ],
   "metadata": {
    "collapsed": false,
    "ExecuteTime": {
     "end_time": "2024-12-11T20:08:33.098003Z",
     "start_time": "2024-12-11T20:08:33.072569Z"
    }
   },
   "id": "1e13e3014220686a"
  },
  {
   "cell_type": "markdown",
   "source": [
    "# 2.0 Environment and Library Configuration\n",
    "\n",
    "Here we configure our environment and import the necessary components from the Generative AI Toolkit and supporting libraries. Key concepts:\n",
    "\n",
    "- **Agents**: The main interface to an LLM-based application.\n",
    "- **Conversation History**: The agent can maintain context across multiple turns.\n",
    "- **Metrics, Traces, Cases**: We will set these up for evaluating and testing the agent’s performance later on."
   ],
   "metadata": {
    "collapsed": false
   },
   "id": "8c0d8993407a6c08"
  },
  {
   "cell_type": "code",
   "execution_count": 3,
   "outputs": [],
   "source": [
    "import os\n",
    "\n",
    "os.environ[\"AWS_PROFILE\"] = \"bmw\"\n",
    "import textwrap\n",
    "\n",
    "from generative_ai_toolkit.evaluate.interactive import GenerativeAIToolkit, Permute\n",
    "from generative_ai_toolkit.agent import BedrockConverseAgent\n",
    "from generative_ai_toolkit.test import Case"
   ],
   "metadata": {
    "collapsed": false,
    "ExecuteTime": {
     "end_time": "2024-12-11T20:08:33.697292Z",
     "start_time": "2024-12-11T20:08:33.077284Z"
    }
   },
   "id": "ae3cd197c85ba610"
  },
  {
   "cell_type": "markdown",
   "source": [
    "# 3.0 Define a Tool for the Agent\n",
    "\n",
    "We create a tool that allows the agent to run SQL queries against our local database. The agent can invoke this tool when it needs information about employees. By defining this tool, we give the agent the capability to answer user queries that require database lookups."
   ],
   "metadata": {
    "collapsed": false
   },
   "id": "89687a4381a91006"
  },
  {
   "cell_type": "code",
   "execution_count": 4,
   "outputs": [],
   "source": [
    "import sqlite3\n",
    "from typing import Any, Dict\n",
    "\n",
    "\n",
    "def execute_query(sql_query: str) -> Dict[str, Any]:\n",
    "    \"\"\"\n",
    "    Executes a provided SQL query on the existing database schema.\n",
    "\n",
    "    Parameters\n",
    "    ----------\n",
    "    sql_query : str\n",
    "        The SQL query string that will be executed on the database. \n",
    "        The query should follow standard SQL syntax and can be a SELECT, INSERT, UPDATE, or DELETE query.\n",
    "\n",
    "    Returns\n",
    "    -------\n",
    "    dict\n",
    "        A dictionary containing the results of the executed query.\n",
    "        The 'columns' key contains a list of column names.\n",
    "        The 'rows' key contains the data returned from the query, where each row is represented as a list.\n",
    "    \"\"\"\n",
    "    conn = sqlite3.connect(\"test_db.db\")\n",
    "    cursor = conn.cursor()\n",
    "\n",
    "    # Execute the query\n",
    "    cursor.execute(sql_query)\n",
    "\n",
    "    # Fetch the results\n",
    "    rows = cursor.fetchall()\n",
    "\n",
    "    # Get the column names\n",
    "    columns = [description[0] for description in cursor.description]\n",
    "\n",
    "    # Convert each row from a tuple to a list\n",
    "    results = [list(row) for row in rows]\n",
    "\n",
    "    # Return the results as a dictionary\n",
    "    return {\n",
    "        \"columns\": columns,\n",
    "        \"rows\": results\n",
    "    }\n",
    "\n",
    "\n",
    "# Example usage\n",
    "tools = [\n",
    "    execute_query,\n",
    "]\n"
   ],
   "metadata": {
    "collapsed": false,
    "ExecuteTime": {
     "end_time": "2024-12-11T20:08:33.700329Z",
     "start_time": "2024-12-11T20:08:33.698502Z"
    }
   },
   "id": "1b0a1f3ae037ab3c"
  },
  {
   "cell_type": "markdown",
   "source": [
    "# 4.0 System Prompt for the Agent\n",
    "\n",
    "The system prompt guides the agent. It describes the database schema and instructs the agent to generate SQL queries and then use the `execute_query` tool to retrieve results. The prompt also includes an example to help the agent understand how to behave.\n"
   ],
   "metadata": {
    "collapsed": false
   },
   "id": "a0b1ee02da90bf05"
  },
  {
   "cell_type": "code",
   "execution_count": 5,
   "outputs": [],
   "source": [
    "###\n",
    "# System prompt\n",
    "###\n",
    "\n",
    "system_prompt = textwrap.dedent(\n",
    "    \"\"\"Here is the schema for a database: \\n\n",
    "    TABLE EMPLOYEES (\n",
    "    id INTEGER,\n",
    "    name TEXT,\n",
    "    department TEXT,\n",
    "    salary INTEGER\n",
    "    );\n",
    "    \n",
    "    \\n\\n\n",
    "    \n",
    "    Given this schema, you can use the provided tools to generate and execute SQL queries on the database.\n",
    "    Please output the SQL query first, and then use the 'execute_query' tool to run the query. The query result \n",
    "    should be formatted appropriately based on the output.\n",
    "    In natural language provide the results for the user. \\n\\n\n",
    "    \n",
    "    Example:\\n\n",
    "    User Query: List all employees in the Engineering department\\n\n",
    "    SQL Query: SELECT * FROM EMPLOYEES WHERE DEPARTMENT = 'Engineering';\n",
    "    \"\"\"\n",
    ").strip()"
   ],
   "metadata": {
    "collapsed": false,
    "ExecuteTime": {
     "end_time": "2024-12-11T20:08:33.703115Z",
     "start_time": "2024-12-11T20:08:33.701496Z"
    }
   },
   "id": "79ed1880a1dba05b"
  },
  {
   "cell_type": "markdown",
   "source": [
    "# 5.0 Define Test Cases\n",
    "\n",
    "**Cases**: Cases are repeatable tests that simulate user queries. Each case includes:\n",
    "- User inputs (prompts)\n",
    "- Expected SQL queries\n",
    "- Expected responses\n",
    "\n",
    "These cases allow us to verify that the agent produces correct queries and results consistently."
   ],
   "metadata": {
    "collapsed": false
   },
   "id": "54fd10559cde740b"
  },
  {
   "cell_type": "code",
   "execution_count": 6,
   "outputs": [],
   "source": [
    "valid_queries_responses = {\n",
    "    \"sql_case_1\": {\n",
    "        \"user_input\": \"What are the names and salaries of employees in the Marketing department?\",\n",
    "        \"sql_query\": \"SELECT name, salary FROM EMPLOYEES WHERE department = 'Marketing'\",\n",
    "        \"expected_response\": {\n",
    "            \"columns\": [\"name\", \"salary\"],\n",
    "            \"rows\": [\n",
    "                [\"David Lee\", 55000]\n",
    "            ]\n",
    "        }\n",
    "    },\n",
    "    \"sql_case_2\": {\n",
    "        \"user_input\": \"List all employees in the Engineering department\",\n",
    "        \"sql_query\": \"SELECT * FROM EMPLOYEES WHERE department = 'Engineering'\",\n",
    "        \"expected_response\": {\n",
    "            \"columns\": [\"id\", \"name\", \"department\", \"salary\"],\n",
    "            \"rows\": [\n",
    "                [2, \"Jane Smith\", \"Engineering\", 75000],\n",
    "                [4, \"Emily Brown\", \"Engineering\", 80000]\n",
    "            ]\n",
    "        }\n",
    "    }\n",
    "}\n",
    "\n",
    "\n",
    "def generate_sql_cases(valid_queries: dict) -> list[Case]:\n",
    "    \"\"\"\n",
    "    Generates a list of Case objects dynamically from the valid SQL queries.\n",
    "\n",
    "    Args:\n",
    "        valid_queries (dict): A dictionary mapping case names to SQL queries and expected responses.\n",
    "\n",
    "    Returns:\n",
    "        list[Case]: A list of dynamically generated Case objects based on the valid queries.\n",
    "    \"\"\"\n",
    "    cases = []\n",
    "\n",
    "    for case_name, query_info in valid_queries.items():\n",
    "        case = Case(\n",
    "            name=case_name,\n",
    "            user_inputs=[query_info[\"user_input\"]],\n",
    "        )\n",
    "        cases.append(case)\n",
    "\n",
    "    return cases\n",
    "\n",
    "\n",
    "# Generate the SQL cases dynamically\n",
    "cases = generate_sql_cases(valid_queries_responses)"
   ],
   "metadata": {
    "collapsed": false,
    "ExecuteTime": {
     "end_time": "2024-12-11T20:08:33.706103Z",
     "start_time": "2024-12-11T20:08:33.704400Z"
    }
   },
   "id": "35d74c1240f881b6"
  },
  {
   "cell_type": "markdown",
   "source": [
    "# 6.0 Define and Configure Metrics\n",
    "\n",
    "**Metrics**: We use metrics to evaluate the agent’s performance. For this example:\n",
    "- **SqlMetric** will verify that the agent produces correct SQL queries and returns the expected results.\n",
    "- **CostMetric** will measure the LLM invocation cost.\n",
    "\n",
    "By measuring performance across multiple runs and configurations, we ensure that our agent meets desired quality and cost criteria."
   ],
   "metadata": {
    "collapsed": false
   },
   "id": "2003afddd50142c2"
  },
  {
   "cell_type": "code",
   "execution_count": 7,
   "outputs": [],
   "source": [
    "from generative_ai_toolkit.metrics.modules.cost import CostMetric\n",
    "from generative_ai_toolkit.metrics.modules.sql import SqlMetric\n",
    "\n",
    "pricing_config = {\n",
    "    \"anthropic.claude-3-sonnet-20240229-v1:0\": {\n",
    "        \"input_cost\": 0.003,\n",
    "        \"output_cost\": 0.015,\n",
    "        \"per_token\": 1000,\n",
    "    },\n",
    "    \"anthropic.claude-3-haiku-20240307-v1:0\": {\n",
    "        \"input_cost\": 0.002,\n",
    "        \"output_cost\": 0.01,\n",
    "        \"per_token\": 1000,\n",
    "    },\n",
    "}\n",
    "cost_metric = CostMetric(pricing_config)\n",
    "\n",
    "sql_metric = SqlMetric(valid_queries_responses)\n",
    "metrics = [sql_metric, cost_metric]"
   ],
   "metadata": {
    "collapsed": false,
    "ExecuteTime": {
     "end_time": "2024-12-11T20:08:33.709735Z",
     "start_time": "2024-12-11T20:08:33.706875Z"
    }
   },
   "id": "5e0df6fb55237166"
  },
  {
   "cell_type": "markdown",
   "source": [
    "# 7.0 Generate Traces for Evaluation\n",
    "\n",
    "**Traces**: We run the defined cases against our agent to produce traces. Traces record everything:\n",
    "- The agent’s requests to the LLM\n",
    "- The tool invocations and their results\n",
    "- The final agent responses\n",
    "\n",
    "We use `GenerativeAIToolkit.generate_traces()` to run each case multiple times and with different model parameters, producing a rich dataset for evaluation.\n"
   ],
   "metadata": {
    "collapsed": false
   },
   "id": "62a0a676a99faed"
  },
  {
   "cell_type": "code",
   "execution_count": 8,
   "outputs": [],
   "source": [
    "traces = GenerativeAIToolkit.generate_traces(\n",
    "    cases=cases,\n",
    "    nr_runs_per_case=20,\n",
    "    agent_factory=BedrockConverseAgent,\n",
    "    agent_parameters={\n",
    "        \"system_prompt\": Permute(\n",
    "            [\n",
    "                system_prompt,\n",
    "                # \"\"\"You are a SQL assistant that will use the tools to execute the query.\"\"\",\n",
    "            ]\n",
    "        ),\n",
    "        \"temperature\": 0.9,\n",
    "        \"tools\": tools,\n",
    "        \"model_id\": Permute(\n",
    "            [\n",
    "                \"anthropic.claude-3-sonnet-20240229-v1:0\",\n",
    "                \"anthropic.claude-3-haiku-20240307-v1:0\",\n",
    "            ]\n",
    "        ),\n",
    "    },\n",
    ")"
   ],
   "metadata": {
    "collapsed": false,
    "ExecuteTime": {
     "end_time": "2024-12-11T20:08:33.712354Z",
     "start_time": "2024-12-11T20:08:33.710524Z"
    }
   },
   "id": "25f3f36fb321ffe0"
  },
  {
   "cell_type": "markdown",
   "source": [
    "# 8.0 Evaluate the Model Using the Metrics\n",
    "\n",
    "Now that we have traces, we run the evaluation with `GenerativeAIToolkit.eval()`:\n",
    "- **SqlMetric** checks the correctness of SQL queries and responses.\n",
    "- **CostMetric** estimates the cost of these LLM calls.\n",
    "\n",
    "This gives us a quantitative assessment of correctness and cost."
   ],
   "metadata": {
    "collapsed": false
   },
   "id": "f91748ec37733087"
  },
  {
   "cell_type": "code",
   "execution_count": 9,
   "outputs": [],
   "source": [
    "results = GenerativeAIToolkit.eval(\n",
    "    traces=traces,\n",
    "    metrics=metrics,\n",
    ")"
   ],
   "metadata": {
    "collapsed": false,
    "ExecuteTime": {
     "end_time": "2024-12-11T20:08:33.714639Z",
     "start_time": "2024-12-11T20:08:33.712633Z"
    }
   },
   "id": "bffb1135f3036ccc"
  },
  {
   "cell_type": "code",
   "execution_count": 10,
   "outputs": [
    {
     "name": "stdout",
     "output_type": "stream",
     "text": [
      "Submitted trace generation for 80 conversations (2 permutations, 2 cases, 20 runs per case)\n",
      "Done generating traces for case 0 run 15\n",
      "Done generating traces for case 0 run 4\n",
      "Done generating traces for case 0 run 14\n",
      "Done generating traces for case 0 run 13\n",
      "Done generating traces for case 0 run 11\n",
      "Done generating traces for case 0 run 3\n",
      "Done generating traces for case 0 run 5\n",
      "Done generating traces for case 0 run 1\n",
      "Done generating traces for case 0 run 9\n",
      "Done generating traces for case 0 run 0\n",
      "Done generating traces for case 0 run 2\n",
      "Done generating traces for case 0 run 6\n",
      "Done generating traces for case 0 run 0\n",
      "Done generating traces for case 0 run 10\n",
      "Done generating traces for case 0 run 12\n",
      "Done generating traces for case 0 run 2\n",
      "Done generating traces for case 0 run 1\n",
      "Done generating traces for case 0 run 7\n",
      "Done generating traces for case 0 run 5\n",
      "Done generating traces for case 0 run 4\n",
      "Done generating traces for case 0 run 3\n",
      "Done generating traces for case 0 run 8\n",
      "Done generating traces for case 0 run 8\n",
      "Done generating traces for case 0 run 17\n",
      "Done generating traces for case 0 run 9\n",
      "Done generating traces for case 0 run 7\n",
      "Done generating traces for case 0 run 18\n",
      "Done generating traces for case 0 run 6\n",
      "Done generating traces for case 0 run 10\n",
      "Done generating traces for case 0 run 13\n",
      "Done generating traces for case 0 run 11\n",
      "Done generating traces for case 0 run 12\n",
      "Done generating traces for case 0 run 14\n",
      "Done generating traces for case 0 run 16\n",
      "Done generating traces for case 0 run 15\n",
      "Done generating traces for case 0 run 18\n",
      "Done generating traces for case 0 run 17\n",
      "Done generating traces for case 0 run 16\n",
      "Done generating traces for case 0 run 19\n",
      "Done generating traces for case 0 run 19\n",
      "Done generating traces for case 1 run 8\n",
      "Done generating traces for case 1 run 0\n",
      "Done generating traces for case 1 run 4\n",
      "Done generating traces for case 1 run 6\n",
      "Done generating traces for case 1 run 2\n",
      "Done generating traces for case 1 run 9\n",
      "Done generating traces for case 1 run 10\n",
      "Done generating traces for case 1 run 12\n",
      "Done generating traces for case 1 run 0\n",
      "Done generating traces for case 1 run 7\n",
      "Done generating traces for case 1 run 1\n",
      "Done generating traces for case 1 run 2\n",
      "Done generating traces for case 1 run 3\n",
      "Done generating traces for case 1 run 5\n",
      "Done generating traces for case 1 run 14\n",
      "Done generating traces for case 1 run 3\n",
      "Done generating traces for case 1 run 4\n",
      "Done generating traces for case 1 run 13\n",
      "Done generating traces for case 1 run 11\n",
      "Done generating traces for case 1 run 5\n",
      "Done generating traces for case 1 run 17\n",
      "Done generating traces for case 1 run 6\n",
      "Done generating traces for case 1 run 7\n",
      "Done generating traces for case 1 run 19\n",
      "Done generating traces for case 1 run 10\n",
      "Done generating traces for case 1 run 15\n",
      "Done generating traces for case 1 run 9\n",
      "Done generating traces for case 1 run 16\n",
      "Done generating traces for case 1 run 11\n",
      "Done generating traces for case 1 run 12\n",
      "Done generating traces for case 1 run 8\n",
      "Done generating traces for case 1 run 13\n",
      "Done generating traces for case 1 run 14\n",
      "Done generating traces for case 1 run 15\n",
      "Done generating traces for case 1 run 17\n",
      "Done generating traces for case 1 run 19\n",
      "Done generating traces for case 1 run 16\n",
      "Done generating traces for case 1 run 18\n",
      "Done generating traces for case 1 run 18\n",
      "Done generating traces for case 1 run 1\n"
     ]
    }
   ],
   "source": [
    "list(results);"
   ],
   "metadata": {
    "collapsed": false,
    "ExecuteTime": {
     "end_time": "2024-12-11T20:08:59.906787Z",
     "start_time": "2024-12-11T20:08:33.718189Z"
    }
   },
   "id": "fd0039c18a3b4d45"
  },
  {
   "cell_type": "markdown",
   "source": [
    "# 9.0 Start the Web UI\n",
    "\n",
    "Start the local Web UI for conversation debugging. By starting the UI, we can visually inspect traces, debug interactions, and analyze metrics more interactively."
   ],
   "metadata": {
    "collapsed": false
   },
   "id": "a0a6a7c92e5a00ec"
  },
  {
   "cell_type": "code",
   "execution_count": 11,
   "outputs": [
    {
     "name": "stderr",
     "output_type": "stream",
     "text": [
      "INFO:     Started server process [76215]\n",
      "INFO:     Waiting for application startup.\n",
      "INFO:     Application startup complete.\n",
      "INFO:     Uvicorn running on http://127.0.0.1:8000 (Press CTRL+C to quit)\n"
     ]
    },
    {
     "name": "stdout",
     "output_type": "stream",
     "text": [
      "Server started successfully.\n",
      "INFO:     127.0.0.1:57979 - \"POST /conversation_traces HTTP/1.1\" 200 OK\n",
      "Traces sent successfully.\n"
     ]
    }
   ],
   "source": [
    "# Start the User Interface on localhost port 8000\n",
    "results.start_ui()"
   ],
   "metadata": {
    "collapsed": false,
    "ExecuteTime": {
     "end_time": "2024-12-11T20:09:02.210916Z",
     "start_time": "2024-12-11T20:08:59.905472Z"
    }
   },
   "id": "40b25d90eabd6034"
  },
  {
   "cell_type": "code",
   "execution_count": 12,
   "outputs": [
    {
     "name": "stdout",
     "output_type": "stream",
     "text": [
      "INFO:     127.0.0.1:57980 - \"GET /ui HTTP/1.1\" 307 Temporary Redirect\n"
     ]
    }
   ],
   "source": [
    "# Stop the User Interface on localhost port 8000\n",
    "# results.stop_ui()"
   ],
   "metadata": {
    "collapsed": false,
    "ExecuteTime": {
     "end_time": "2024-12-11T20:09:02.218484Z",
     "start_time": "2024-12-11T20:09:02.208942Z"
    }
   },
   "id": "996b52c8fd92a4e8"
  }
 ],
 "metadata": {
  "kernelspec": {
   "display_name": "Python 3",
   "language": "python",
   "name": "python3"
  },
  "language_info": {
   "codemirror_mode": {
    "name": "ipython",
    "version": 2
   },
   "file_extension": ".py",
   "mimetype": "text/x-python",
   "name": "python",
   "nbconvert_exporter": "python",
   "pygments_lexer": "ipython2",
   "version": "2.7.6"
  }
 },
 "nbformat": 4,
 "nbformat_minor": 5
}
