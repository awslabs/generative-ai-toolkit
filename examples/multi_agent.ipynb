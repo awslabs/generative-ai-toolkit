{
 "cells": [
  {
   "cell_type": "markdown",
   "id": "f5dab0de",
   "metadata": {},
   "source": [
    "# Multi-Agent\n",
    "\n",
    "This notebook demonstrates how you can use the Generative AI Toolkit to implement a multi-agent architecture.\n",
    "\n",
    "In the example here, we'll build an agent whose job it is to give the user information on the city they want to travel to.\n",
    "\n",
    "This agent, the supervisor, has two subordinate agents that it can hand tasks to:\n",
    "\n",
    "- Weather agent: to get the weather forecast for the city\n",
    "- Events agents: to get a list of upcoming concerts and other events in the city\n",
    "\n",
    "We can implement the multi-agent architecture by simply registering subordinate agents as tools with a higher-level agent. To be able to use an agent as tool, the agent must have a `name` and a `description`. Providing an `input_schema` is optional, but can be used to signal to the supervisor agent that it should send certain fields to the subordinate agent.\n",
    "\n",
    "In the example here we just have a 2-level hierarchy: one supervisor, and 2 subordinate agents. You could add more levels if you want; one of the subordinate agents could itself be a supervisor to its own set of subordinate agents."
   ]
  },
  {
   "cell_type": "code",
   "execution_count": null,
   "id": "11d08ec8",
   "metadata": {},
   "outputs": [],
   "source": [
    "import textwrap\n",
    "\n",
    "from generative_ai_toolkit.agent import BedrockConverseAgent\n",
    "from generative_ai_toolkit.ui import traces_ui"
   ]
  },
  {
   "cell_type": "markdown",
   "id": "00d4232c",
   "metadata": {},
   "source": [
    "## Weather agent"
   ]
  },
  {
   "cell_type": "code",
   "execution_count": null,
   "id": "a0df1069",
   "metadata": {},
   "outputs": [],
   "source": [
    "def get_weather(city: str):\n",
    "    \"\"\"\n",
    "    Gets the weather forecast for the provided city\n",
    "\n",
    "    Parameters\n",
    "    ---\n",
    "    city : string\n",
    "        The city to get the weather forecast for\n",
    "    \"\"\"\n",
    "    return \"Sunny\"\n",
    "\n",
    "\n",
    "weather_agent = BedrockConverseAgent(\n",
    "    model_id=\"anthropic.claude-3-haiku-20240307-v1:0\",\n",
    "    system_prompt=\"You provide the weather forecast for the specified city.\",\n",
    "    name=\"transfer_to_weather_agent\",  # will be used as the name of the tool registration, in the supervisor agent\n",
    "    description=\"Get the weather forecast for a city.\",  # will be used as the description of the tool registration, in the supervisor agent\n",
    ")\n",
    "weather_agent.register_tool(get_weather)"
   ]
  },
  {
   "cell_type": "markdown",
   "id": "b8a8e867",
   "metadata": {},
   "source": [
    "## Events agent"
   ]
  },
  {
   "cell_type": "code",
   "execution_count": null,
   "id": "0e371738",
   "metadata": {},
   "outputs": [],
   "source": [
    "def get_events(city: str):\n",
    "    \"\"\"\n",
    "    Gets upcoming events (concerts, festivals, etc) in the provided city\n",
    "\n",
    "    Parameters\n",
    "    ---\n",
    "    city : string\n",
    "        The city to get the upcoming events for\n",
    "    \"\"\"\n",
    "    return [\n",
    "        {\"name\": \"Nirvana tribute band concert\", \"when\": \"Tomorrow\"},\n",
    "        {\"name\": \"Food truck festival\", \"when\": \"Coming Saturday\"},\n",
    "        {\n",
    "            \"name\": \"Open Museum day -- all museums have free entry\",\n",
    "            \"when\": \"Coming Sunday\",\n",
    "        },\n",
    "    ]\n",
    "\n",
    "\n",
    "events_agent = BedrockConverseAgent(\n",
    "    model_id=\"anthropic.claude-3-haiku-20240307-v1:0\",\n",
    "    system_prompt=\"You provide the upcoming events for the specified city.\",\n",
    "    name=\"transfer_to_events_agent\",  # will be used as the name of the tool registration, in the supervisor agent\n",
    "    description=\"Get the upcoming events for a city.\",  # will be used as the description of the tool registration, in the supervisor agent\n",
    "    input_schema={\n",
    "        \"type\": \"object\",\n",
    "        \"properties\": {\n",
    "            \"city\": {\n",
    "                \"type\": \"string\",\n",
    "                \"description\": \"The city to get the upcoming events for\",\n",
    "            }\n",
    "        },\n",
    "        \"required\": [\n",
    "            \"city\"\n",
    "        ],  # By providing this overriding input_schema, we instruct the supervisor agent to pass the `city` field explicitly\n",
    "    },\n",
    ")\n",
    "events_agent.register_tool(get_events)"
   ]
  },
  {
   "cell_type": "markdown",
   "id": "415af9d9",
   "metadata": {},
   "source": [
    "## Supervisor agent"
   ]
  },
  {
   "cell_type": "code",
   "execution_count": null,
   "id": "13b1e2a5",
   "metadata": {},
   "outputs": [],
   "source": [
    "# You can likely improve your results, by explicitly telling the supervisor agent that it is part of a multi-agent architecture:\n",
    "multi_agent_prompt_prefix = textwrap.dedent(\n",
    "    \"\"\"\n",
    "    # Multi-Agent Supervisor Context\n",
    "\n",
    "    You are the supervisor in a multi-agent system. Your role is to coordinate specialized agents to fulfill complex user requests. Each agent under your supervision is responsible for a distinct capability or domain.\n",
    "\n",
    "    When appropriate, delegate sub-tasks to the relevant agents by providing them with focused instructions. Aggregate their responses and synthesize a final answer for the user.\n",
    "\n",
    "    Do not reveal the existence of subordinate agents or that task delegation has occurred. Your responses should appear as a single, seamless reply from one intelligent assistant.\n",
    "    \"\"\"\n",
    ").strip()\n",
    "\n",
    "supervisor = BedrockConverseAgent(\n",
    "    model_id=\"eu.anthropic.claude-3-7-sonnet-20250219-v1:0\",\n",
    "    system_prompt=textwrap.dedent(\n",
    "        \"\"\"\n",
    "        {multi_agent_prompt_prefix}\n",
    "\n",
    "        # Instruction\n",
    "\n",
    "        You provide users current information on cities that they may want to visit.\n",
    "        \"\"\"\n",
    "    )\n",
    "    .format(multi_agent_prompt_prefix=multi_agent_prompt_prefix)\n",
    "    .strip(),\n",
    ")\n",
    "supervisor.register_tool(weather_agent)\n",
    "supervisor.register_tool(events_agent)"
   ]
  },
  {
   "cell_type": "markdown",
   "id": "4591feff",
   "metadata": {},
   "source": [
    "## Chat with the supervisor agent\n",
    "\n",
    "The supervisor agent will use the subordinate agents to help the user:"
   ]
  },
  {
   "cell_type": "code",
   "execution_count": null,
   "id": "a97833df",
   "metadata": {},
   "outputs": [],
   "source": [
    "supervisor.reset()\n",
    "for chunk in supervisor.converse_stream(\n",
    "    \"I want to visit Amsterdam. Tell me the weather and events please\"\n",
    "):\n",
    "    print(chunk, end=\"\")"
   ]
  },
  {
   "cell_type": "markdown",
   "id": "1098c9a7",
   "metadata": {},
   "source": [
    "## Tracing\n",
    "\n",
    "Each agent has its own set of traces that you can inspect"
   ]
  },
  {
   "cell_type": "code",
   "execution_count": null,
   "id": "f076f550",
   "metadata": {},
   "outputs": [],
   "source": [
    "supervisor_ui = traces_ui(supervisor.traces)\n",
    "supervisor_ui.launch()"
   ]
  },
  {
   "cell_type": "code",
   "execution_count": null,
   "id": "995050bc",
   "metadata": {},
   "outputs": [],
   "source": [
    "weather_agent_ui = traces_ui(weather_agent.traces)\n",
    "weather_agent_ui.launch()"
   ]
  },
  {
   "cell_type": "code",
   "execution_count": null,
   "id": "bc2a53db",
   "metadata": {},
   "outputs": [],
   "source": [
    "events_agent_ui = traces_ui(events_agent.traces)\n",
    "events_agent_ui.launch()"
   ]
  }
 ],
 "metadata": {
  "kernelspec": {
   "display_name": ".venv",
   "language": "python",
   "name": "python3"
  },
  "language_info": {
   "codemirror_mode": {
    "name": "ipython",
    "version": 3
   },
   "file_extension": ".py",
   "mimetype": "text/x-python",
   "name": "python",
   "nbconvert_exporter": "python",
   "pygments_lexer": "ipython3",
   "version": "3.13.3"
  }
 },
 "nbformat": 4,
 "nbformat_minor": 5
}
